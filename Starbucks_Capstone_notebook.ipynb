{
 "cells": [
  {
   "cell_type": "markdown",
   "metadata": {},
   "source": [
    "# Starbucks Capstone Challenge\n",
    "\n",
    "### Introduction\n",
    "\n",
    "This data set contains simulated data that mimics customer behavior on the Starbucks rewards mobile app. Once every few days, Starbucks sends out an offer to users of the mobile app. An offer can be merely an advertisement for a drink or an actual offer such as a discount or BOGO (buy one get one free). Some users might not receive any offer during certain weeks. \n",
    "\n",
    "Not all users receive the same offer, and that is the challenge to solve with this data set.\n",
    "\n",
    "Your task is to combine transaction, demographic and offer data to determine which demographic groups respond best to which offer type. This data set is a simplified version of the real Starbucks app because the underlying simulator only has one product whereas Starbucks actually sells dozens of products.\n",
    "\n",
    "Every offer has a validity period before the offer expires. As an example, a BOGO offer might be valid for only 5 days. You'll see in the data set that informational offers have a validity period even though these ads are merely providing information about a product; for example, if an informational offer has 7 days of validity, you can assume the customer is feeling the influence of the offer for 7 days after receiving the advertisement.\n",
    "\n",
    "You'll be given transactional data showing user purchases made on the app including the timestamp of purchase and the amount of money spent on a purchase. This transactional data also has a record for each offer that a user receives as well as a record for when a user actually views the offer. There are also records for when a user completes an offer. \n",
    "\n",
    "Keep in mind as well that someone using the app might make a purchase through the app without having received an offer or seen an offer.\n",
    "\n",
    "### Example\n",
    "\n",
    "To give an example, a user could receive a discount offer buy 10 dollars get 2 off on Monday. The offer is valid for 10 days from receipt. If the customer accumulates at least 10 dollars in purchases during the validity period, the customer completes the offer.\n",
    "\n",
    "However, there are a few things to watch out for in this data set. Customers do not opt into the offers that they receive; in other words, a user can receive an offer, never actually view the offer, and still complete the offer. For example, a user might receive the \"buy 10 dollars get 2 dollars off offer\", but the user never opens the offer during the 10 day validity period. The customer spends 15 dollars during those ten days. There will be an offer completion record in the data set; however, the customer was not influenced by the offer because the customer never viewed the offer.\n",
    "\n",
    "### Cleaning\n",
    "\n",
    "This makes data cleaning especially important and tricky.\n",
    "\n",
    "You'll also want to take into account that some demographic groups will make purchases even if they don't receive an offer. From a business perspective, if a customer is going to make a 10 dollar purchase without an offer anyway, you wouldn't want to send a buy 10 dollars get 2 dollars off offer. You'll want to try to assess what a certain demographic group will buy when not receiving any offers.\n",
    "\n",
    "### Final Advice\n",
    "\n",
    "Because this is a capstone project, you are free to analyze the data any way you see fit. For example, you could build a machine learning model that predicts how much someone will spend based on demographics and offer type. Or you could build a model that predicts whether or not someone will respond to an offer. Or, you don't need to build a machine learning model at all. You could develop a set of heuristics that determine what offer you should send to each customer (i.e., 75 percent of women customers who were 35 years old responded to offer A vs 40 percent from the same demographic to offer B, so send offer A)."
   ]
  },
  {
   "cell_type": "markdown",
   "metadata": {},
   "source": [
    "# Data Sets\n",
    "\n",
    "The data is contained in three files:\n",
    "\n",
    "* portfolio.json - containing offer ids and meta data about each offer (duration, type, etc.)\n",
    "* profile.json - demographic data for each customer\n",
    "* transcript.json - records for transactions, offers received, offers viewed, and offers completed\n",
    "\n",
    "Here is the schema and explanation of each variable in the files:\n",
    "\n",
    "**portfolio.json**\n",
    "* id (string) - offer id\n",
    "* offer_type (string) - type of offer ie BOGO, discount, informational\n",
    "* difficulty (int) - minimum required spend to complete an offer\n",
    "* reward (int) - reward given for completing an offer\n",
    "* duration (int) - time for offer to be open, in days\n",
    "* channels (list of strings)\n",
    "\n",
    "**profile.json**\n",
    "* age (int) - age of the customer \n",
    "* became_member_on (int) - date when customer created an app account\n",
    "* gender (str) - gender of the customer (note some entries contain 'O' for other rather than M or F)\n",
    "* id (str) - customer id\n",
    "* income (float) - customer's income\n",
    "\n",
    "**transcript.json**\n",
    "* event (str) - record description (ie transaction, offer received, offer viewed, etc.)\n",
    "* person (str) - customer id\n",
    "* time (int) - time in hours since start of test. The data begins at time t=0\n",
    "* value - (dict of strings) - either an offer id or transaction amount depending on the record\n",
    "\n",
    "**Note:** If you are using the workspace, you will need to go to the terminal and run the command `conda update pandas` before reading in the files. This is because the version of pandas in the workspace cannot read in the transcript.json file correctly, but the newest version of pandas can. You can access the termnal from the orange icon in the top left of this notebook.  \n",
    "\n",
    "You can see how to access the terminal and how the install works using the two images below.  First you need to access the terminal:\n",
    "\n",
    "<img src=\"pic1.png\"/>\n",
    "\n",
    "Then you will want to run the above command:\n",
    "\n",
    "<img src=\"pic2.png\"/>\n",
    "\n",
    "Finally, when you enter back into the notebook (use the jupyter icon again), you should be able to run the below cell without any errors."
   ]
  },
  {
   "cell_type": "code",
   "execution_count": 145,
   "metadata": {},
   "outputs": [],
   "source": [
    "import pandas as pd\n",
    "import numpy as np\n",
    "import math\n",
    "import json\n",
    "import matplotlib.pyplot as plt\n",
    "% matplotlib inline\n",
    "import seaborn as sns\n",
    "\n",
    "# read in the json files\n",
    "portfolio = pd.read_json('data/portfolio.json', orient='records', lines=True)\n",
    "profile = pd.read_json('data/profile.json', orient='records', lines=True)\n",
    "transcript = pd.read_json('data/transcript.json', orient='records', lines=True)"
   ]
  },
  {
   "cell_type": "markdown",
   "metadata": {},
   "source": [
    "# Data Pre-processing"
   ]
  },
  {
   "cell_type": "markdown",
   "metadata": {},
   "source": [
    "Let's take an initial look at the datasets to have an understanding of their structure and decide what to do next for pre-processing."
   ]
  },
  {
   "cell_type": "code",
   "execution_count": 146,
   "metadata": {},
   "outputs": [
    {
     "data": {
      "text/html": [
       "<div>\n",
       "<style scoped>\n",
       "    .dataframe tbody tr th:only-of-type {\n",
       "        vertical-align: middle;\n",
       "    }\n",
       "\n",
       "    .dataframe tbody tr th {\n",
       "        vertical-align: top;\n",
       "    }\n",
       "\n",
       "    .dataframe thead th {\n",
       "        text-align: right;\n",
       "    }\n",
       "</style>\n",
       "<table border=\"1\" class=\"dataframe\">\n",
       "  <thead>\n",
       "    <tr style=\"text-align: right;\">\n",
       "      <th></th>\n",
       "      <th>channels</th>\n",
       "      <th>difficulty</th>\n",
       "      <th>duration</th>\n",
       "      <th>id</th>\n",
       "      <th>offer_type</th>\n",
       "      <th>reward</th>\n",
       "    </tr>\n",
       "  </thead>\n",
       "  <tbody>\n",
       "    <tr>\n",
       "      <th>0</th>\n",
       "      <td>[email, mobile, social]</td>\n",
       "      <td>10</td>\n",
       "      <td>7</td>\n",
       "      <td>ae264e3637204a6fb9bb56bc8210ddfd</td>\n",
       "      <td>bogo</td>\n",
       "      <td>10</td>\n",
       "    </tr>\n",
       "    <tr>\n",
       "      <th>1</th>\n",
       "      <td>[web, email, mobile, social]</td>\n",
       "      <td>10</td>\n",
       "      <td>5</td>\n",
       "      <td>4d5c57ea9a6940dd891ad53e9dbe8da0</td>\n",
       "      <td>bogo</td>\n",
       "      <td>10</td>\n",
       "    </tr>\n",
       "    <tr>\n",
       "      <th>2</th>\n",
       "      <td>[web, email, mobile]</td>\n",
       "      <td>0</td>\n",
       "      <td>4</td>\n",
       "      <td>3f207df678b143eea3cee63160fa8bed</td>\n",
       "      <td>informational</td>\n",
       "      <td>0</td>\n",
       "    </tr>\n",
       "    <tr>\n",
       "      <th>3</th>\n",
       "      <td>[web, email, mobile]</td>\n",
       "      <td>5</td>\n",
       "      <td>7</td>\n",
       "      <td>9b98b8c7a33c4b65b9aebfe6a799e6d9</td>\n",
       "      <td>bogo</td>\n",
       "      <td>5</td>\n",
       "    </tr>\n",
       "    <tr>\n",
       "      <th>4</th>\n",
       "      <td>[web, email]</td>\n",
       "      <td>20</td>\n",
       "      <td>10</td>\n",
       "      <td>0b1e1539f2cc45b7b9fa7c272da2e1d7</td>\n",
       "      <td>discount</td>\n",
       "      <td>5</td>\n",
       "    </tr>\n",
       "  </tbody>\n",
       "</table>\n",
       "</div>"
      ],
      "text/plain": [
       "                       channels  difficulty  duration  \\\n",
       "0       [email, mobile, social]          10         7   \n",
       "1  [web, email, mobile, social]          10         5   \n",
       "2          [web, email, mobile]           0         4   \n",
       "3          [web, email, mobile]           5         7   \n",
       "4                  [web, email]          20        10   \n",
       "\n",
       "                                 id     offer_type  reward  \n",
       "0  ae264e3637204a6fb9bb56bc8210ddfd           bogo      10  \n",
       "1  4d5c57ea9a6940dd891ad53e9dbe8da0           bogo      10  \n",
       "2  3f207df678b143eea3cee63160fa8bed  informational       0  \n",
       "3  9b98b8c7a33c4b65b9aebfe6a799e6d9           bogo       5  \n",
       "4  0b1e1539f2cc45b7b9fa7c272da2e1d7       discount       5  "
      ]
     },
     "execution_count": 146,
     "metadata": {},
     "output_type": "execute_result"
    }
   ],
   "source": [
    "portfolio.head()"
   ]
  },
  {
   "cell_type": "code",
   "execution_count": 147,
   "metadata": {},
   "outputs": [
    {
     "data": {
      "text/html": [
       "<div>\n",
       "<style scoped>\n",
       "    .dataframe tbody tr th:only-of-type {\n",
       "        vertical-align: middle;\n",
       "    }\n",
       "\n",
       "    .dataframe tbody tr th {\n",
       "        vertical-align: top;\n",
       "    }\n",
       "\n",
       "    .dataframe thead th {\n",
       "        text-align: right;\n",
       "    }\n",
       "</style>\n",
       "<table border=\"1\" class=\"dataframe\">\n",
       "  <thead>\n",
       "    <tr style=\"text-align: right;\">\n",
       "      <th></th>\n",
       "      <th>age</th>\n",
       "      <th>became_member_on</th>\n",
       "      <th>gender</th>\n",
       "      <th>id</th>\n",
       "      <th>income</th>\n",
       "    </tr>\n",
       "  </thead>\n",
       "  <tbody>\n",
       "    <tr>\n",
       "      <th>0</th>\n",
       "      <td>118</td>\n",
       "      <td>20170212</td>\n",
       "      <td>None</td>\n",
       "      <td>68be06ca386d4c31939f3a4f0e3dd783</td>\n",
       "      <td>NaN</td>\n",
       "    </tr>\n",
       "    <tr>\n",
       "      <th>1</th>\n",
       "      <td>55</td>\n",
       "      <td>20170715</td>\n",
       "      <td>F</td>\n",
       "      <td>0610b486422d4921ae7d2bf64640c50b</td>\n",
       "      <td>112000.0</td>\n",
       "    </tr>\n",
       "    <tr>\n",
       "      <th>2</th>\n",
       "      <td>118</td>\n",
       "      <td>20180712</td>\n",
       "      <td>None</td>\n",
       "      <td>38fe809add3b4fcf9315a9694bb96ff5</td>\n",
       "      <td>NaN</td>\n",
       "    </tr>\n",
       "    <tr>\n",
       "      <th>3</th>\n",
       "      <td>75</td>\n",
       "      <td>20170509</td>\n",
       "      <td>F</td>\n",
       "      <td>78afa995795e4d85b5d9ceeca43f5fef</td>\n",
       "      <td>100000.0</td>\n",
       "    </tr>\n",
       "    <tr>\n",
       "      <th>4</th>\n",
       "      <td>118</td>\n",
       "      <td>20170804</td>\n",
       "      <td>None</td>\n",
       "      <td>a03223e636434f42ac4c3df47e8bac43</td>\n",
       "      <td>NaN</td>\n",
       "    </tr>\n",
       "  </tbody>\n",
       "</table>\n",
       "</div>"
      ],
      "text/plain": [
       "   age  became_member_on gender                                id    income\n",
       "0  118          20170212   None  68be06ca386d4c31939f3a4f0e3dd783       NaN\n",
       "1   55          20170715      F  0610b486422d4921ae7d2bf64640c50b  112000.0\n",
       "2  118          20180712   None  38fe809add3b4fcf9315a9694bb96ff5       NaN\n",
       "3   75          20170509      F  78afa995795e4d85b5d9ceeca43f5fef  100000.0\n",
       "4  118          20170804   None  a03223e636434f42ac4c3df47e8bac43       NaN"
      ]
     },
     "execution_count": 147,
     "metadata": {},
     "output_type": "execute_result"
    }
   ],
   "source": [
    "profile.head()"
   ]
  },
  {
   "cell_type": "code",
   "execution_count": 148,
   "metadata": {},
   "outputs": [
    {
     "data": {
      "text/html": [
       "<div>\n",
       "<style scoped>\n",
       "    .dataframe tbody tr th:only-of-type {\n",
       "        vertical-align: middle;\n",
       "    }\n",
       "\n",
       "    .dataframe tbody tr th {\n",
       "        vertical-align: top;\n",
       "    }\n",
       "\n",
       "    .dataframe thead th {\n",
       "        text-align: right;\n",
       "    }\n",
       "</style>\n",
       "<table border=\"1\" class=\"dataframe\">\n",
       "  <thead>\n",
       "    <tr style=\"text-align: right;\">\n",
       "      <th></th>\n",
       "      <th>event</th>\n",
       "      <th>person</th>\n",
       "      <th>time</th>\n",
       "      <th>value</th>\n",
       "    </tr>\n",
       "  </thead>\n",
       "  <tbody>\n",
       "    <tr>\n",
       "      <th>0</th>\n",
       "      <td>offer received</td>\n",
       "      <td>78afa995795e4d85b5d9ceeca43f5fef</td>\n",
       "      <td>0</td>\n",
       "      <td>{'offer id': '9b98b8c7a33c4b65b9aebfe6a799e6d9'}</td>\n",
       "    </tr>\n",
       "    <tr>\n",
       "      <th>1</th>\n",
       "      <td>offer received</td>\n",
       "      <td>a03223e636434f42ac4c3df47e8bac43</td>\n",
       "      <td>0</td>\n",
       "      <td>{'offer id': '0b1e1539f2cc45b7b9fa7c272da2e1d7'}</td>\n",
       "    </tr>\n",
       "    <tr>\n",
       "      <th>2</th>\n",
       "      <td>offer received</td>\n",
       "      <td>e2127556f4f64592b11af22de27a7932</td>\n",
       "      <td>0</td>\n",
       "      <td>{'offer id': '2906b810c7d4411798c6938adc9daaa5'}</td>\n",
       "    </tr>\n",
       "    <tr>\n",
       "      <th>3</th>\n",
       "      <td>offer received</td>\n",
       "      <td>8ec6ce2a7e7949b1bf142def7d0e0586</td>\n",
       "      <td>0</td>\n",
       "      <td>{'offer id': 'fafdcd668e3743c1bb461111dcafc2a4'}</td>\n",
       "    </tr>\n",
       "    <tr>\n",
       "      <th>4</th>\n",
       "      <td>offer received</td>\n",
       "      <td>68617ca6246f4fbc85e91a2a49552598</td>\n",
       "      <td>0</td>\n",
       "      <td>{'offer id': '4d5c57ea9a6940dd891ad53e9dbe8da0'}</td>\n",
       "    </tr>\n",
       "  </tbody>\n",
       "</table>\n",
       "</div>"
      ],
      "text/plain": [
       "            event                            person  time  \\\n",
       "0  offer received  78afa995795e4d85b5d9ceeca43f5fef     0   \n",
       "1  offer received  a03223e636434f42ac4c3df47e8bac43     0   \n",
       "2  offer received  e2127556f4f64592b11af22de27a7932     0   \n",
       "3  offer received  8ec6ce2a7e7949b1bf142def7d0e0586     0   \n",
       "4  offer received  68617ca6246f4fbc85e91a2a49552598     0   \n",
       "\n",
       "                                              value  \n",
       "0  {'offer id': '9b98b8c7a33c4b65b9aebfe6a799e6d9'}  \n",
       "1  {'offer id': '0b1e1539f2cc45b7b9fa7c272da2e1d7'}  \n",
       "2  {'offer id': '2906b810c7d4411798c6938adc9daaa5'}  \n",
       "3  {'offer id': 'fafdcd668e3743c1bb461111dcafc2a4'}  \n",
       "4  {'offer id': '4d5c57ea9a6940dd891ad53e9dbe8da0'}  "
      ]
     },
     "execution_count": 148,
     "metadata": {},
     "output_type": "execute_result"
    }
   ],
   "source": [
    "transcript.head()"
   ]
  },
  {
   "cell_type": "markdown",
   "metadata": {},
   "source": [
    "## 1. Data in various columns are saved under dictionary/list types and the id(s) are strings. We need to convert those data types into intergers, boolean so we can use them for analytics tasks. "
   ]
  },
  {
   "cell_type": "markdown",
   "metadata": {},
   "source": [
    "### Handling the list type"
   ]
  },
  {
   "cell_type": "markdown",
   "metadata": {},
   "source": [
    "'channels' column in 'portfolio' is under list type. We will convert it to dummies columns do display if any channel was used for each offer."
   ]
  },
  {
   "cell_type": "code",
   "execution_count": 149,
   "metadata": {},
   "outputs": [],
   "source": [
    "portfolio['is_email']=portfolio.apply(lambda x: 'email' in x['channels'], axis=1)\n",
    "portfolio['is_mobile']=portfolio.apply(lambda x: 'mobile' in x['channels'], axis=1)\n",
    "portfolio['is_social']=portfolio.apply(lambda x: 'social' in x['channels'], axis=1)\n",
    "portfolio['is_web']=portfolio.apply(lambda x: 'web' in x['channels'], axis=1)"
   ]
  },
  {
   "cell_type": "markdown",
   "metadata": {},
   "source": [
    "### Handling the string ids"
   ]
  },
  {
   "cell_type": "code",
   "execution_count": 150,
   "metadata": {},
   "outputs": [],
   "source": [
    "#Encode function to convert ids from string to number\n",
    "def id_mapper(df,col='id'):\n",
    "    '''\n",
    "    INPUT:\n",
    "    df - (pandas dataframe) the dataframe that you want to perform conversion\n",
    "    col - (str) df column that you want to perform conversion \n",
    "    \n",
    "    OUTPUT:\n",
    "    id_encoded - (series) a series of encoded data\n",
    "    \n",
    "    '''\n",
    "    coded_dict = dict()\n",
    "    seq = 1\n",
    "    id_encoded = []\n",
    "    \n",
    "    for val in df[col]:\n",
    "        if val not in coded_dict:\n",
    "            coded_dict[val] = seq\n",
    "            seq+=1\n",
    "        \n",
    "        id_encoded.append(coded_dict[val])\n",
    "    return id_encoded"
   ]
  },
  {
   "cell_type": "code",
   "execution_count": 151,
   "metadata": {},
   "outputs": [],
   "source": [
    "#Encode offer and profile id(s)\n",
    "portfolio['offer_id'] = id_mapper(portfolio)\n",
    "profile['person_id'] = id_mapper(profile)"
   ]
  },
  {
   "cell_type": "code",
   "execution_count": 152,
   "metadata": {},
   "outputs": [
    {
     "data": {
      "text/html": [
       "<div>\n",
       "<style scoped>\n",
       "    .dataframe tbody tr th:only-of-type {\n",
       "        vertical-align: middle;\n",
       "    }\n",
       "\n",
       "    .dataframe tbody tr th {\n",
       "        vertical-align: top;\n",
       "    }\n",
       "\n",
       "    .dataframe thead th {\n",
       "        text-align: right;\n",
       "    }\n",
       "</style>\n",
       "<table border=\"1\" class=\"dataframe\">\n",
       "  <thead>\n",
       "    <tr style=\"text-align: right;\">\n",
       "      <th></th>\n",
       "      <th>event</th>\n",
       "      <th>person</th>\n",
       "      <th>time</th>\n",
       "      <th>value</th>\n",
       "      <th>person_id</th>\n",
       "    </tr>\n",
       "  </thead>\n",
       "  <tbody>\n",
       "    <tr>\n",
       "      <th>0</th>\n",
       "      <td>offer received</td>\n",
       "      <td>78afa995795e4d85b5d9ceeca43f5fef</td>\n",
       "      <td>0</td>\n",
       "      <td>{'offer id': '9b98b8c7a33c4b65b9aebfe6a799e6d9'}</td>\n",
       "      <td>4</td>\n",
       "    </tr>\n",
       "    <tr>\n",
       "      <th>1</th>\n",
       "      <td>offer received</td>\n",
       "      <td>a03223e636434f42ac4c3df47e8bac43</td>\n",
       "      <td>0</td>\n",
       "      <td>{'offer id': '0b1e1539f2cc45b7b9fa7c272da2e1d7'}</td>\n",
       "      <td>5</td>\n",
       "    </tr>\n",
       "    <tr>\n",
       "      <th>2</th>\n",
       "      <td>offer received</td>\n",
       "      <td>e2127556f4f64592b11af22de27a7932</td>\n",
       "      <td>0</td>\n",
       "      <td>{'offer id': '2906b810c7d4411798c6938adc9daaa5'}</td>\n",
       "      <td>6</td>\n",
       "    </tr>\n",
       "    <tr>\n",
       "      <th>3</th>\n",
       "      <td>offer received</td>\n",
       "      <td>8ec6ce2a7e7949b1bf142def7d0e0586</td>\n",
       "      <td>0</td>\n",
       "      <td>{'offer id': 'fafdcd668e3743c1bb461111dcafc2a4'}</td>\n",
       "      <td>7</td>\n",
       "    </tr>\n",
       "    <tr>\n",
       "      <th>4</th>\n",
       "      <td>offer received</td>\n",
       "      <td>68617ca6246f4fbc85e91a2a49552598</td>\n",
       "      <td>0</td>\n",
       "      <td>{'offer id': '4d5c57ea9a6940dd891ad53e9dbe8da0'}</td>\n",
       "      <td>8</td>\n",
       "    </tr>\n",
       "  </tbody>\n",
       "</table>\n",
       "</div>"
      ],
      "text/plain": [
       "            event                            person  time  \\\n",
       "0  offer received  78afa995795e4d85b5d9ceeca43f5fef     0   \n",
       "1  offer received  a03223e636434f42ac4c3df47e8bac43     0   \n",
       "2  offer received  e2127556f4f64592b11af22de27a7932     0   \n",
       "3  offer received  8ec6ce2a7e7949b1bf142def7d0e0586     0   \n",
       "4  offer received  68617ca6246f4fbc85e91a2a49552598     0   \n",
       "\n",
       "                                              value  person_id  \n",
       "0  {'offer id': '9b98b8c7a33c4b65b9aebfe6a799e6d9'}          4  \n",
       "1  {'offer id': '0b1e1539f2cc45b7b9fa7c272da2e1d7'}          5  \n",
       "2  {'offer id': '2906b810c7d4411798c6938adc9daaa5'}          6  \n",
       "3  {'offer id': 'fafdcd668e3743c1bb461111dcafc2a4'}          7  \n",
       "4  {'offer id': '4d5c57ea9a6940dd891ad53e9dbe8da0'}          8  "
      ]
     },
     "execution_count": 152,
     "metadata": {},
     "output_type": "execute_result"
    }
   ],
   "source": [
    "#Mapping profile and transcript by person\n",
    "transcript = pd.merge(transcript,profile[['id','person_id']],left_on=['person'],right_on=['id'],how='left')\n",
    "#Remove the duplicated 'id' column\n",
    "transcript = transcript.drop(['id'],axis=1)\n",
    "transcript.head()"
   ]
  },
  {
   "cell_type": "markdown",
   "metadata": {},
   "source": [
    "### Handling the dictionaries"
   ]
  },
  {
   "cell_type": "markdown",
   "metadata": {},
   "source": [
    "For the 'transcript' dataset, there are various event type and the 'value' column structure will change accordingly. We need to split this dataset into event type datasets and decompose the 'value' column. After that, we will map the offer related datasets with 'portfolio' dataset to get the offer_id. "
   ]
  },
  {
   "cell_type": "code",
   "execution_count": 153,
   "metadata": {},
   "outputs": [
    {
     "data": {
      "text/plain": [
       "array(['offer received', 'offer viewed', 'transaction', 'offer completed'], dtype=object)"
      ]
     },
     "execution_count": 153,
     "metadata": {},
     "output_type": "execute_result"
    }
   ],
   "source": [
    "transcript.event.unique()"
   ]
  },
  {
   "cell_type": "code",
   "execution_count": 154,
   "metadata": {},
   "outputs": [],
   "source": [
    "# Split the dataset\n",
    "offer_received_event = transcript[transcript['event'] == 'offer received']\n",
    "offer_viewed_event = transcript[transcript['event'] == 'offer viewed']\n",
    "offer_completed_event = transcript[transcript['event'] == 'offer completed']\n",
    "transaction_event = transcript[transcript['event'] == 'transaction']"
   ]
  },
  {
   "cell_type": "code",
   "execution_count": 155,
   "metadata": {},
   "outputs": [
    {
     "data": {
      "text/html": [
       "<div>\n",
       "<style scoped>\n",
       "    .dataframe tbody tr th:only-of-type {\n",
       "        vertical-align: middle;\n",
       "    }\n",
       "\n",
       "    .dataframe tbody tr th {\n",
       "        vertical-align: top;\n",
       "    }\n",
       "\n",
       "    .dataframe thead th {\n",
       "        text-align: right;\n",
       "    }\n",
       "</style>\n",
       "<table border=\"1\" class=\"dataframe\">\n",
       "  <thead>\n",
       "    <tr style=\"text-align: right;\">\n",
       "      <th></th>\n",
       "      <th>event</th>\n",
       "      <th>person</th>\n",
       "      <th>time</th>\n",
       "      <th>value</th>\n",
       "      <th>person_id</th>\n",
       "    </tr>\n",
       "  </thead>\n",
       "  <tbody>\n",
       "    <tr>\n",
       "      <th>0</th>\n",
       "      <td>offer received</td>\n",
       "      <td>78afa995795e4d85b5d9ceeca43f5fef</td>\n",
       "      <td>0</td>\n",
       "      <td>{'offer id': '9b98b8c7a33c4b65b9aebfe6a799e6d9'}</td>\n",
       "      <td>4</td>\n",
       "    </tr>\n",
       "    <tr>\n",
       "      <th>1</th>\n",
       "      <td>offer received</td>\n",
       "      <td>a03223e636434f42ac4c3df47e8bac43</td>\n",
       "      <td>0</td>\n",
       "      <td>{'offer id': '0b1e1539f2cc45b7b9fa7c272da2e1d7'}</td>\n",
       "      <td>5</td>\n",
       "    </tr>\n",
       "    <tr>\n",
       "      <th>2</th>\n",
       "      <td>offer received</td>\n",
       "      <td>e2127556f4f64592b11af22de27a7932</td>\n",
       "      <td>0</td>\n",
       "      <td>{'offer id': '2906b810c7d4411798c6938adc9daaa5'}</td>\n",
       "      <td>6</td>\n",
       "    </tr>\n",
       "    <tr>\n",
       "      <th>3</th>\n",
       "      <td>offer received</td>\n",
       "      <td>8ec6ce2a7e7949b1bf142def7d0e0586</td>\n",
       "      <td>0</td>\n",
       "      <td>{'offer id': 'fafdcd668e3743c1bb461111dcafc2a4'}</td>\n",
       "      <td>7</td>\n",
       "    </tr>\n",
       "    <tr>\n",
       "      <th>4</th>\n",
       "      <td>offer received</td>\n",
       "      <td>68617ca6246f4fbc85e91a2a49552598</td>\n",
       "      <td>0</td>\n",
       "      <td>{'offer id': '4d5c57ea9a6940dd891ad53e9dbe8da0'}</td>\n",
       "      <td>8</td>\n",
       "    </tr>\n",
       "  </tbody>\n",
       "</table>\n",
       "</div>"
      ],
      "text/plain": [
       "            event                            person  time  \\\n",
       "0  offer received  78afa995795e4d85b5d9ceeca43f5fef     0   \n",
       "1  offer received  a03223e636434f42ac4c3df47e8bac43     0   \n",
       "2  offer received  e2127556f4f64592b11af22de27a7932     0   \n",
       "3  offer received  8ec6ce2a7e7949b1bf142def7d0e0586     0   \n",
       "4  offer received  68617ca6246f4fbc85e91a2a49552598     0   \n",
       "\n",
       "                                              value  person_id  \n",
       "0  {'offer id': '9b98b8c7a33c4b65b9aebfe6a799e6d9'}          4  \n",
       "1  {'offer id': '0b1e1539f2cc45b7b9fa7c272da2e1d7'}          5  \n",
       "2  {'offer id': '2906b810c7d4411798c6938adc9daaa5'}          6  \n",
       "3  {'offer id': 'fafdcd668e3743c1bb461111dcafc2a4'}          7  \n",
       "4  {'offer id': '4d5c57ea9a6940dd891ad53e9dbe8da0'}          8  "
      ]
     },
     "execution_count": 155,
     "metadata": {},
     "output_type": "execute_result"
    }
   ],
   "source": [
    "# Take a look at the 'offer_received_event' data to see the structure\n",
    "offer_received_event.head()"
   ]
  },
  {
   "cell_type": "markdown",
   "metadata": {},
   "source": [
    "For offer_received_event, we have to get the offer if from 'value' column and then map it with the 'portfolio' dataset to get encoded offer_id."
   ]
  },
  {
   "cell_type": "code",
   "execution_count": 156,
   "metadata": {},
   "outputs": [
    {
     "name": "stderr",
     "output_type": "stream",
     "text": [
      "/opt/conda/lib/python3.6/site-packages/ipykernel_launcher.py:2: SettingWithCopyWarning: \n",
      "A value is trying to be set on a copy of a slice from a DataFrame.\n",
      "Try using .loc[row_indexer,col_indexer] = value instead\n",
      "\n",
      "See the caveats in the documentation: http://pandas.pydata.org/pandas-docs/stable/indexing.html#indexing-view-versus-copy\n",
      "  \n"
     ]
    },
    {
     "data": {
      "text/html": [
       "<div>\n",
       "<style scoped>\n",
       "    .dataframe tbody tr th:only-of-type {\n",
       "        vertical-align: middle;\n",
       "    }\n",
       "\n",
       "    .dataframe tbody tr th {\n",
       "        vertical-align: top;\n",
       "    }\n",
       "\n",
       "    .dataframe thead th {\n",
       "        text-align: right;\n",
       "    }\n",
       "</style>\n",
       "<table border=\"1\" class=\"dataframe\">\n",
       "  <thead>\n",
       "    <tr style=\"text-align: right;\">\n",
       "      <th></th>\n",
       "      <th>time</th>\n",
       "      <th>person_id</th>\n",
       "      <th>offer_id</th>\n",
       "    </tr>\n",
       "  </thead>\n",
       "  <tbody>\n",
       "    <tr>\n",
       "      <th>0</th>\n",
       "      <td>0</td>\n",
       "      <td>4</td>\n",
       "      <td>4</td>\n",
       "    </tr>\n",
       "    <tr>\n",
       "      <th>1</th>\n",
       "      <td>0</td>\n",
       "      <td>5</td>\n",
       "      <td>5</td>\n",
       "    </tr>\n",
       "    <tr>\n",
       "      <th>2</th>\n",
       "      <td>0</td>\n",
       "      <td>6</td>\n",
       "      <td>10</td>\n",
       "    </tr>\n",
       "    <tr>\n",
       "      <th>3</th>\n",
       "      <td>0</td>\n",
       "      <td>7</td>\n",
       "      <td>7</td>\n",
       "    </tr>\n",
       "    <tr>\n",
       "      <th>4</th>\n",
       "      <td>0</td>\n",
       "      <td>8</td>\n",
       "      <td>2</td>\n",
       "    </tr>\n",
       "  </tbody>\n",
       "</table>\n",
       "</div>"
      ],
      "text/plain": [
       "   time  person_id  offer_id\n",
       "0     0          4         4\n",
       "1     0          5         5\n",
       "2     0          6        10\n",
       "3     0          7         7\n",
       "4     0          8         2"
      ]
     },
     "execution_count": 156,
     "metadata": {},
     "output_type": "execute_result"
    }
   ],
   "source": [
    "# Get offer id out of 'value' column\n",
    "offer_received_event['offer_id_org']=offer_received_event.apply(lambda x: x['value']['offer id'], axis=1)\n",
    "# Map with 'portfolio'\n",
    "offer_received_event = pd.merge(offer_received_event,portfolio[['id','offer_id']],left_on=['offer_id_org'],right_on=['id'],how='left')\n",
    "# Remove unnecessary columns\n",
    "offer_received_event = offer_received_event.drop(['event','person','offer_id_org','id','value'],axis=1)\n",
    "offer_received_event.head()"
   ]
  },
  {
   "cell_type": "code",
   "execution_count": 157,
   "metadata": {},
   "outputs": [
    {
     "data": {
      "text/html": [
       "<div>\n",
       "<style scoped>\n",
       "    .dataframe tbody tr th:only-of-type {\n",
       "        vertical-align: middle;\n",
       "    }\n",
       "\n",
       "    .dataframe tbody tr th {\n",
       "        vertical-align: top;\n",
       "    }\n",
       "\n",
       "    .dataframe thead th {\n",
       "        text-align: right;\n",
       "    }\n",
       "</style>\n",
       "<table border=\"1\" class=\"dataframe\">\n",
       "  <thead>\n",
       "    <tr style=\"text-align: right;\">\n",
       "      <th></th>\n",
       "      <th>event</th>\n",
       "      <th>person</th>\n",
       "      <th>time</th>\n",
       "      <th>value</th>\n",
       "      <th>person_id</th>\n",
       "    </tr>\n",
       "  </thead>\n",
       "  <tbody>\n",
       "    <tr>\n",
       "      <th>12650</th>\n",
       "      <td>offer viewed</td>\n",
       "      <td>389bc3fa690240e798340f5a15918d5c</td>\n",
       "      <td>0</td>\n",
       "      <td>{'offer id': 'f19421c1d4aa40978ebb69ca19b0e20d'}</td>\n",
       "      <td>9</td>\n",
       "    </tr>\n",
       "    <tr>\n",
       "      <th>12651</th>\n",
       "      <td>offer viewed</td>\n",
       "      <td>d1ede868e29245ea91818a903fec04c6</td>\n",
       "      <td>0</td>\n",
       "      <td>{'offer id': '5a8bc65990b245e5a138643cd4eb9837'}</td>\n",
       "      <td>32</td>\n",
       "    </tr>\n",
       "    <tr>\n",
       "      <th>12652</th>\n",
       "      <td>offer viewed</td>\n",
       "      <td>102e9454054946fda62242d2e176fdce</td>\n",
       "      <td>0</td>\n",
       "      <td>{'offer id': '4d5c57ea9a6940dd891ad53e9dbe8da0'}</td>\n",
       "      <td>36</td>\n",
       "    </tr>\n",
       "    <tr>\n",
       "      <th>12653</th>\n",
       "      <td>offer viewed</td>\n",
       "      <td>02c083884c7d45b39cc68e1314fec56c</td>\n",
       "      <td>0</td>\n",
       "      <td>{'offer id': 'ae264e3637204a6fb9bb56bc8210ddfd'}</td>\n",
       "      <td>42</td>\n",
       "    </tr>\n",
       "    <tr>\n",
       "      <th>12655</th>\n",
       "      <td>offer viewed</td>\n",
       "      <td>be8a5d1981a2458d90b255ddc7e0d174</td>\n",
       "      <td>0</td>\n",
       "      <td>{'offer id': '5a8bc65990b245e5a138643cd4eb9837'}</td>\n",
       "      <td>49</td>\n",
       "    </tr>\n",
       "  </tbody>\n",
       "</table>\n",
       "</div>"
      ],
      "text/plain": [
       "              event                            person  time  \\\n",
       "12650  offer viewed  389bc3fa690240e798340f5a15918d5c     0   \n",
       "12651  offer viewed  d1ede868e29245ea91818a903fec04c6     0   \n",
       "12652  offer viewed  102e9454054946fda62242d2e176fdce     0   \n",
       "12653  offer viewed  02c083884c7d45b39cc68e1314fec56c     0   \n",
       "12655  offer viewed  be8a5d1981a2458d90b255ddc7e0d174     0   \n",
       "\n",
       "                                                  value  person_id  \n",
       "12650  {'offer id': 'f19421c1d4aa40978ebb69ca19b0e20d'}          9  \n",
       "12651  {'offer id': '5a8bc65990b245e5a138643cd4eb9837'}         32  \n",
       "12652  {'offer id': '4d5c57ea9a6940dd891ad53e9dbe8da0'}         36  \n",
       "12653  {'offer id': 'ae264e3637204a6fb9bb56bc8210ddfd'}         42  \n",
       "12655  {'offer id': '5a8bc65990b245e5a138643cd4eb9837'}         49  "
      ]
     },
     "execution_count": 157,
     "metadata": {},
     "output_type": "execute_result"
    }
   ],
   "source": [
    "# Take a look at 'offer_viewed_event' data to see the structure.\n",
    "offer_viewed_event.head()"
   ]
  },
  {
   "cell_type": "markdown",
   "metadata": {},
   "source": [
    "Similar with 'offer_received_event', we need to get the offer id from 'value' column to map it with 'portfolio' data and then remove unneccessary columns."
   ]
  },
  {
   "cell_type": "code",
   "execution_count": 158,
   "metadata": {},
   "outputs": [
    {
     "name": "stderr",
     "output_type": "stream",
     "text": [
      "/opt/conda/lib/python3.6/site-packages/ipykernel_launcher.py:2: SettingWithCopyWarning: \n",
      "A value is trying to be set on a copy of a slice from a DataFrame.\n",
      "Try using .loc[row_indexer,col_indexer] = value instead\n",
      "\n",
      "See the caveats in the documentation: http://pandas.pydata.org/pandas-docs/stable/indexing.html#indexing-view-versus-copy\n",
      "  \n"
     ]
    },
    {
     "data": {
      "text/html": [
       "<div>\n",
       "<style scoped>\n",
       "    .dataframe tbody tr th:only-of-type {\n",
       "        vertical-align: middle;\n",
       "    }\n",
       "\n",
       "    .dataframe tbody tr th {\n",
       "        vertical-align: top;\n",
       "    }\n",
       "\n",
       "    .dataframe thead th {\n",
       "        text-align: right;\n",
       "    }\n",
       "</style>\n",
       "<table border=\"1\" class=\"dataframe\">\n",
       "  <thead>\n",
       "    <tr style=\"text-align: right;\">\n",
       "      <th></th>\n",
       "      <th>time</th>\n",
       "      <th>person_id</th>\n",
       "      <th>offer_id</th>\n",
       "    </tr>\n",
       "  </thead>\n",
       "  <tbody>\n",
       "    <tr>\n",
       "      <th>0</th>\n",
       "      <td>0</td>\n",
       "      <td>9</td>\n",
       "      <td>9</td>\n",
       "    </tr>\n",
       "    <tr>\n",
       "      <th>1</th>\n",
       "      <td>0</td>\n",
       "      <td>32</td>\n",
       "      <td>8</td>\n",
       "    </tr>\n",
       "    <tr>\n",
       "      <th>2</th>\n",
       "      <td>0</td>\n",
       "      <td>36</td>\n",
       "      <td>2</td>\n",
       "    </tr>\n",
       "    <tr>\n",
       "      <th>3</th>\n",
       "      <td>0</td>\n",
       "      <td>42</td>\n",
       "      <td>1</td>\n",
       "    </tr>\n",
       "    <tr>\n",
       "      <th>4</th>\n",
       "      <td>0</td>\n",
       "      <td>49</td>\n",
       "      <td>8</td>\n",
       "    </tr>\n",
       "  </tbody>\n",
       "</table>\n",
       "</div>"
      ],
      "text/plain": [
       "   time  person_id  offer_id\n",
       "0     0          9         9\n",
       "1     0         32         8\n",
       "2     0         36         2\n",
       "3     0         42         1\n",
       "4     0         49         8"
      ]
     },
     "execution_count": 158,
     "metadata": {},
     "output_type": "execute_result"
    }
   ],
   "source": [
    "# Get offer id out of 'value' column\n",
    "offer_viewed_event['offer_id_org']=offer_viewed_event.apply(lambda x: x['value']['offer id'], axis=1)\n",
    "# Map with 'portfolio'\n",
    "offer_viewed_event = pd.merge(offer_viewed_event,portfolio[['id','offer_id']],left_on=['offer_id_org'],right_on=['id'],how='left')\n",
    "# Remove unnecessary columns\n",
    "offer_viewed_event = offer_viewed_event.drop(['event','person','offer_id_org','id','value'],axis=1)\n",
    "offer_viewed_event.head()"
   ]
  },
  {
   "cell_type": "code",
   "execution_count": 159,
   "metadata": {},
   "outputs": [
    {
     "data": {
      "text/html": [
       "<div>\n",
       "<style scoped>\n",
       "    .dataframe tbody tr th:only-of-type {\n",
       "        vertical-align: middle;\n",
       "    }\n",
       "\n",
       "    .dataframe tbody tr th {\n",
       "        vertical-align: top;\n",
       "    }\n",
       "\n",
       "    .dataframe thead th {\n",
       "        text-align: right;\n",
       "    }\n",
       "</style>\n",
       "<table border=\"1\" class=\"dataframe\">\n",
       "  <thead>\n",
       "    <tr style=\"text-align: right;\">\n",
       "      <th></th>\n",
       "      <th>event</th>\n",
       "      <th>person</th>\n",
       "      <th>time</th>\n",
       "      <th>value</th>\n",
       "      <th>person_id</th>\n",
       "    </tr>\n",
       "  </thead>\n",
       "  <tbody>\n",
       "    <tr>\n",
       "      <th>12658</th>\n",
       "      <td>offer completed</td>\n",
       "      <td>9fa9ae8f57894cc9a3b8a9bbe0fc1b2f</td>\n",
       "      <td>0</td>\n",
       "      <td>{'offer_id': '2906b810c7d4411798c6938adc9daaa5', 'reward': 2}</td>\n",
       "      <td>56</td>\n",
       "    </tr>\n",
       "    <tr>\n",
       "      <th>12672</th>\n",
       "      <td>offer completed</td>\n",
       "      <td>fe97aa22dd3e48c8b143116a8403dd52</td>\n",
       "      <td>0</td>\n",
       "      <td>{'offer_id': 'fafdcd668e3743c1bb461111dcafc2a4', 'reward': 2}</td>\n",
       "      <td>152</td>\n",
       "    </tr>\n",
       "    <tr>\n",
       "      <th>12679</th>\n",
       "      <td>offer completed</td>\n",
       "      <td>629fc02d56414d91bca360decdfa9288</td>\n",
       "      <td>0</td>\n",
       "      <td>{'offer_id': '9b98b8c7a33c4b65b9aebfe6a799e6d9', 'reward': 5}</td>\n",
       "      <td>175</td>\n",
       "    </tr>\n",
       "    <tr>\n",
       "      <th>12692</th>\n",
       "      <td>offer completed</td>\n",
       "      <td>676506bad68e4161b9bbaffeb039626b</td>\n",
       "      <td>0</td>\n",
       "      <td>{'offer_id': 'ae264e3637204a6fb9bb56bc8210ddfd', 'reward': 10}</td>\n",
       "      <td>300</td>\n",
       "    </tr>\n",
       "    <tr>\n",
       "      <th>12697</th>\n",
       "      <td>offer completed</td>\n",
       "      <td>8f7dd3b2afe14c078eb4f6e6fe4ba97d</td>\n",
       "      <td>0</td>\n",
       "      <td>{'offer_id': '4d5c57ea9a6940dd891ad53e9dbe8da0', 'reward': 10}</td>\n",
       "      <td>317</td>\n",
       "    </tr>\n",
       "  </tbody>\n",
       "</table>\n",
       "</div>"
      ],
      "text/plain": [
       "                 event                            person  time  \\\n",
       "12658  offer completed  9fa9ae8f57894cc9a3b8a9bbe0fc1b2f     0   \n",
       "12672  offer completed  fe97aa22dd3e48c8b143116a8403dd52     0   \n",
       "12679  offer completed  629fc02d56414d91bca360decdfa9288     0   \n",
       "12692  offer completed  676506bad68e4161b9bbaffeb039626b     0   \n",
       "12697  offer completed  8f7dd3b2afe14c078eb4f6e6fe4ba97d     0   \n",
       "\n",
       "                                                                value  \\\n",
       "12658   {'offer_id': '2906b810c7d4411798c6938adc9daaa5', 'reward': 2}   \n",
       "12672   {'offer_id': 'fafdcd668e3743c1bb461111dcafc2a4', 'reward': 2}   \n",
       "12679   {'offer_id': '9b98b8c7a33c4b65b9aebfe6a799e6d9', 'reward': 5}   \n",
       "12692  {'offer_id': 'ae264e3637204a6fb9bb56bc8210ddfd', 'reward': 10}   \n",
       "12697  {'offer_id': '4d5c57ea9a6940dd891ad53e9dbe8da0', 'reward': 10}   \n",
       "\n",
       "       person_id  \n",
       "12658         56  \n",
       "12672        152  \n",
       "12679        175  \n",
       "12692        300  \n",
       "12697        317  "
      ]
     },
     "execution_count": 159,
     "metadata": {},
     "output_type": "execute_result"
    }
   ],
   "source": [
    "# Take a look at 'offer_completed_event' data to see the structure.\n",
    "pd.set_option('display.max_colwidth', 100)  \n",
    "offer_completed_event.head()\n",
    "#pd.reset_option('display.max_colwidth')"
   ]
  },
  {
   "cell_type": "markdown",
   "metadata": {},
   "source": [
    "For this dataframe, we need to get offer id and reward from 'value' column and then map with 'portfolio' to get the encoded offer id."
   ]
  },
  {
   "cell_type": "code",
   "execution_count": 160,
   "metadata": {},
   "outputs": [
    {
     "name": "stderr",
     "output_type": "stream",
     "text": [
      "/opt/conda/lib/python3.6/site-packages/ipykernel_launcher.py:2: SettingWithCopyWarning: \n",
      "A value is trying to be set on a copy of a slice from a DataFrame.\n",
      "Try using .loc[row_indexer,col_indexer] = value instead\n",
      "\n",
      "See the caveats in the documentation: http://pandas.pydata.org/pandas-docs/stable/indexing.html#indexing-view-versus-copy\n",
      "  \n",
      "/opt/conda/lib/python3.6/site-packages/ipykernel_launcher.py:3: SettingWithCopyWarning: \n",
      "A value is trying to be set on a copy of a slice from a DataFrame.\n",
      "Try using .loc[row_indexer,col_indexer] = value instead\n",
      "\n",
      "See the caveats in the documentation: http://pandas.pydata.org/pandas-docs/stable/indexing.html#indexing-view-versus-copy\n",
      "  This is separate from the ipykernel package so we can avoid doing imports until\n"
     ]
    },
    {
     "data": {
      "text/html": [
       "<div>\n",
       "<style scoped>\n",
       "    .dataframe tbody tr th:only-of-type {\n",
       "        vertical-align: middle;\n",
       "    }\n",
       "\n",
       "    .dataframe tbody tr th {\n",
       "        vertical-align: top;\n",
       "    }\n",
       "\n",
       "    .dataframe thead th {\n",
       "        text-align: right;\n",
       "    }\n",
       "</style>\n",
       "<table border=\"1\" class=\"dataframe\">\n",
       "  <thead>\n",
       "    <tr style=\"text-align: right;\">\n",
       "      <th></th>\n",
       "      <th>time</th>\n",
       "      <th>person_id</th>\n",
       "      <th>reward</th>\n",
       "      <th>offer_id</th>\n",
       "    </tr>\n",
       "  </thead>\n",
       "  <tbody>\n",
       "    <tr>\n",
       "      <th>0</th>\n",
       "      <td>0</td>\n",
       "      <td>56</td>\n",
       "      <td>2</td>\n",
       "      <td>10</td>\n",
       "    </tr>\n",
       "    <tr>\n",
       "      <th>1</th>\n",
       "      <td>0</td>\n",
       "      <td>152</td>\n",
       "      <td>2</td>\n",
       "      <td>7</td>\n",
       "    </tr>\n",
       "    <tr>\n",
       "      <th>2</th>\n",
       "      <td>0</td>\n",
       "      <td>175</td>\n",
       "      <td>5</td>\n",
       "      <td>4</td>\n",
       "    </tr>\n",
       "    <tr>\n",
       "      <th>3</th>\n",
       "      <td>0</td>\n",
       "      <td>300</td>\n",
       "      <td>10</td>\n",
       "      <td>1</td>\n",
       "    </tr>\n",
       "    <tr>\n",
       "      <th>4</th>\n",
       "      <td>0</td>\n",
       "      <td>317</td>\n",
       "      <td>10</td>\n",
       "      <td>2</td>\n",
       "    </tr>\n",
       "  </tbody>\n",
       "</table>\n",
       "</div>"
      ],
      "text/plain": [
       "   time  person_id  reward  offer_id\n",
       "0     0         56       2        10\n",
       "1     0        152       2         7\n",
       "2     0        175       5         4\n",
       "3     0        300      10         1\n",
       "4     0        317      10         2"
      ]
     },
     "execution_count": 160,
     "metadata": {},
     "output_type": "execute_result"
    }
   ],
   "source": [
    "# Get offer id and reward out of 'value' column\n",
    "offer_completed_event['offer_id_org']=offer_completed_event.apply(lambda x: x['value']['offer_id'], axis=1)\n",
    "offer_completed_event['reward']=offer_completed_event.apply(lambda x: x['value']['reward'], axis=1)\n",
    "# Map with 'portfolio'\n",
    "offer_completed_event = pd.merge(offer_completed_event,portfolio[['id','offer_id']],left_on=['offer_id_org'],right_on=['id'],how='left')\n",
    "# Remove unnecessary columns\n",
    "offer_completed_event = offer_completed_event.drop(['event','person','offer_id_org','id','value'],axis=1)\n",
    "offer_completed_event.head()"
   ]
  },
  {
   "cell_type": "code",
   "execution_count": 161,
   "metadata": {},
   "outputs": [
    {
     "data": {
      "text/html": [
       "<div>\n",
       "<style scoped>\n",
       "    .dataframe tbody tr th:only-of-type {\n",
       "        vertical-align: middle;\n",
       "    }\n",
       "\n",
       "    .dataframe tbody tr th {\n",
       "        vertical-align: top;\n",
       "    }\n",
       "\n",
       "    .dataframe thead th {\n",
       "        text-align: right;\n",
       "    }\n",
       "</style>\n",
       "<table border=\"1\" class=\"dataframe\">\n",
       "  <thead>\n",
       "    <tr style=\"text-align: right;\">\n",
       "      <th></th>\n",
       "      <th>event</th>\n",
       "      <th>person</th>\n",
       "      <th>time</th>\n",
       "      <th>value</th>\n",
       "      <th>person_id</th>\n",
       "    </tr>\n",
       "  </thead>\n",
       "  <tbody>\n",
       "    <tr>\n",
       "      <th>12654</th>\n",
       "      <td>transaction</td>\n",
       "      <td>02c083884c7d45b39cc68e1314fec56c</td>\n",
       "      <td>0</td>\n",
       "      <td>{'amount': 0.8300000000000001}</td>\n",
       "      <td>42</td>\n",
       "    </tr>\n",
       "    <tr>\n",
       "      <th>12657</th>\n",
       "      <td>transaction</td>\n",
       "      <td>9fa9ae8f57894cc9a3b8a9bbe0fc1b2f</td>\n",
       "      <td>0</td>\n",
       "      <td>{'amount': 34.56}</td>\n",
       "      <td>56</td>\n",
       "    </tr>\n",
       "    <tr>\n",
       "      <th>12659</th>\n",
       "      <td>transaction</td>\n",
       "      <td>54890f68699049c2a04d415abc25e717</td>\n",
       "      <td>0</td>\n",
       "      <td>{'amount': 13.23}</td>\n",
       "      <td>64</td>\n",
       "    </tr>\n",
       "    <tr>\n",
       "      <th>12670</th>\n",
       "      <td>transaction</td>\n",
       "      <td>b2f1cd155b864803ad8334cdf13c4bd2</td>\n",
       "      <td>0</td>\n",
       "      <td>{'amount': 19.51}</td>\n",
       "      <td>135</td>\n",
       "    </tr>\n",
       "    <tr>\n",
       "      <th>12671</th>\n",
       "      <td>transaction</td>\n",
       "      <td>fe97aa22dd3e48c8b143116a8403dd52</td>\n",
       "      <td>0</td>\n",
       "      <td>{'amount': 18.97}</td>\n",
       "      <td>152</td>\n",
       "    </tr>\n",
       "  </tbody>\n",
       "</table>\n",
       "</div>"
      ],
      "text/plain": [
       "             event                            person  time  \\\n",
       "12654  transaction  02c083884c7d45b39cc68e1314fec56c     0   \n",
       "12657  transaction  9fa9ae8f57894cc9a3b8a9bbe0fc1b2f     0   \n",
       "12659  transaction  54890f68699049c2a04d415abc25e717     0   \n",
       "12670  transaction  b2f1cd155b864803ad8334cdf13c4bd2     0   \n",
       "12671  transaction  fe97aa22dd3e48c8b143116a8403dd52     0   \n",
       "\n",
       "                                value  person_id  \n",
       "12654  {'amount': 0.8300000000000001}         42  \n",
       "12657               {'amount': 34.56}         56  \n",
       "12659               {'amount': 13.23}         64  \n",
       "12670               {'amount': 19.51}        135  \n",
       "12671               {'amount': 18.97}        152  "
      ]
     },
     "execution_count": 161,
     "metadata": {},
     "output_type": "execute_result"
    }
   ],
   "source": [
    "# Take a look at 'transaction_event' dataframe to see the structure.\n",
    "transaction_event.head()"
   ]
  },
  {
   "cell_type": "markdown",
   "metadata": {},
   "source": [
    "For Transaction_event data, we have to get the amount from 'value' column."
   ]
  },
  {
   "cell_type": "code",
   "execution_count": 162,
   "metadata": {},
   "outputs": [
    {
     "name": "stderr",
     "output_type": "stream",
     "text": [
      "/opt/conda/lib/python3.6/site-packages/ipykernel_launcher.py:2: SettingWithCopyWarning: \n",
      "A value is trying to be set on a copy of a slice from a DataFrame.\n",
      "Try using .loc[row_indexer,col_indexer] = value instead\n",
      "\n",
      "See the caveats in the documentation: http://pandas.pydata.org/pandas-docs/stable/indexing.html#indexing-view-versus-copy\n",
      "  \n"
     ]
    },
    {
     "data": {
      "text/html": [
       "<div>\n",
       "<style scoped>\n",
       "    .dataframe tbody tr th:only-of-type {\n",
       "        vertical-align: middle;\n",
       "    }\n",
       "\n",
       "    .dataframe tbody tr th {\n",
       "        vertical-align: top;\n",
       "    }\n",
       "\n",
       "    .dataframe thead th {\n",
       "        text-align: right;\n",
       "    }\n",
       "</style>\n",
       "<table border=\"1\" class=\"dataframe\">\n",
       "  <thead>\n",
       "    <tr style=\"text-align: right;\">\n",
       "      <th></th>\n",
       "      <th>time</th>\n",
       "      <th>person_id</th>\n",
       "      <th>amount</th>\n",
       "    </tr>\n",
       "  </thead>\n",
       "  <tbody>\n",
       "    <tr>\n",
       "      <th>12654</th>\n",
       "      <td>0</td>\n",
       "      <td>42</td>\n",
       "      <td>0.83</td>\n",
       "    </tr>\n",
       "    <tr>\n",
       "      <th>12657</th>\n",
       "      <td>0</td>\n",
       "      <td>56</td>\n",
       "      <td>34.56</td>\n",
       "    </tr>\n",
       "    <tr>\n",
       "      <th>12659</th>\n",
       "      <td>0</td>\n",
       "      <td>64</td>\n",
       "      <td>13.23</td>\n",
       "    </tr>\n",
       "    <tr>\n",
       "      <th>12670</th>\n",
       "      <td>0</td>\n",
       "      <td>135</td>\n",
       "      <td>19.51</td>\n",
       "    </tr>\n",
       "    <tr>\n",
       "      <th>12671</th>\n",
       "      <td>0</td>\n",
       "      <td>152</td>\n",
       "      <td>18.97</td>\n",
       "    </tr>\n",
       "  </tbody>\n",
       "</table>\n",
       "</div>"
      ],
      "text/plain": [
       "       time  person_id  amount\n",
       "12654     0         42    0.83\n",
       "12657     0         56   34.56\n",
       "12659     0         64   13.23\n",
       "12670     0        135   19.51\n",
       "12671     0        152   18.97"
      ]
     },
     "execution_count": 162,
     "metadata": {},
     "output_type": "execute_result"
    }
   ],
   "source": [
    "# Get amount from 'value' column\n",
    "transaction_event['amount']=transaction_event.apply(lambda x: x['value']['amount'], axis=1)\n",
    "# Remove unneccessary columns\n",
    "transaction_event = transaction_event.drop(['event','person','value'],axis=1)\n",
    "transaction_event.head()"
   ]
  },
  {
   "cell_type": "code",
   "execution_count": 163,
   "metadata": {},
   "outputs": [],
   "source": [
    "#Remove the unused columns from other dataframes\n",
    "portfolio = portfolio.drop(['channels','id'],axis=1)\n",
    "profile = profile.drop(['id'],axis=1)"
   ]
  },
  {
   "cell_type": "code",
   "execution_count": 164,
   "metadata": {},
   "outputs": [
    {
     "data": {
      "text/html": [
       "<div>\n",
       "<style scoped>\n",
       "    .dataframe tbody tr th:only-of-type {\n",
       "        vertical-align: middle;\n",
       "    }\n",
       "\n",
       "    .dataframe tbody tr th {\n",
       "        vertical-align: top;\n",
       "    }\n",
       "\n",
       "    .dataframe thead th {\n",
       "        text-align: right;\n",
       "    }\n",
       "</style>\n",
       "<table border=\"1\" class=\"dataframe\">\n",
       "  <thead>\n",
       "    <tr style=\"text-align: right;\">\n",
       "      <th></th>\n",
       "      <th>difficulty</th>\n",
       "      <th>duration</th>\n",
       "      <th>offer_type</th>\n",
       "      <th>reward</th>\n",
       "      <th>is_email</th>\n",
       "      <th>is_mobile</th>\n",
       "      <th>is_social</th>\n",
       "      <th>is_web</th>\n",
       "      <th>offer_id</th>\n",
       "    </tr>\n",
       "  </thead>\n",
       "  <tbody>\n",
       "    <tr>\n",
       "      <th>0</th>\n",
       "      <td>10</td>\n",
       "      <td>7</td>\n",
       "      <td>bogo</td>\n",
       "      <td>10</td>\n",
       "      <td>True</td>\n",
       "      <td>True</td>\n",
       "      <td>True</td>\n",
       "      <td>False</td>\n",
       "      <td>1</td>\n",
       "    </tr>\n",
       "    <tr>\n",
       "      <th>1</th>\n",
       "      <td>10</td>\n",
       "      <td>5</td>\n",
       "      <td>bogo</td>\n",
       "      <td>10</td>\n",
       "      <td>True</td>\n",
       "      <td>True</td>\n",
       "      <td>True</td>\n",
       "      <td>True</td>\n",
       "      <td>2</td>\n",
       "    </tr>\n",
       "    <tr>\n",
       "      <th>2</th>\n",
       "      <td>0</td>\n",
       "      <td>4</td>\n",
       "      <td>informational</td>\n",
       "      <td>0</td>\n",
       "      <td>True</td>\n",
       "      <td>True</td>\n",
       "      <td>False</td>\n",
       "      <td>True</td>\n",
       "      <td>3</td>\n",
       "    </tr>\n",
       "    <tr>\n",
       "      <th>3</th>\n",
       "      <td>5</td>\n",
       "      <td>7</td>\n",
       "      <td>bogo</td>\n",
       "      <td>5</td>\n",
       "      <td>True</td>\n",
       "      <td>True</td>\n",
       "      <td>False</td>\n",
       "      <td>True</td>\n",
       "      <td>4</td>\n",
       "    </tr>\n",
       "    <tr>\n",
       "      <th>4</th>\n",
       "      <td>20</td>\n",
       "      <td>10</td>\n",
       "      <td>discount</td>\n",
       "      <td>5</td>\n",
       "      <td>True</td>\n",
       "      <td>False</td>\n",
       "      <td>False</td>\n",
       "      <td>True</td>\n",
       "      <td>5</td>\n",
       "    </tr>\n",
       "  </tbody>\n",
       "</table>\n",
       "</div>"
      ],
      "text/plain": [
       "   difficulty  duration     offer_type  reward  is_email  is_mobile  \\\n",
       "0          10         7           bogo      10      True       True   \n",
       "1          10         5           bogo      10      True       True   \n",
       "2           0         4  informational       0      True       True   \n",
       "3           5         7           bogo       5      True       True   \n",
       "4          20        10       discount       5      True      False   \n",
       "\n",
       "   is_social  is_web  offer_id  \n",
       "0       True   False         1  \n",
       "1       True    True         2  \n",
       "2      False    True         3  \n",
       "3      False    True         4  \n",
       "4      False    True         5  "
      ]
     },
     "execution_count": 164,
     "metadata": {},
     "output_type": "execute_result"
    }
   ],
   "source": [
    "portfolio.head()"
   ]
  },
  {
   "cell_type": "code",
   "execution_count": 165,
   "metadata": {},
   "outputs": [
    {
     "data": {
      "text/html": [
       "<div>\n",
       "<style scoped>\n",
       "    .dataframe tbody tr th:only-of-type {\n",
       "        vertical-align: middle;\n",
       "    }\n",
       "\n",
       "    .dataframe tbody tr th {\n",
       "        vertical-align: top;\n",
       "    }\n",
       "\n",
       "    .dataframe thead th {\n",
       "        text-align: right;\n",
       "    }\n",
       "</style>\n",
       "<table border=\"1\" class=\"dataframe\">\n",
       "  <thead>\n",
       "    <tr style=\"text-align: right;\">\n",
       "      <th></th>\n",
       "      <th>age</th>\n",
       "      <th>became_member_on</th>\n",
       "      <th>gender</th>\n",
       "      <th>income</th>\n",
       "      <th>person_id</th>\n",
       "    </tr>\n",
       "  </thead>\n",
       "  <tbody>\n",
       "    <tr>\n",
       "      <th>0</th>\n",
       "      <td>118</td>\n",
       "      <td>20170212</td>\n",
       "      <td>None</td>\n",
       "      <td>NaN</td>\n",
       "      <td>1</td>\n",
       "    </tr>\n",
       "    <tr>\n",
       "      <th>1</th>\n",
       "      <td>55</td>\n",
       "      <td>20170715</td>\n",
       "      <td>F</td>\n",
       "      <td>112000.0</td>\n",
       "      <td>2</td>\n",
       "    </tr>\n",
       "    <tr>\n",
       "      <th>2</th>\n",
       "      <td>118</td>\n",
       "      <td>20180712</td>\n",
       "      <td>None</td>\n",
       "      <td>NaN</td>\n",
       "      <td>3</td>\n",
       "    </tr>\n",
       "    <tr>\n",
       "      <th>3</th>\n",
       "      <td>75</td>\n",
       "      <td>20170509</td>\n",
       "      <td>F</td>\n",
       "      <td>100000.0</td>\n",
       "      <td>4</td>\n",
       "    </tr>\n",
       "    <tr>\n",
       "      <th>4</th>\n",
       "      <td>118</td>\n",
       "      <td>20170804</td>\n",
       "      <td>None</td>\n",
       "      <td>NaN</td>\n",
       "      <td>5</td>\n",
       "    </tr>\n",
       "  </tbody>\n",
       "</table>\n",
       "</div>"
      ],
      "text/plain": [
       "   age  became_member_on gender    income  person_id\n",
       "0  118          20170212   None       NaN          1\n",
       "1   55          20170715      F  112000.0          2\n",
       "2  118          20180712   None       NaN          3\n",
       "3   75          20170509      F  100000.0          4\n",
       "4  118          20170804   None       NaN          5"
      ]
     },
     "execution_count": 165,
     "metadata": {},
     "output_type": "execute_result"
    }
   ],
   "source": [
    "profile.head()"
   ]
  },
  {
   "cell_type": "markdown",
   "metadata": {},
   "source": [
    "## 2. Handling the date\n",
    "We have to convert the date column became_member_on to in dicate the time the customer has been registered with the company. The reason is that when a customer stay longer, they will have more time and likely more transactions with the company. To see evaluate customer's peformance, we need to see their average spending per day, instead of total spending."
   ]
  },
  {
   "cell_type": "code",
   "execution_count": 166,
   "metadata": {},
   "outputs": [
    {
     "data": {
      "text/html": [
       "<div>\n",
       "<style scoped>\n",
       "    .dataframe tbody tr th:only-of-type {\n",
       "        vertical-align: middle;\n",
       "    }\n",
       "\n",
       "    .dataframe tbody tr th {\n",
       "        vertical-align: top;\n",
       "    }\n",
       "\n",
       "    .dataframe thead th {\n",
       "        text-align: right;\n",
       "    }\n",
       "</style>\n",
       "<table border=\"1\" class=\"dataframe\">\n",
       "  <thead>\n",
       "    <tr style=\"text-align: right;\">\n",
       "      <th></th>\n",
       "      <th>age</th>\n",
       "      <th>became_member_on</th>\n",
       "      <th>gender</th>\n",
       "      <th>income</th>\n",
       "      <th>person_id</th>\n",
       "      <th>current_date</th>\n",
       "      <th>member_period</th>\n",
       "    </tr>\n",
       "  </thead>\n",
       "  <tbody>\n",
       "    <tr>\n",
       "      <th>0</th>\n",
       "      <td>118</td>\n",
       "      <td>2017-02-12</td>\n",
       "      <td>None</td>\n",
       "      <td>NaN</td>\n",
       "      <td>1</td>\n",
       "      <td>2022-01-09 08:30:50.923708</td>\n",
       "      <td>1792</td>\n",
       "    </tr>\n",
       "    <tr>\n",
       "      <th>1</th>\n",
       "      <td>55</td>\n",
       "      <td>2017-07-15</td>\n",
       "      <td>F</td>\n",
       "      <td>112000.0</td>\n",
       "      <td>2</td>\n",
       "      <td>2022-01-09 08:30:50.923708</td>\n",
       "      <td>1639</td>\n",
       "    </tr>\n",
       "    <tr>\n",
       "      <th>2</th>\n",
       "      <td>118</td>\n",
       "      <td>2018-07-12</td>\n",
       "      <td>None</td>\n",
       "      <td>NaN</td>\n",
       "      <td>3</td>\n",
       "      <td>2022-01-09 08:30:50.923708</td>\n",
       "      <td>1277</td>\n",
       "    </tr>\n",
       "    <tr>\n",
       "      <th>3</th>\n",
       "      <td>75</td>\n",
       "      <td>2017-05-09</td>\n",
       "      <td>F</td>\n",
       "      <td>100000.0</td>\n",
       "      <td>4</td>\n",
       "      <td>2022-01-09 08:30:50.923708</td>\n",
       "      <td>1706</td>\n",
       "    </tr>\n",
       "    <tr>\n",
       "      <th>4</th>\n",
       "      <td>118</td>\n",
       "      <td>2017-08-04</td>\n",
       "      <td>None</td>\n",
       "      <td>NaN</td>\n",
       "      <td>5</td>\n",
       "      <td>2022-01-09 08:30:50.923708</td>\n",
       "      <td>1619</td>\n",
       "    </tr>\n",
       "  </tbody>\n",
       "</table>\n",
       "</div>"
      ],
      "text/plain": [
       "   age became_member_on gender    income  person_id  \\\n",
       "0  118       2017-02-12   None       NaN          1   \n",
       "1   55       2017-07-15      F  112000.0          2   \n",
       "2  118       2018-07-12   None       NaN          3   \n",
       "3   75       2017-05-09      F  100000.0          4   \n",
       "4  118       2017-08-04   None       NaN          5   \n",
       "\n",
       "                current_date  member_period  \n",
       "0 2022-01-09 08:30:50.923708           1792  \n",
       "1 2022-01-09 08:30:50.923708           1639  \n",
       "2 2022-01-09 08:30:50.923708           1277  \n",
       "3 2022-01-09 08:30:50.923708           1706  \n",
       "4 2022-01-09 08:30:50.923708           1619  "
      ]
     },
     "execution_count": 166,
     "metadata": {},
     "output_type": "execute_result"
    }
   ],
   "source": [
    "profile['became_member_on'] = pd.to_datetime(profile['became_member_on'],format='%Y%m%d')\n",
    "profile['current_date'] = pd.to_datetime('today')\n",
    "profile['member_period'] = (profile['current_date']-profile['became_member_on']).dt.days\n",
    "profile.head()"
   ]
  },
  {
   "cell_type": "markdown",
   "metadata": {},
   "source": [
    "## 3.Handling categorical group"
   ]
  },
  {
   "cell_type": "markdown",
   "metadata": {},
   "source": [
    "'gender' is a categorical group. In order to use it for further calculation, we will convert it into numeric values."
   ]
  },
  {
   "cell_type": "code",
   "execution_count": 167,
   "metadata": {},
   "outputs": [
    {
     "data": {
      "text/html": [
       "<div>\n",
       "<style scoped>\n",
       "    .dataframe tbody tr th:only-of-type {\n",
       "        vertical-align: middle;\n",
       "    }\n",
       "\n",
       "    .dataframe tbody tr th {\n",
       "        vertical-align: top;\n",
       "    }\n",
       "\n",
       "    .dataframe thead th {\n",
       "        text-align: right;\n",
       "    }\n",
       "</style>\n",
       "<table border=\"1\" class=\"dataframe\">\n",
       "  <thead>\n",
       "    <tr style=\"text-align: right;\">\n",
       "      <th></th>\n",
       "      <th>age</th>\n",
       "      <th>became_member_on</th>\n",
       "      <th>gender</th>\n",
       "      <th>income</th>\n",
       "      <th>person_id</th>\n",
       "      <th>current_date</th>\n",
       "      <th>member_period</th>\n",
       "      <th>gender_id</th>\n",
       "    </tr>\n",
       "  </thead>\n",
       "  <tbody>\n",
       "    <tr>\n",
       "      <th>0</th>\n",
       "      <td>118</td>\n",
       "      <td>2017-02-12</td>\n",
       "      <td>None</td>\n",
       "      <td>NaN</td>\n",
       "      <td>1</td>\n",
       "      <td>2022-01-09 08:30:50.923708</td>\n",
       "      <td>1792</td>\n",
       "      <td>1</td>\n",
       "    </tr>\n",
       "    <tr>\n",
       "      <th>1</th>\n",
       "      <td>55</td>\n",
       "      <td>2017-07-15</td>\n",
       "      <td>F</td>\n",
       "      <td>112000.0</td>\n",
       "      <td>2</td>\n",
       "      <td>2022-01-09 08:30:50.923708</td>\n",
       "      <td>1639</td>\n",
       "      <td>2</td>\n",
       "    </tr>\n",
       "    <tr>\n",
       "      <th>2</th>\n",
       "      <td>118</td>\n",
       "      <td>2018-07-12</td>\n",
       "      <td>None</td>\n",
       "      <td>NaN</td>\n",
       "      <td>3</td>\n",
       "      <td>2022-01-09 08:30:50.923708</td>\n",
       "      <td>1277</td>\n",
       "      <td>1</td>\n",
       "    </tr>\n",
       "    <tr>\n",
       "      <th>3</th>\n",
       "      <td>75</td>\n",
       "      <td>2017-05-09</td>\n",
       "      <td>F</td>\n",
       "      <td>100000.0</td>\n",
       "      <td>4</td>\n",
       "      <td>2022-01-09 08:30:50.923708</td>\n",
       "      <td>1706</td>\n",
       "      <td>2</td>\n",
       "    </tr>\n",
       "    <tr>\n",
       "      <th>4</th>\n",
       "      <td>118</td>\n",
       "      <td>2017-08-04</td>\n",
       "      <td>None</td>\n",
       "      <td>NaN</td>\n",
       "      <td>5</td>\n",
       "      <td>2022-01-09 08:30:50.923708</td>\n",
       "      <td>1619</td>\n",
       "      <td>1</td>\n",
       "    </tr>\n",
       "  </tbody>\n",
       "</table>\n",
       "</div>"
      ],
      "text/plain": [
       "   age became_member_on gender    income  person_id  \\\n",
       "0  118       2017-02-12   None       NaN          1   \n",
       "1   55       2017-07-15      F  112000.0          2   \n",
       "2  118       2018-07-12   None       NaN          3   \n",
       "3   75       2017-05-09      F  100000.0          4   \n",
       "4  118       2017-08-04   None       NaN          5   \n",
       "\n",
       "                current_date  member_period  gender_id  \n",
       "0 2022-01-09 08:30:50.923708           1792          1  \n",
       "1 2022-01-09 08:30:50.923708           1639          2  \n",
       "2 2022-01-09 08:30:50.923708           1277          1  \n",
       "3 2022-01-09 08:30:50.923708           1706          2  \n",
       "4 2022-01-09 08:30:50.923708           1619          1  "
      ]
     },
     "execution_count": 167,
     "metadata": {},
     "output_type": "execute_result"
    }
   ],
   "source": [
    "profile['gender_id'] = id_mapper(profile,'gender')\n",
    "profile.head()"
   ]
  },
  {
   "cell_type": "markdown",
   "metadata": {},
   "source": [
    "## 4.Handling N/A values"
   ]
  },
  {
   "cell_type": "code",
   "execution_count": 168,
   "metadata": {},
   "outputs": [
    {
     "data": {
      "text/plain": [
       "age                    0\n",
       "became_member_on       0\n",
       "gender              2175\n",
       "income              2175\n",
       "person_id              0\n",
       "current_date           0\n",
       "member_period          0\n",
       "gender_id              0\n",
       "dtype: int64"
      ]
     },
     "execution_count": 168,
     "metadata": {},
     "output_type": "execute_result"
    }
   ],
   "source": [
    "# Check dataframes for N/A values. Portfolio and Transcripts should not contain N/A as they were \n",
    "# exported from Starbucks' system. The only dataset that may contain N/A is profile\n",
    "profile.isnull().sum(axis = 0)"
   ]
  },
  {
   "cell_type": "code",
   "execution_count": 169,
   "metadata": {},
   "outputs": [
    {
     "data": {
      "text/plain": [
       "(17000, 8)"
      ]
     },
     "execution_count": 169,
     "metadata": {},
     "output_type": "execute_result"
    }
   ],
   "source": [
    "profile.shape"
   ]
  },
  {
   "cell_type": "markdown",
   "metadata": {},
   "source": [
    "People who do not reveal age will be encoded with value 118 in age column. We will check the number of missing value in 'age'."
   ]
  },
  {
   "cell_type": "code",
   "execution_count": 170,
   "metadata": {},
   "outputs": [
    {
     "data": {
      "text/plain": [
       "2175"
      ]
     },
     "execution_count": 170,
     "metadata": {},
     "output_type": "execute_result"
    }
   ],
   "source": [
    "profile[profile['age'] == 118].shape[0]"
   ]
  },
  {
   "cell_type": "markdown",
   "metadata": {},
   "source": [
    "There are 17000 people in 'profile' dataset and only 2175 of them contain N/A values. \n",
    "The number of N/A value in age, gender and income columns are equal. We will check if those came from the same set of people."
   ]
  },
  {
   "cell_type": "code",
   "execution_count": 171,
   "metadata": {},
   "outputs": [
    {
     "data": {
      "text/plain": [
       "2175"
      ]
     },
     "execution_count": 171,
     "metadata": {},
     "output_type": "execute_result"
    }
   ],
   "source": [
    "null_df = profile['gender'].isnull() & profile['income'].isnull() & (profile['age'] == 118)\n",
    "null_df.sum()"
   ]
  },
  {
   "cell_type": "markdown",
   "metadata": {},
   "source": [
    "So all people that have N/A in 'gender' have N/A in 'income' and 'age'. Those can be classified as a specific group who don't want to reveal their personal information. We can call them as 'high_secure' group and analyze their behavior separately. \n",
    "For now, we will split the 'profile' dataset into 'profile_low_secure' and 'profile_high_secure'"
   ]
  },
  {
   "cell_type": "code",
   "execution_count": 202,
   "metadata": {},
   "outputs": [
    {
     "data": {
      "image/png": "[encoded data removed]",
      "text/plain": [
       "<matplotlib.figure.Figure at 0x7feabc58c908>"
      ]
     },
     "metadata": {},
     "output_type": "display_data"
    }
   ],
   "source": [
    "# We can see here the portion of the 2 groups\n",
    "security_portion = profile.groupby(profile['gender'].isnull()).size().values*100/profile['person_id'].count()\n",
    "plt.pie(security_portion,\n",
    "        labels=[f'Provided {round(security_portion[0],2)}%',f'Hiding {round(security_portion[1],2)}%'])\n",
    "plt.title(\"Customer by Personal Information\")\n",
    "plt.show()"
   ]
  },
  {
   "cell_type": "code",
   "execution_count": 173,
   "metadata": {},
   "outputs": [
    {
     "data": {
      "text/html": [
       "<div>\n",
       "<style scoped>\n",
       "    .dataframe tbody tr th:only-of-type {\n",
       "        vertical-align: middle;\n",
       "    }\n",
       "\n",
       "    .dataframe tbody tr th {\n",
       "        vertical-align: top;\n",
       "    }\n",
       "\n",
       "    .dataframe thead th {\n",
       "        text-align: right;\n",
       "    }\n",
       "</style>\n",
       "<table border=\"1\" class=\"dataframe\">\n",
       "  <thead>\n",
       "    <tr style=\"text-align: right;\">\n",
       "      <th></th>\n",
       "      <th>age</th>\n",
       "      <th>became_member_on</th>\n",
       "      <th>gender</th>\n",
       "      <th>income</th>\n",
       "      <th>person_id</th>\n",
       "      <th>current_date</th>\n",
       "      <th>member_period</th>\n",
       "      <th>gender_id</th>\n",
       "      <th>provided_info</th>\n",
       "    </tr>\n",
       "  </thead>\n",
       "  <tbody>\n",
       "    <tr>\n",
       "      <th>0</th>\n",
       "      <td>118</td>\n",
       "      <td>2017-02-12</td>\n",
       "      <td>None</td>\n",
       "      <td>NaN</td>\n",
       "      <td>1</td>\n",
       "      <td>2022-01-09 08:30:50.923708</td>\n",
       "      <td>1792</td>\n",
       "      <td>1</td>\n",
       "      <td>True</td>\n",
       "    </tr>\n",
       "    <tr>\n",
       "      <th>1</th>\n",
       "      <td>55</td>\n",
       "      <td>2017-07-15</td>\n",
       "      <td>F</td>\n",
       "      <td>112000.0</td>\n",
       "      <td>2</td>\n",
       "      <td>2022-01-09 08:30:50.923708</td>\n",
       "      <td>1639</td>\n",
       "      <td>2</td>\n",
       "      <td>False</td>\n",
       "    </tr>\n",
       "    <tr>\n",
       "      <th>2</th>\n",
       "      <td>118</td>\n",
       "      <td>2018-07-12</td>\n",
       "      <td>None</td>\n",
       "      <td>NaN</td>\n",
       "      <td>3</td>\n",
       "      <td>2022-01-09 08:30:50.923708</td>\n",
       "      <td>1277</td>\n",
       "      <td>1</td>\n",
       "      <td>True</td>\n",
       "    </tr>\n",
       "    <tr>\n",
       "      <th>3</th>\n",
       "      <td>75</td>\n",
       "      <td>2017-05-09</td>\n",
       "      <td>F</td>\n",
       "      <td>100000.0</td>\n",
       "      <td>4</td>\n",
       "      <td>2022-01-09 08:30:50.923708</td>\n",
       "      <td>1706</td>\n",
       "      <td>2</td>\n",
       "      <td>False</td>\n",
       "    </tr>\n",
       "    <tr>\n",
       "      <th>4</th>\n",
       "      <td>118</td>\n",
       "      <td>2017-08-04</td>\n",
       "      <td>None</td>\n",
       "      <td>NaN</td>\n",
       "      <td>5</td>\n",
       "      <td>2022-01-09 08:30:50.923708</td>\n",
       "      <td>1619</td>\n",
       "      <td>1</td>\n",
       "      <td>True</td>\n",
       "    </tr>\n",
       "  </tbody>\n",
       "</table>\n",
       "</div>"
      ],
      "text/plain": [
       "   age became_member_on gender    income  person_id  \\\n",
       "0  118       2017-02-12   None       NaN          1   \n",
       "1   55       2017-07-15      F  112000.0          2   \n",
       "2  118       2018-07-12   None       NaN          3   \n",
       "3   75       2017-05-09      F  100000.0          4   \n",
       "4  118       2017-08-04   None       NaN          5   \n",
       "\n",
       "                current_date  member_period  gender_id  provided_info  \n",
       "0 2022-01-09 08:30:50.923708           1792          1           True  \n",
       "1 2022-01-09 08:30:50.923708           1639          2          False  \n",
       "2 2022-01-09 08:30:50.923708           1277          1           True  \n",
       "3 2022-01-09 08:30:50.923708           1706          2          False  \n",
       "4 2022-01-09 08:30:50.923708           1619          1           True  "
      ]
     },
     "execution_count": 173,
     "metadata": {},
     "output_type": "execute_result"
    }
   ],
   "source": [
    "#Create the dummy variable to indicate whether customer provide personal information or not\n",
    "profile['provided_info']=profile['gender'].isnull()\n",
    "profile.head()"
   ]
  },
  {
   "cell_type": "code",
   "execution_count": 174,
   "metadata": {},
   "outputs": [],
   "source": [
    "profile_low_secure = profile[profile['gender'].isnull() == False]\n",
    "profile_high_secure = profile[profile['gender'].isnull()]\n",
    "profile_high_secure=profile_high_secure.drop(['gender','income'],axis=1)"
   ]
  },
  {
   "cell_type": "code",
   "execution_count": 175,
   "metadata": {},
   "outputs": [
    {
     "data": {
      "text/html": [
       "<div>\n",
       "<style scoped>\n",
       "    .dataframe tbody tr th:only-of-type {\n",
       "        vertical-align: middle;\n",
       "    }\n",
       "\n",
       "    .dataframe tbody tr th {\n",
       "        vertical-align: top;\n",
       "    }\n",
       "\n",
       "    .dataframe thead th {\n",
       "        text-align: right;\n",
       "    }\n",
       "</style>\n",
       "<table border=\"1\" class=\"dataframe\">\n",
       "  <thead>\n",
       "    <tr style=\"text-align: right;\">\n",
       "      <th></th>\n",
       "      <th>age</th>\n",
       "      <th>became_member_on</th>\n",
       "      <th>person_id</th>\n",
       "      <th>current_date</th>\n",
       "      <th>member_period</th>\n",
       "      <th>gender_id</th>\n",
       "      <th>provided_info</th>\n",
       "    </tr>\n",
       "  </thead>\n",
       "  <tbody>\n",
       "    <tr>\n",
       "      <th>0</th>\n",
       "      <td>118</td>\n",
       "      <td>2017-02-12</td>\n",
       "      <td>1</td>\n",
       "      <td>2022-01-09 08:30:50.923708</td>\n",
       "      <td>1792</td>\n",
       "      <td>1</td>\n",
       "      <td>True</td>\n",
       "    </tr>\n",
       "    <tr>\n",
       "      <th>2</th>\n",
       "      <td>118</td>\n",
       "      <td>2018-07-12</td>\n",
       "      <td>3</td>\n",
       "      <td>2022-01-09 08:30:50.923708</td>\n",
       "      <td>1277</td>\n",
       "      <td>1</td>\n",
       "      <td>True</td>\n",
       "    </tr>\n",
       "    <tr>\n",
       "      <th>4</th>\n",
       "      <td>118</td>\n",
       "      <td>2017-08-04</td>\n",
       "      <td>5</td>\n",
       "      <td>2022-01-09 08:30:50.923708</td>\n",
       "      <td>1619</td>\n",
       "      <td>1</td>\n",
       "      <td>True</td>\n",
       "    </tr>\n",
       "    <tr>\n",
       "      <th>6</th>\n",
       "      <td>118</td>\n",
       "      <td>2017-09-25</td>\n",
       "      <td>7</td>\n",
       "      <td>2022-01-09 08:30:50.923708</td>\n",
       "      <td>1567</td>\n",
       "      <td>1</td>\n",
       "      <td>True</td>\n",
       "    </tr>\n",
       "    <tr>\n",
       "      <th>7</th>\n",
       "      <td>118</td>\n",
       "      <td>2017-10-02</td>\n",
       "      <td>8</td>\n",
       "      <td>2022-01-09 08:30:50.923708</td>\n",
       "      <td>1560</td>\n",
       "      <td>1</td>\n",
       "      <td>True</td>\n",
       "    </tr>\n",
       "  </tbody>\n",
       "</table>\n",
       "</div>"
      ],
      "text/plain": [
       "   age became_member_on  person_id               current_date  member_period  \\\n",
       "0  118       2017-02-12          1 2022-01-09 08:30:50.923708           1792   \n",
       "2  118       2018-07-12          3 2022-01-09 08:30:50.923708           1277   \n",
       "4  118       2017-08-04          5 2022-01-09 08:30:50.923708           1619   \n",
       "6  118       2017-09-25          7 2022-01-09 08:30:50.923708           1567   \n",
       "7  118       2017-10-02          8 2022-01-09 08:30:50.923708           1560   \n",
       "\n",
       "   gender_id  provided_info  \n",
       "0          1           True  \n",
       "2          1           True  \n",
       "4          1           True  \n",
       "6          1           True  \n",
       "7          1           True  "
      ]
     },
     "execution_count": 175,
     "metadata": {},
     "output_type": "execute_result"
    }
   ],
   "source": [
    "profile_high_secure.head()"
   ]
  },
  {
   "cell_type": "code",
   "execution_count": 176,
   "metadata": {},
   "outputs": [
    {
     "data": {
      "text/html": [
       "<div>\n",
       "<style scoped>\n",
       "    .dataframe tbody tr th:only-of-type {\n",
       "        vertical-align: middle;\n",
       "    }\n",
       "\n",
       "    .dataframe tbody tr th {\n",
       "        vertical-align: top;\n",
       "    }\n",
       "\n",
       "    .dataframe thead th {\n",
       "        text-align: right;\n",
       "    }\n",
       "</style>\n",
       "<table border=\"1\" class=\"dataframe\">\n",
       "  <thead>\n",
       "    <tr style=\"text-align: right;\">\n",
       "      <th></th>\n",
       "      <th>age</th>\n",
       "      <th>became_member_on</th>\n",
       "      <th>gender</th>\n",
       "      <th>income</th>\n",
       "      <th>person_id</th>\n",
       "      <th>current_date</th>\n",
       "      <th>member_period</th>\n",
       "      <th>gender_id</th>\n",
       "      <th>provided_info</th>\n",
       "    </tr>\n",
       "  </thead>\n",
       "  <tbody>\n",
       "    <tr>\n",
       "      <th>1</th>\n",
       "      <td>55</td>\n",
       "      <td>2017-07-15</td>\n",
       "      <td>F</td>\n",
       "      <td>112000.0</td>\n",
       "      <td>2</td>\n",
       "      <td>2022-01-09 08:30:50.923708</td>\n",
       "      <td>1639</td>\n",
       "      <td>2</td>\n",
       "      <td>False</td>\n",
       "    </tr>\n",
       "    <tr>\n",
       "      <th>3</th>\n",
       "      <td>75</td>\n",
       "      <td>2017-05-09</td>\n",
       "      <td>F</td>\n",
       "      <td>100000.0</td>\n",
       "      <td>4</td>\n",
       "      <td>2022-01-09 08:30:50.923708</td>\n",
       "      <td>1706</td>\n",
       "      <td>2</td>\n",
       "      <td>False</td>\n",
       "    </tr>\n",
       "    <tr>\n",
       "      <th>5</th>\n",
       "      <td>68</td>\n",
       "      <td>2018-04-26</td>\n",
       "      <td>M</td>\n",
       "      <td>70000.0</td>\n",
       "      <td>6</td>\n",
       "      <td>2022-01-09 08:30:50.923708</td>\n",
       "      <td>1354</td>\n",
       "      <td>3</td>\n",
       "      <td>False</td>\n",
       "    </tr>\n",
       "    <tr>\n",
       "      <th>8</th>\n",
       "      <td>65</td>\n",
       "      <td>2018-02-09</td>\n",
       "      <td>M</td>\n",
       "      <td>53000.0</td>\n",
       "      <td>9</td>\n",
       "      <td>2022-01-09 08:30:50.923708</td>\n",
       "      <td>1430</td>\n",
       "      <td>3</td>\n",
       "      <td>False</td>\n",
       "    </tr>\n",
       "    <tr>\n",
       "      <th>12</th>\n",
       "      <td>58</td>\n",
       "      <td>2017-11-11</td>\n",
       "      <td>M</td>\n",
       "      <td>51000.0</td>\n",
       "      <td>13</td>\n",
       "      <td>2022-01-09 08:30:50.923708</td>\n",
       "      <td>1520</td>\n",
       "      <td>3</td>\n",
       "      <td>False</td>\n",
       "    </tr>\n",
       "  </tbody>\n",
       "</table>\n",
       "</div>"
      ],
      "text/plain": [
       "    age became_member_on gender    income  person_id  \\\n",
       "1    55       2017-07-15      F  112000.0          2   \n",
       "3    75       2017-05-09      F  100000.0          4   \n",
       "5    68       2018-04-26      M   70000.0          6   \n",
       "8    65       2018-02-09      M   53000.0          9   \n",
       "12   58       2017-11-11      M   51000.0         13   \n",
       "\n",
       "                 current_date  member_period  gender_id  provided_info  \n",
       "1  2022-01-09 08:30:50.923708           1639          2          False  \n",
       "3  2022-01-09 08:30:50.923708           1706          2          False  \n",
       "5  2022-01-09 08:30:50.923708           1354          3          False  \n",
       "8  2022-01-09 08:30:50.923708           1430          3          False  \n",
       "12 2022-01-09 08:30:50.923708           1520          3          False  "
      ]
     },
     "execution_count": 176,
     "metadata": {},
     "output_type": "execute_result"
    }
   ],
   "source": [
    "profile_low_secure.head()"
   ]
  },
  {
   "cell_type": "markdown",
   "metadata": {},
   "source": [
    "# Business Problems"
   ]
  },
  {
   "cell_type": "markdown",
   "metadata": {},
   "source": [
    "### Now that we've had a first look at the cleaned data, we can start to think about the business issues and the questions that we will be able to find answers from the dataset."
   ]
  },
  {
   "cell_type": "markdown",
   "metadata": {},
   "source": [
    "### 1. Understand the high security group"
   ]
  },
  {
   "cell_type": "markdown",
   "metadata": {},
   "source": [
    "There are a portion of customers that have high sense of security and do not want to reveal personal information (gender, income, age). We want to know if there's any particular behavior from this group. This group accounts for 12,79% of the total customers so understand their behavior may provide more insights to sales and marketing strategies.<br>\n",
    "To compare the differencies between 2 groups and define statistical significances, T-test is a reliable method and we will have it supported by descriptive statistics methodology.<br>\n",
    "Finally we will run a regression model on the security feature and see how well it can help us with predicting customer puschase."
   ]
  },
  {
   "cell_type": "markdown",
   "metadata": {},
   "source": [
    "The first metric we want to focus on is the revenue - transaction amount.<br>\n",
    "To get the average revenue of the high security group, we will have to pivot the transaction_event data by person_id to get the volume of each person and then map to the profile_high_secure dataframe."
   ]
  },
  {
   "cell_type": "code",
   "execution_count": 177,
   "metadata": {},
   "outputs": [
    {
     "data": {
      "text/html": [
       "<div>\n",
       "<style scoped>\n",
       "    .dataframe tbody tr th:only-of-type {\n",
       "        vertical-align: middle;\n",
       "    }\n",
       "\n",
       "    .dataframe tbody tr th {\n",
       "        vertical-align: top;\n",
       "    }\n",
       "\n",
       "    .dataframe thead th {\n",
       "        text-align: right;\n",
       "    }\n",
       "</style>\n",
       "<table border=\"1\" class=\"dataframe\">\n",
       "  <thead>\n",
       "    <tr style=\"text-align: right;\">\n",
       "      <th></th>\n",
       "      <th>sum</th>\n",
       "      <th>count</th>\n",
       "    </tr>\n",
       "    <tr>\n",
       "      <th>person_id</th>\n",
       "      <th></th>\n",
       "      <th></th>\n",
       "    </tr>\n",
       "  </thead>\n",
       "  <tbody>\n",
       "    <tr>\n",
       "      <th>1</th>\n",
       "      <td>20.40</td>\n",
       "      <td>9</td>\n",
       "    </tr>\n",
       "    <tr>\n",
       "      <th>2</th>\n",
       "      <td>77.01</td>\n",
       "      <td>3</td>\n",
       "    </tr>\n",
       "    <tr>\n",
       "      <th>3</th>\n",
       "      <td>14.30</td>\n",
       "      <td>6</td>\n",
       "    </tr>\n",
       "    <tr>\n",
       "      <th>4</th>\n",
       "      <td>159.27</td>\n",
       "      <td>7</td>\n",
       "    </tr>\n",
       "    <tr>\n",
       "      <th>5</th>\n",
       "      <td>4.65</td>\n",
       "      <td>3</td>\n",
       "    </tr>\n",
       "  </tbody>\n",
       "</table>\n",
       "</div>"
      ],
      "text/plain": [
       "              sum  count\n",
       "person_id               \n",
       "1           20.40      9\n",
       "2           77.01      3\n",
       "3           14.30      6\n",
       "4          159.27      7\n",
       "5            4.65      3"
      ]
     },
     "execution_count": 177,
     "metadata": {},
     "output_type": "execute_result"
    }
   ],
   "source": [
    "# Get the volume by customer data\n",
    "volume_df = transaction_event.groupby('person_id').agg({'amount':['sum', 'count']})\n",
    "volume_df.columns = volume_df.columns.droplevel(level = 0)\n",
    "#volume_df = volume_df.reset_index()\n",
    "volume_df.head()"
   ]
  },
  {
   "cell_type": "code",
   "execution_count": 178,
   "metadata": {},
   "outputs": [
    {
     "data": {
      "text/html": [
       "<div>\n",
       "<style scoped>\n",
       "    .dataframe tbody tr th:only-of-type {\n",
       "        vertical-align: middle;\n",
       "    }\n",
       "\n",
       "    .dataframe tbody tr th {\n",
       "        vertical-align: top;\n",
       "    }\n",
       "\n",
       "    .dataframe thead th {\n",
       "        text-align: right;\n",
       "    }\n",
       "</style>\n",
       "<table border=\"1\" class=\"dataframe\">\n",
       "  <thead>\n",
       "    <tr style=\"text-align: right;\">\n",
       "      <th></th>\n",
       "      <th>age</th>\n",
       "      <th>became_member_on</th>\n",
       "      <th>gender</th>\n",
       "      <th>income</th>\n",
       "      <th>person_id</th>\n",
       "      <th>current_date</th>\n",
       "      <th>member_period</th>\n",
       "      <th>gender_id</th>\n",
       "      <th>provided_info</th>\n",
       "      <th>sum</th>\n",
       "      <th>count</th>\n",
       "      <th>daily_sum</th>\n",
       "      <th>daily_count</th>\n",
       "    </tr>\n",
       "  </thead>\n",
       "  <tbody>\n",
       "    <tr>\n",
       "      <th>0</th>\n",
       "      <td>118</td>\n",
       "      <td>2017-02-12</td>\n",
       "      <td>0</td>\n",
       "      <td>0.0</td>\n",
       "      <td>1</td>\n",
       "      <td>2022-01-09 08:30:50.923708</td>\n",
       "      <td>1792</td>\n",
       "      <td>1</td>\n",
       "      <td>True</td>\n",
       "      <td>20.40</td>\n",
       "      <td>9.0</td>\n",
       "      <td>0.011384</td>\n",
       "      <td>0.005022</td>\n",
       "    </tr>\n",
       "    <tr>\n",
       "      <th>1</th>\n",
       "      <td>55</td>\n",
       "      <td>2017-07-15</td>\n",
       "      <td>F</td>\n",
       "      <td>112000.0</td>\n",
       "      <td>2</td>\n",
       "      <td>2022-01-09 08:30:50.923708</td>\n",
       "      <td>1639</td>\n",
       "      <td>2</td>\n",
       "      <td>False</td>\n",
       "      <td>77.01</td>\n",
       "      <td>3.0</td>\n",
       "      <td>0.046986</td>\n",
       "      <td>0.001830</td>\n",
       "    </tr>\n",
       "    <tr>\n",
       "      <th>2</th>\n",
       "      <td>118</td>\n",
       "      <td>2018-07-12</td>\n",
       "      <td>0</td>\n",
       "      <td>0.0</td>\n",
       "      <td>3</td>\n",
       "      <td>2022-01-09 08:30:50.923708</td>\n",
       "      <td>1277</td>\n",
       "      <td>1</td>\n",
       "      <td>True</td>\n",
       "      <td>14.30</td>\n",
       "      <td>6.0</td>\n",
       "      <td>0.011198</td>\n",
       "      <td>0.004699</td>\n",
       "    </tr>\n",
       "    <tr>\n",
       "      <th>3</th>\n",
       "      <td>75</td>\n",
       "      <td>2017-05-09</td>\n",
       "      <td>F</td>\n",
       "      <td>100000.0</td>\n",
       "      <td>4</td>\n",
       "      <td>2022-01-09 08:30:50.923708</td>\n",
       "      <td>1706</td>\n",
       "      <td>2</td>\n",
       "      <td>False</td>\n",
       "      <td>159.27</td>\n",
       "      <td>7.0</td>\n",
       "      <td>0.093359</td>\n",
       "      <td>0.004103</td>\n",
       "    </tr>\n",
       "    <tr>\n",
       "      <th>4</th>\n",
       "      <td>118</td>\n",
       "      <td>2017-08-04</td>\n",
       "      <td>0</td>\n",
       "      <td>0.0</td>\n",
       "      <td>5</td>\n",
       "      <td>2022-01-09 08:30:50.923708</td>\n",
       "      <td>1619</td>\n",
       "      <td>1</td>\n",
       "      <td>True</td>\n",
       "      <td>4.65</td>\n",
       "      <td>3.0</td>\n",
       "      <td>0.002872</td>\n",
       "      <td>0.001853</td>\n",
       "    </tr>\n",
       "  </tbody>\n",
       "</table>\n",
       "</div>"
      ],
      "text/plain": [
       "   age became_member_on gender    income  person_id  \\\n",
       "0  118       2017-02-12      0       0.0          1   \n",
       "1   55       2017-07-15      F  112000.0          2   \n",
       "2  118       2018-07-12      0       0.0          3   \n",
       "3   75       2017-05-09      F  100000.0          4   \n",
       "4  118       2017-08-04      0       0.0          5   \n",
       "\n",
       "                current_date  member_period  gender_id  provided_info     sum  \\\n",
       "0 2022-01-09 08:30:50.923708           1792          1           True   20.40   \n",
       "1 2022-01-09 08:30:50.923708           1639          2          False   77.01   \n",
       "2 2022-01-09 08:30:50.923708           1277          1           True   14.30   \n",
       "3 2022-01-09 08:30:50.923708           1706          2          False  159.27   \n",
       "4 2022-01-09 08:30:50.923708           1619          1           True    4.65   \n",
       "\n",
       "   count  daily_sum  daily_count  \n",
       "0    9.0   0.011384     0.005022  \n",
       "1    3.0   0.046986     0.001830  \n",
       "2    6.0   0.011198     0.004699  \n",
       "3    7.0   0.093359     0.004103  \n",
       "4    3.0   0.002872     0.001853  "
      ]
     },
     "execution_count": 178,
     "metadata": {},
     "output_type": "execute_result"
    }
   ],
   "source": [
    "# Map the volume_df to profile and get the average volume\n",
    "profile_volume = profile.join(volume_df, on='person_id')\n",
    "# N/A volume indicate that there's no transaction with a customer so we can replace them with 0\n",
    "profile_volume = profile_volume.fillna(0)\n",
    "# Get the volume per day\n",
    "profile_volume['daily_sum']=profile_volume['sum']/profile_volume['member_period']\n",
    "profile_volume['daily_count']=profile_volume['count']/profile_volume['member_period']\n",
    "profile_volume.head()"
   ]
  },
  {
   "cell_type": "markdown",
   "metadata": {},
   "source": [
    "The second metrics will be offer responsiveness to evaluate the performance of promotional offers on customers."
   ]
  },
  {
   "cell_type": "code",
   "execution_count": 179,
   "metadata": {},
   "outputs": [],
   "source": [
    "# Get the offer received by customer data\n",
    "offer_received_df = offer_received_event[['person_id','offer_id']].groupby('person_id').count()\n",
    "offer_received_df = offer_received_df.reset_index()\n",
    "offer_received_df.rename(columns={'offer_id': 'offer_received'}, inplace=True)\n",
    "# Get the offer viewed by customer data\n",
    "offer_viewed_df = offer_viewed_event[['person_id','offer_id']].groupby('person_id').count()\n",
    "offer_viewed_df = offer_viewed_df.reset_index()\n",
    "offer_viewed_df.rename(columns={'offer_id': 'offer_viewed'}, inplace=True)\n",
    "# Get the offer completed by customer data\n",
    "offer_completed_df = offer_completed_event[['person_id','offer_id']].groupby('person_id').count()\n",
    "offer_completed_df = offer_completed_df.reset_index()\n",
    "offer_completed_df.rename(columns={'offer_id': 'offer_completed'}, inplace=True)"
   ]
  },
  {
   "cell_type": "code",
   "execution_count": 180,
   "metadata": {},
   "outputs": [
    {
     "data": {
      "text/html": [
       "<div>\n",
       "<style scoped>\n",
       "    .dataframe tbody tr th:only-of-type {\n",
       "        vertical-align: middle;\n",
       "    }\n",
       "\n",
       "    .dataframe tbody tr th {\n",
       "        vertical-align: top;\n",
       "    }\n",
       "\n",
       "    .dataframe thead th {\n",
       "        text-align: right;\n",
       "    }\n",
       "</style>\n",
       "<table border=\"1\" class=\"dataframe\">\n",
       "  <thead>\n",
       "    <tr style=\"text-align: right;\">\n",
       "      <th></th>\n",
       "      <th>age</th>\n",
       "      <th>became_member_on</th>\n",
       "      <th>gender</th>\n",
       "      <th>income</th>\n",
       "      <th>person_id</th>\n",
       "      <th>current_date</th>\n",
       "      <th>member_period</th>\n",
       "      <th>gender_id</th>\n",
       "      <th>provided_info</th>\n",
       "      <th>sum</th>\n",
       "      <th>count</th>\n",
       "      <th>daily_sum</th>\n",
       "      <th>daily_count</th>\n",
       "      <th>offer_received</th>\n",
       "      <th>offer_viewed</th>\n",
       "      <th>offer_completed</th>\n",
       "    </tr>\n",
       "  </thead>\n",
       "  <tbody>\n",
       "    <tr>\n",
       "      <th>0</th>\n",
       "      <td>118</td>\n",
       "      <td>2017-02-12</td>\n",
       "      <td>0</td>\n",
       "      <td>0.0</td>\n",
       "      <td>1</td>\n",
       "      <td>2022-01-09 08:30:50.923708</td>\n",
       "      <td>1792</td>\n",
       "      <td>1</td>\n",
       "      <td>True</td>\n",
       "      <td>20.40</td>\n",
       "      <td>9.0</td>\n",
       "      <td>0.011384</td>\n",
       "      <td>0.005022</td>\n",
       "      <td>5.0</td>\n",
       "      <td>5.0</td>\n",
       "      <td>2.0</td>\n",
       "    </tr>\n",
       "    <tr>\n",
       "      <th>1</th>\n",
       "      <td>55</td>\n",
       "      <td>2017-07-15</td>\n",
       "      <td>F</td>\n",
       "      <td>112000.0</td>\n",
       "      <td>2</td>\n",
       "      <td>2022-01-09 08:30:50.923708</td>\n",
       "      <td>1639</td>\n",
       "      <td>2</td>\n",
       "      <td>False</td>\n",
       "      <td>77.01</td>\n",
       "      <td>3.0</td>\n",
       "      <td>0.046986</td>\n",
       "      <td>0.001830</td>\n",
       "      <td>2.0</td>\n",
       "      <td>0.0</td>\n",
       "      <td>1.0</td>\n",
       "    </tr>\n",
       "    <tr>\n",
       "      <th>2</th>\n",
       "      <td>118</td>\n",
       "      <td>2018-07-12</td>\n",
       "      <td>0</td>\n",
       "      <td>0.0</td>\n",
       "      <td>3</td>\n",
       "      <td>2022-01-09 08:30:50.923708</td>\n",
       "      <td>1277</td>\n",
       "      <td>1</td>\n",
       "      <td>True</td>\n",
       "      <td>14.30</td>\n",
       "      <td>6.0</td>\n",
       "      <td>0.011198</td>\n",
       "      <td>0.004699</td>\n",
       "      <td>2.0</td>\n",
       "      <td>2.0</td>\n",
       "      <td>0.0</td>\n",
       "    </tr>\n",
       "    <tr>\n",
       "      <th>3</th>\n",
       "      <td>75</td>\n",
       "      <td>2017-05-09</td>\n",
       "      <td>F</td>\n",
       "      <td>100000.0</td>\n",
       "      <td>4</td>\n",
       "      <td>2022-01-09 08:30:50.923708</td>\n",
       "      <td>1706</td>\n",
       "      <td>2</td>\n",
       "      <td>False</td>\n",
       "      <td>159.27</td>\n",
       "      <td>7.0</td>\n",
       "      <td>0.093359</td>\n",
       "      <td>0.004103</td>\n",
       "      <td>4.0</td>\n",
       "      <td>4.0</td>\n",
       "      <td>3.0</td>\n",
       "    </tr>\n",
       "    <tr>\n",
       "      <th>4</th>\n",
       "      <td>118</td>\n",
       "      <td>2017-08-04</td>\n",
       "      <td>0</td>\n",
       "      <td>0.0</td>\n",
       "      <td>5</td>\n",
       "      <td>2022-01-09 08:30:50.923708</td>\n",
       "      <td>1619</td>\n",
       "      <td>1</td>\n",
       "      <td>True</td>\n",
       "      <td>4.65</td>\n",
       "      <td>3.0</td>\n",
       "      <td>0.002872</td>\n",
       "      <td>0.001853</td>\n",
       "      <td>5.0</td>\n",
       "      <td>3.0</td>\n",
       "      <td>0.0</td>\n",
       "    </tr>\n",
       "  </tbody>\n",
       "</table>\n",
       "</div>"
      ],
      "text/plain": [
       "   age became_member_on gender    income  person_id  \\\n",
       "0  118       2017-02-12      0       0.0          1   \n",
       "1   55       2017-07-15      F  112000.0          2   \n",
       "2  118       2018-07-12      0       0.0          3   \n",
       "3   75       2017-05-09      F  100000.0          4   \n",
       "4  118       2017-08-04      0       0.0          5   \n",
       "\n",
       "                current_date  member_period  gender_id  provided_info     sum  \\\n",
       "0 2022-01-09 08:30:50.923708           1792          1           True   20.40   \n",
       "1 2022-01-09 08:30:50.923708           1639          2          False   77.01   \n",
       "2 2022-01-09 08:30:50.923708           1277          1           True   14.30   \n",
       "3 2022-01-09 08:30:50.923708           1706          2          False  159.27   \n",
       "4 2022-01-09 08:30:50.923708           1619          1           True    4.65   \n",
       "\n",
       "   count  daily_sum  daily_count  offer_received  offer_viewed  \\\n",
       "0    9.0   0.011384     0.005022             5.0           5.0   \n",
       "1    3.0   0.046986     0.001830             2.0           0.0   \n",
       "2    6.0   0.011198     0.004699             2.0           2.0   \n",
       "3    7.0   0.093359     0.004103             4.0           4.0   \n",
       "4    3.0   0.002872     0.001853             5.0           3.0   \n",
       "\n",
       "   offer_completed  \n",
       "0              2.0  \n",
       "1              1.0  \n",
       "2              0.0  \n",
       "3              3.0  \n",
       "4              0.0  "
      ]
     },
     "execution_count": 180,
     "metadata": {},
     "output_type": "execute_result"
    }
   ],
   "source": [
    "# Map the offer counts into profile data and fill the N/A values with 0\n",
    "profile_volume = pd.merge(profile_volume,offer_received_df,on='person_id',how='left')\n",
    "profile_volume = pd.merge(profile_volume,offer_viewed_df,on='person_id',how='left')\n",
    "profile_volume = pd.merge(profile_volume,offer_completed_df,on='person_id',how='left')\n",
    "profile_volume = profile_volume.fillna(0)\n",
    "profile_volume.head()"
   ]
  },
  {
   "cell_type": "code",
   "execution_count": 181,
   "metadata": {},
   "outputs": [],
   "source": [
    "# Create the Viewed over Received and Completed over Received rates\n",
    "profile_volume['view_rate']=profile_volume['offer_viewed']/profile_volume['offer_received']\n",
    "profile_volume['complete_rate']=profile_volume['offer_completed']/profile_volume['offer_received']"
   ]
  },
  {
   "cell_type": "code",
   "execution_count": 182,
   "metadata": {},
   "outputs": [
    {
     "data": {
      "text/plain": [
       "6"
      ]
     },
     "execution_count": 182,
     "metadata": {},
     "output_type": "execute_result"
    }
   ],
   "source": [
    "# Check for N/A values\n",
    "profile_volume['view_rate'].isnull().sum(axis = 0)"
   ]
  },
  {
   "cell_type": "code",
   "execution_count": 183,
   "metadata": {},
   "outputs": [],
   "source": [
    "# Because the number of N/A in profile is very small, the rate will be calculated as 0 for N/A values.\n",
    "profile_volume[['view_rate','complete_rate']]=profile_volume[['view_rate','complete_rate']].fillna(0)"
   ]
  },
  {
   "cell_type": "code",
   "execution_count": 184,
   "metadata": {},
   "outputs": [
    {
     "data": {
      "text/html": [
       "<div>\n",
       "<style scoped>\n",
       "    .dataframe tbody tr th:only-of-type {\n",
       "        vertical-align: middle;\n",
       "    }\n",
       "\n",
       "    .dataframe tbody tr th {\n",
       "        vertical-align: top;\n",
       "    }\n",
       "\n",
       "    .dataframe thead th {\n",
       "        text-align: right;\n",
       "    }\n",
       "</style>\n",
       "<table border=\"1\" class=\"dataframe\">\n",
       "  <thead>\n",
       "    <tr style=\"text-align: right;\">\n",
       "      <th></th>\n",
       "      <th>daily_sum</th>\n",
       "      <th>daily_count</th>\n",
       "      <th>offer_received</th>\n",
       "      <th>view_rate</th>\n",
       "      <th>complete_rate</th>\n",
       "      <th>provided_info</th>\n",
       "    </tr>\n",
       "  </thead>\n",
       "  <tbody>\n",
       "    <tr>\n",
       "      <th>daily_sum</th>\n",
       "      <td>1.000000</td>\n",
       "      <td>0.361450</td>\n",
       "      <td>0.078747</td>\n",
       "      <td>0.139294</td>\n",
       "      <td>0.543509</td>\n",
       "      <td>-0.257626</td>\n",
       "    </tr>\n",
       "    <tr>\n",
       "      <th>daily_count</th>\n",
       "      <td>0.361450</td>\n",
       "      <td>1.000000</td>\n",
       "      <td>0.164239</td>\n",
       "      <td>0.122065</td>\n",
       "      <td>0.371981</td>\n",
       "      <td>-0.092747</td>\n",
       "    </tr>\n",
       "    <tr>\n",
       "      <th>offer_received</th>\n",
       "      <td>0.078747</td>\n",
       "      <td>0.164239</td>\n",
       "      <td>1.000000</td>\n",
       "      <td>-0.058852</td>\n",
       "      <td>0.005250</td>\n",
       "      <td>0.002787</td>\n",
       "    </tr>\n",
       "    <tr>\n",
       "      <th>view_rate</th>\n",
       "      <td>0.139294</td>\n",
       "      <td>0.122065</td>\n",
       "      <td>-0.058852</td>\n",
       "      <td>1.000000</td>\n",
       "      <td>0.192545</td>\n",
       "      <td>0.075662</td>\n",
       "    </tr>\n",
       "    <tr>\n",
       "      <th>complete_rate</th>\n",
       "      <td>0.543509</td>\n",
       "      <td>0.371981</td>\n",
       "      <td>0.005250</td>\n",
       "      <td>0.192545</td>\n",
       "      <td>1.000000</td>\n",
       "      <td>-0.365972</td>\n",
       "    </tr>\n",
       "    <tr>\n",
       "      <th>provided_info</th>\n",
       "      <td>-0.257626</td>\n",
       "      <td>-0.092747</td>\n",
       "      <td>0.002787</td>\n",
       "      <td>0.075662</td>\n",
       "      <td>-0.365972</td>\n",
       "      <td>1.000000</td>\n",
       "    </tr>\n",
       "  </tbody>\n",
       "</table>\n",
       "</div>"
      ],
      "text/plain": [
       "                daily_sum  daily_count  offer_received  view_rate  \\\n",
       "daily_sum        1.000000     0.361450        0.078747   0.139294   \n",
       "daily_count      0.361450     1.000000        0.164239   0.122065   \n",
       "offer_received   0.078747     0.164239        1.000000  -0.058852   \n",
       "view_rate        0.139294     0.122065       -0.058852   1.000000   \n",
       "complete_rate    0.543509     0.371981        0.005250   0.192545   \n",
       "provided_info   -0.257626    -0.092747        0.002787   0.075662   \n",
       "\n",
       "                complete_rate  provided_info  \n",
       "daily_sum            0.543509      -0.257626  \n",
       "daily_count          0.371981      -0.092747  \n",
       "offer_received       0.005250       0.002787  \n",
       "view_rate            0.192545       0.075662  \n",
       "complete_rate        1.000000      -0.365972  \n",
       "provided_info       -0.365972       1.000000  "
      ]
     },
     "execution_count": 184,
     "metadata": {},
     "output_type": "execute_result"
    }
   ],
   "source": [
    "profile_volume[['daily_sum','daily_count','offer_received','view_rate','complete_rate','provided_info']].corr()"
   ]
  },
  {
   "cell_type": "code",
   "execution_count": 185,
   "metadata": {},
   "outputs": [],
   "source": [
    "# Split the profile data set into 2 subsets for easier comparison\n",
    "profile_info_provided = profile_volume[profile_volume['provided_info']==True]\n",
    "profile_info_not_provided = profile_volume[profile_volume['provided_info']==False]"
   ]
  },
  {
   "cell_type": "markdown",
   "metadata": {},
   "source": [
    "Get the correlation coefficient for 2 subsets"
   ]
  },
  {
   "cell_type": "code",
   "execution_count": 186,
   "metadata": {},
   "outputs": [
    {
     "data": {
      "text/html": [
       "<div>\n",
       "<style scoped>\n",
       "    .dataframe tbody tr th:only-of-type {\n",
       "        vertical-align: middle;\n",
       "    }\n",
       "\n",
       "    .dataframe tbody tr th {\n",
       "        vertical-align: top;\n",
       "    }\n",
       "\n",
       "    .dataframe thead th {\n",
       "        text-align: right;\n",
       "    }\n",
       "</style>\n",
       "<table border=\"1\" class=\"dataframe\">\n",
       "  <thead>\n",
       "    <tr style=\"text-align: right;\">\n",
       "      <th></th>\n",
       "      <th>daily_sum</th>\n",
       "      <th>daily_count</th>\n",
       "      <th>offer_received</th>\n",
       "      <th>view_rate</th>\n",
       "      <th>complete_rate</th>\n",
       "    </tr>\n",
       "  </thead>\n",
       "  <tbody>\n",
       "    <tr>\n",
       "      <th>daily_sum</th>\n",
       "      <td>1.000000</td>\n",
       "      <td>0.568565</td>\n",
       "      <td>0.127435</td>\n",
       "      <td>0.007272</td>\n",
       "      <td>0.528797</td>\n",
       "    </tr>\n",
       "    <tr>\n",
       "      <th>daily_count</th>\n",
       "      <td>0.568565</td>\n",
       "      <td>1.000000</td>\n",
       "      <td>0.165152</td>\n",
       "      <td>0.067363</td>\n",
       "      <td>0.416943</td>\n",
       "    </tr>\n",
       "    <tr>\n",
       "      <th>offer_received</th>\n",
       "      <td>0.127435</td>\n",
       "      <td>0.165152</td>\n",
       "      <td>1.000000</td>\n",
       "      <td>-0.041056</td>\n",
       "      <td>0.014035</td>\n",
       "    </tr>\n",
       "    <tr>\n",
       "      <th>view_rate</th>\n",
       "      <td>0.007272</td>\n",
       "      <td>0.067363</td>\n",
       "      <td>-0.041056</td>\n",
       "      <td>1.000000</td>\n",
       "      <td>-0.017528</td>\n",
       "    </tr>\n",
       "    <tr>\n",
       "      <th>complete_rate</th>\n",
       "      <td>0.528797</td>\n",
       "      <td>0.416943</td>\n",
       "      <td>0.014035</td>\n",
       "      <td>-0.017528</td>\n",
       "      <td>1.000000</td>\n",
       "    </tr>\n",
       "  </tbody>\n",
       "</table>\n",
       "</div>"
      ],
      "text/plain": [
       "                daily_sum  daily_count  offer_received  view_rate  \\\n",
       "daily_sum        1.000000     0.568565        0.127435   0.007272   \n",
       "daily_count      0.568565     1.000000        0.165152   0.067363   \n",
       "offer_received   0.127435     0.165152        1.000000  -0.041056   \n",
       "view_rate        0.007272     0.067363       -0.041056   1.000000   \n",
       "complete_rate    0.528797     0.416943        0.014035  -0.017528   \n",
       "\n",
       "                complete_rate  \n",
       "daily_sum            0.528797  \n",
       "daily_count          0.416943  \n",
       "offer_received       0.014035  \n",
       "view_rate           -0.017528  \n",
       "complete_rate        1.000000  "
      ]
     },
     "execution_count": 186,
     "metadata": {},
     "output_type": "execute_result"
    }
   ],
   "source": [
    "profile_info_provided[['daily_sum','daily_count','offer_received','view_rate','complete_rate']].corr()"
   ]
  },
  {
   "cell_type": "code",
   "execution_count": 187,
   "metadata": {},
   "outputs": [
    {
     "data": {
      "text/html": [
       "<div>\n",
       "<style scoped>\n",
       "    .dataframe tbody tr th:only-of-type {\n",
       "        vertical-align: middle;\n",
       "    }\n",
       "\n",
       "    .dataframe tbody tr th {\n",
       "        vertical-align: top;\n",
       "    }\n",
       "\n",
       "    .dataframe thead th {\n",
       "        text-align: right;\n",
       "    }\n",
       "</style>\n",
       "<table border=\"1\" class=\"dataframe\">\n",
       "  <thead>\n",
       "    <tr style=\"text-align: right;\">\n",
       "      <th></th>\n",
       "      <th>daily_sum</th>\n",
       "      <th>daily_count</th>\n",
       "      <th>offer_received</th>\n",
       "      <th>view_rate</th>\n",
       "      <th>complete_rate</th>\n",
       "    </tr>\n",
       "  </thead>\n",
       "  <tbody>\n",
       "    <tr>\n",
       "      <th>daily_sum</th>\n",
       "      <td>1.000000</td>\n",
       "      <td>0.361240</td>\n",
       "      <td>0.085613</td>\n",
       "      <td>0.175617</td>\n",
       "      <td>0.505106</td>\n",
       "    </tr>\n",
       "    <tr>\n",
       "      <th>daily_count</th>\n",
       "      <td>0.361240</td>\n",
       "      <td>1.000000</td>\n",
       "      <td>0.165327</td>\n",
       "      <td>0.138024</td>\n",
       "      <td>0.364277</td>\n",
       "    </tr>\n",
       "    <tr>\n",
       "      <th>offer_received</th>\n",
       "      <td>0.085613</td>\n",
       "      <td>0.165327</td>\n",
       "      <td>1.000000</td>\n",
       "      <td>-0.061819</td>\n",
       "      <td>0.006243</td>\n",
       "    </tr>\n",
       "    <tr>\n",
       "      <th>view_rate</th>\n",
       "      <td>0.175617</td>\n",
       "      <td>0.138024</td>\n",
       "      <td>-0.061819</td>\n",
       "      <td>1.000000</td>\n",
       "      <td>0.259562</td>\n",
       "    </tr>\n",
       "    <tr>\n",
       "      <th>complete_rate</th>\n",
       "      <td>0.505106</td>\n",
       "      <td>0.364277</td>\n",
       "      <td>0.006243</td>\n",
       "      <td>0.259562</td>\n",
       "      <td>1.000000</td>\n",
       "    </tr>\n",
       "  </tbody>\n",
       "</table>\n",
       "</div>"
      ],
      "text/plain": [
       "                daily_sum  daily_count  offer_received  view_rate  \\\n",
       "daily_sum        1.000000     0.361240        0.085613   0.175617   \n",
       "daily_count      0.361240     1.000000        0.165327   0.138024   \n",
       "offer_received   0.085613     0.165327        1.000000  -0.061819   \n",
       "view_rate        0.175617     0.138024       -0.061819   1.000000   \n",
       "complete_rate    0.505106     0.364277        0.006243   0.259562   \n",
       "\n",
       "                complete_rate  \n",
       "daily_sum            0.505106  \n",
       "daily_count          0.364277  \n",
       "offer_received       0.006243  \n",
       "view_rate            0.259562  \n",
       "complete_rate        1.000000  "
      ]
     },
     "execution_count": 187,
     "metadata": {},
     "output_type": "execute_result"
    }
   ],
   "source": [
    "profile_info_not_provided[['daily_sum','daily_count','offer_received','view_rate','complete_rate']].corr()"
   ]
  },
  {
   "cell_type": "markdown",
   "metadata": {},
   "source": [
    "Get the statistics for 2 subsets"
   ]
  },
  {
   "cell_type": "code",
   "execution_count": 188,
   "metadata": {},
   "outputs": [
    {
     "data": {
      "text/html": [
       "<div>\n",
       "<style scoped>\n",
       "    .dataframe tbody tr th:only-of-type {\n",
       "        vertical-align: middle;\n",
       "    }\n",
       "\n",
       "    .dataframe tbody tr th {\n",
       "        vertical-align: top;\n",
       "    }\n",
       "\n",
       "    .dataframe thead th {\n",
       "        text-align: right;\n",
       "    }\n",
       "</style>\n",
       "<table border=\"1\" class=\"dataframe\">\n",
       "  <thead>\n",
       "    <tr style=\"text-align: right;\">\n",
       "      <th></th>\n",
       "      <th>daily_sum</th>\n",
       "      <th>daily_count</th>\n",
       "      <th>offer_received</th>\n",
       "      <th>view_rate</th>\n",
       "      <th>complete_rate</th>\n",
       "    </tr>\n",
       "  </thead>\n",
       "  <tbody>\n",
       "    <tr>\n",
       "      <th>count</th>\n",
       "      <td>2175.000000</td>\n",
       "      <td>2175.000000</td>\n",
       "      <td>2175.000000</td>\n",
       "      <td>2175.000000</td>\n",
       "      <td>2175.000000</td>\n",
       "    </tr>\n",
       "    <tr>\n",
       "      <th>mean</th>\n",
       "      <td>0.010479</td>\n",
       "      <td>0.003897</td>\n",
       "      <td>4.494713</td>\n",
       "      <td>0.806766</td>\n",
       "      <td>0.115487</td>\n",
       "    </tr>\n",
       "    <tr>\n",
       "      <th>std</th>\n",
       "      <td>0.010519</td>\n",
       "      <td>0.002427</td>\n",
       "      <td>1.086356</td>\n",
       "      <td>0.226346</td>\n",
       "      <td>0.181112</td>\n",
       "    </tr>\n",
       "    <tr>\n",
       "      <th>min</th>\n",
       "      <td>0.000000</td>\n",
       "      <td>0.000000</td>\n",
       "      <td>0.000000</td>\n",
       "      <td>0.000000</td>\n",
       "      <td>0.000000</td>\n",
       "    </tr>\n",
       "    <tr>\n",
       "      <th>25%</th>\n",
       "      <td>0.004275</td>\n",
       "      <td>0.002176</td>\n",
       "      <td>4.000000</td>\n",
       "      <td>0.666667</td>\n",
       "      <td>0.000000</td>\n",
       "    </tr>\n",
       "    <tr>\n",
       "      <th>50%</th>\n",
       "      <td>0.008361</td>\n",
       "      <td>0.003489</td>\n",
       "      <td>5.000000</td>\n",
       "      <td>0.833333</td>\n",
       "      <td>0.000000</td>\n",
       "    </tr>\n",
       "    <tr>\n",
       "      <th>75%</th>\n",
       "      <td>0.013272</td>\n",
       "      <td>0.005294</td>\n",
       "      <td>5.000000</td>\n",
       "      <td>1.000000</td>\n",
       "      <td>0.200000</td>\n",
       "    </tr>\n",
       "    <tr>\n",
       "      <th>max</th>\n",
       "      <td>0.108554</td>\n",
       "      <td>0.015488</td>\n",
       "      <td>6.000000</td>\n",
       "      <td>1.000000</td>\n",
       "      <td>1.000000</td>\n",
       "    </tr>\n",
       "  </tbody>\n",
       "</table>\n",
       "</div>"
      ],
      "text/plain": [
       "         daily_sum  daily_count  offer_received    view_rate  complete_rate\n",
       "count  2175.000000  2175.000000     2175.000000  2175.000000    2175.000000\n",
       "mean      0.010479     0.003897        4.494713     0.806766       0.115487\n",
       "std       0.010519     0.002427        1.086356     0.226346       0.181112\n",
       "min       0.000000     0.000000        0.000000     0.000000       0.000000\n",
       "25%       0.004275     0.002176        4.000000     0.666667       0.000000\n",
       "50%       0.008361     0.003489        5.000000     0.833333       0.000000\n",
       "75%       0.013272     0.005294        5.000000     1.000000       0.200000\n",
       "max       0.108554     0.015488        6.000000     1.000000       1.000000"
      ]
     },
     "execution_count": 188,
     "metadata": {},
     "output_type": "execute_result"
    }
   ],
   "source": [
    "profile_info_provided[['daily_sum','daily_count','offer_received','view_rate','complete_rate']].describe()"
   ]
  },
  {
   "cell_type": "code",
   "execution_count": 189,
   "metadata": {},
   "outputs": [
    {
     "data": {
      "text/html": [
       "<div>\n",
       "<style scoped>\n",
       "    .dataframe tbody tr th:only-of-type {\n",
       "        vertical-align: middle;\n",
       "    }\n",
       "\n",
       "    .dataframe tbody tr th {\n",
       "        vertical-align: top;\n",
       "    }\n",
       "\n",
       "    .dataframe thead th {\n",
       "        text-align: right;\n",
       "    }\n",
       "</style>\n",
       "<table border=\"1\" class=\"dataframe\">\n",
       "  <thead>\n",
       "    <tr style=\"text-align: right;\">\n",
       "      <th></th>\n",
       "      <th>daily_sum</th>\n",
       "      <th>daily_count</th>\n",
       "      <th>offer_received</th>\n",
       "      <th>view_rate</th>\n",
       "      <th>complete_rate</th>\n",
       "    </tr>\n",
       "  </thead>\n",
       "  <tbody>\n",
       "    <tr>\n",
       "      <th>count</th>\n",
       "      <td>14825.000000</td>\n",
       "      <td>14825.000000</td>\n",
       "      <td>14825.000000</td>\n",
       "      <td>14825.000000</td>\n",
       "      <td>14825.000000</td>\n",
       "    </tr>\n",
       "    <tr>\n",
       "      <th>mean</th>\n",
       "      <td>0.065245</td>\n",
       "      <td>0.004633</td>\n",
       "      <td>4.485734</td>\n",
       "      <td>0.753270</td>\n",
       "      <td>0.487377</td>\n",
       "    </tr>\n",
       "    <tr>\n",
       "      <th>std</th>\n",
       "      <td>0.073362</td>\n",
       "      <td>0.002667</td>\n",
       "      <td>1.074694</td>\n",
       "      <td>0.236818</td>\n",
       "      <td>0.331082</td>\n",
       "    </tr>\n",
       "    <tr>\n",
       "      <th>min</th>\n",
       "      <td>0.000000</td>\n",
       "      <td>0.000000</td>\n",
       "      <td>0.000000</td>\n",
       "      <td>0.000000</td>\n",
       "      <td>0.000000</td>\n",
       "    </tr>\n",
       "    <tr>\n",
       "      <th>25%</th>\n",
       "      <td>0.017886</td>\n",
       "      <td>0.002725</td>\n",
       "      <td>4.000000</td>\n",
       "      <td>0.600000</td>\n",
       "      <td>0.200000</td>\n",
       "    </tr>\n",
       "    <tr>\n",
       "      <th>50%</th>\n",
       "      <td>0.049822</td>\n",
       "      <td>0.004195</td>\n",
       "      <td>5.000000</td>\n",
       "      <td>0.800000</td>\n",
       "      <td>0.500000</td>\n",
       "    </tr>\n",
       "    <tr>\n",
       "      <th>75%</th>\n",
       "      <td>0.088447</td>\n",
       "      <td>0.006151</td>\n",
       "      <td>5.000000</td>\n",
       "      <td>1.000000</td>\n",
       "      <td>0.750000</td>\n",
       "    </tr>\n",
       "    <tr>\n",
       "      <th>max</th>\n",
       "      <td>1.050508</td>\n",
       "      <td>0.021843</td>\n",
       "      <td>6.000000</td>\n",
       "      <td>1.000000</td>\n",
       "      <td>1.000000</td>\n",
       "    </tr>\n",
       "  </tbody>\n",
       "</table>\n",
       "</div>"
      ],
      "text/plain": [
       "          daily_sum   daily_count  offer_received     view_rate  complete_rate\n",
       "count  14825.000000  14825.000000    14825.000000  14825.000000   14825.000000\n",
       "mean       0.065245      0.004633        4.485734      0.753270       0.487377\n",
       "std        0.073362      0.002667        1.074694      0.236818       0.331082\n",
       "min        0.000000      0.000000        0.000000      0.000000       0.000000\n",
       "25%        0.017886      0.002725        4.000000      0.600000       0.200000\n",
       "50%        0.049822      0.004195        5.000000      0.800000       0.500000\n",
       "75%        0.088447      0.006151        5.000000      1.000000       0.750000\n",
       "max        1.050508      0.021843        6.000000      1.000000       1.000000"
      ]
     },
     "execution_count": 189,
     "metadata": {},
     "output_type": "execute_result"
    }
   ],
   "source": [
    "profile_info_not_provided[['daily_sum','daily_count','offer_received','view_rate','complete_rate']].describe()"
   ]
  },
  {
   "cell_type": "code",
   "execution_count": 190,
   "metadata": {},
   "outputs": [
    {
     "data": {
      "text/plain": [
       "Text(0,0.5,'Density')"
      ]
     },
     "execution_count": 190,
     "metadata": {},
     "output_type": "execute_result"
    },
    {
     "data": {
      "image/png": "[encoded data removed]",
      "text/plain": [
       "<matplotlib.figure.Figure at 0x7fead24cb668>"
      ]
     },
     "metadata": {
      "needs_background": "light"
     },
     "output_type": "display_data"
    }
   ],
   "source": [
    "# Plot the daily spending distribution to see the difference\n",
    "sns.distplot(profile_info_provided['daily_sum'], hist = False, kde = True,\n",
    "             kde_kws = {'linewidth': 3},\n",
    "             label = 'Personal Information Provided')\n",
    "sns.distplot(profile_info_not_provided['daily_sum'], hist = False, kde = True,\n",
    "             kde_kws = {'linewidth': 3},\n",
    "             label = 'Personal Information NOT Provided')\n",
    "plt.legend()\n",
    "plt.title('Daily Spending with Personal Information')\n",
    "plt.xlabel('Daily Spending')\n",
    "plt.ylabel('Density')"
   ]
  },
  {
   "cell_type": "code",
   "execution_count": 191,
   "metadata": {},
   "outputs": [
    {
     "data": {
      "text/plain": [
       "Text(0,0.5,'Density')"
      ]
     },
     "execution_count": 191,
     "metadata": {},
     "output_type": "execute_result"
    },
    {
     "data": {
      "image/png": "[encoded data removed]",
      "text/plain": [
       "<matplotlib.figure.Figure at 0x7fead2492438>"
      ]
     },
     "metadata": {
      "needs_background": "light"
     },
     "output_type": "display_data"
    }
   ],
   "source": [
    "# Plot the daily number of transaction distribution to see the difference\n",
    "sns.distplot(profile_info_provided['daily_count'], hist = False, kde = True,\n",
    "             kde_kws = {'linewidth': 3},\n",
    "             label = 'Personal Information Provided')\n",
    "sns.distplot(profile_info_not_provided['daily_count'], hist = False, kde = True,\n",
    "             kde_kws = {'linewidth': 3},\n",
    "             label = 'Personal Information NOT Provided')\n",
    "plt.legend()\n",
    "plt.title('Daily Transaction with Personal Information')\n",
    "plt.xlabel('Daily Number of Transaction')\n",
    "plt.ylabel('Density')"
   ]
  },
  {
   "cell_type": "code",
   "execution_count": 192,
   "metadata": {},
   "outputs": [
    {
     "name": "stdout",
     "output_type": "stream",
     "text": [
      "T-test result on daily spending amount: Ttest_indResult(statistic=-34.761804418290296, pvalue=7.682101195656904e-256)\n",
      "T-test result on daily spending number: Ttest_indResult(statistic=-12.144414732516539, pvalue=8.4786493017306642e-34)\n"
     ]
    }
   ],
   "source": [
    "from scipy.stats import ttest_ind\n",
    "# Perform T-test on volume\n",
    "ttest_sum=ttest_ind(profile_info_provided['daily_sum'], profile_info_not_provided['daily_sum'])\n",
    "ttest_count=ttest_ind(profile_info_provided['daily_count'], profile_info_not_provided['daily_count'])\n",
    "print(f'T-test result on daily spending amount: {ttest_sum}')\n",
    "print(f'T-test result on daily spending number: {ttest_count}')"
   ]
  },
  {
   "cell_type": "code",
   "execution_count": 193,
   "metadata": {},
   "outputs": [
    {
     "data": {
      "text/plain": [
       "Text(0,0.5,'Density')"
      ]
     },
     "execution_count": 193,
     "metadata": {},
     "output_type": "execute_result"
    },
    {
     "data": {
      "image/png": "[encoded data removed]",
      "text/plain": [
       "<matplotlib.figure.Figure at 0x7fead2448d68>"
      ]
     },
     "metadata": {
      "needs_background": "light"
     },
     "output_type": "display_data"
    }
   ],
   "source": [
    "# Plot the view rate\n",
    "sns.distplot(profile_info_provided['view_rate'], hist = False, kde = True,\n",
    "             kde_kws = {'linewidth': 3},\n",
    "             label = 'Personal Information Provided')\n",
    "sns.distplot(profile_info_not_provided['view_rate'], hist = False, kde = True,\n",
    "             kde_kws = {'linewidth': 3},\n",
    "             label = 'Personal Information NOT Provided')\n",
    "plt.legend()\n",
    "plt.title('View Rate with Personal Information')\n",
    "plt.xlabel('Viewed over Received Offer')\n",
    "plt.ylabel('Density')"
   ]
  },
  {
   "cell_type": "code",
   "execution_count": 194,
   "metadata": {},
   "outputs": [
    {
     "data": {
      "text/plain": [
       "Text(0,0.5,'Density')"
      ]
     },
     "execution_count": 194,
     "metadata": {},
     "output_type": "execute_result"
    },
    {
     "data": {
      "image/png": "[encoded data removed]",
      "text/plain": [
       "<matplotlib.figure.Figure at 0x7fead23d9198>"
      ]
     },
     "metadata": {
      "needs_background": "light"
     },
     "output_type": "display_data"
    }
   ],
   "source": [
    "# Plot the complete rate\n",
    "sns.distplot(profile_info_provided['complete_rate'], hist = False, kde = True,\n",
    "             kde_kws = {'linewidth': 3},\n",
    "             label = 'Personal Information Provided')\n",
    "sns.distplot(profile_info_not_provided['complete_rate'], hist = False, kde = True,\n",
    "             kde_kws = {'linewidth': 3},\n",
    "             label = 'Personal Information NOT Provided')\n",
    "plt.legend()\n",
    "plt.title('Completed Rate with Personal Information')\n",
    "plt.xlabel('Completed over Received Offer')\n",
    "plt.ylabel('Density')"
   ]
  },
  {
   "cell_type": "code",
   "execution_count": 195,
   "metadata": {},
   "outputs": [
    {
     "name": "stdout",
     "output_type": "stream",
     "text": [
      "T-test result on viewed over received offer: Ttest_indResult(statistic=9.8928866265652839, pvalue=5.1576013423780042e-23)\n",
      "T-test result on completed over received offer: Ttest_indResult(statistic=-51.271049956216942, pvalue=0.0)\n"
     ]
    }
   ],
   "source": [
    "# Perform T-test on offer responsiveness\n",
    "ttest_view=ttest_ind(profile_info_provided['view_rate'], profile_info_not_provided['view_rate'])\n",
    "ttest_com=ttest_ind(profile_info_provided['complete_rate'], profile_info_not_provided['complete_rate'])\n",
    "print(f'T-test result on viewed over received offer: {ttest_view}')\n",
    "print(f'T-test result on completed over received offer: {ttest_com}')"
   ]
  },
  {
   "cell_type": "markdown",
   "metadata": {},
   "source": [
    "The T-test result as well as statistics & correlation coefficient indicated that there was a difference in performance between the group of people who provided information and who did not. Because of that, 'provided_info' can be considered an important feature which has impact on both volume and offer responsiveness."
   ]
  },
  {
   "cell_type": "markdown",
   "metadata": {},
   "source": [
    "Now we will try to use 'provided_info' as well as other features to predict the customer volume. Because we can see in the analysis above that the difference in daily number of transaction between 2 groups were not high, we will focus the futher analysis on daily spending amount only."
   ]
  },
  {
   "cell_type": "code",
   "execution_count": 207,
   "metadata": {},
   "outputs": [
    {
     "name": "stdout",
     "output_type": "stream",
     "text": [
      "R2 score for train set is: 0.3034807290572925\n",
      "R2 score for test set is: 0.30901392017634677\n"
     ]
    }
   ],
   "source": [
    "from sklearn.linear_model import LinearRegression\n",
    "from sklearn.model_selection import train_test_split\n",
    "from sklearn.pipeline import make_pipeline\n",
    "from sklearn.model_selection import GridSearchCV\n",
    "from sklearn.preprocessing import PolynomialFeatures\n",
    "import statsmodels.api as sm\n",
    "from scipy import stats\n",
    "\n",
    "\n",
    "X = profile_volume[['provided_info', 'offer_received', 'complete_rate']]\n",
    "y = profile_volume['daily_sum']\n",
    "\n",
    "# Perform linear regression and get the R2 score\n",
    "\n",
    "X_train, X_test, y_train, y_test = train_test_split(X, y, test_size=0.3, random_state=420)\n",
    "\n",
    "reg = LinearRegression()\n",
    "reg = reg.fit(X_train, y_train)\n",
    "R2_train = reg.score(X_train, y_train)\n",
    "R2_test = reg.score(X_test, y_test)\n",
    "\n",
    "print(f'R2 score for train set is: {R2_train}')\n",
    "print(f'R2 score for test set is: {R2_test}')"
   ]
  },
  {
   "cell_type": "code",
   "execution_count": 209,
   "metadata": {},
   "outputs": [
    {
     "name": "stdout",
     "output_type": "stream",
     "text": [
      "Try 1.\n"
     ]
    },
    {
     "data": {
      "image/png": "[encoded data removed]",
      "text/plain": [
       "<matplotlib.figure.Figure at 0x7feaccab60f0>"
      ]
     },
     "metadata": {
      "needs_background": "light"
     },
     "output_type": "display_data"
    },
    {
     "name": "stdout",
     "output_type": "stream",
     "text": [
      "Try 2.\n"
     ]
    },
    {
     "data": {
      "image/png": "[encoded data removed]",
      "text/plain": [
       "<matplotlib.figure.Figure at 0x7feacca3dfd0>"
      ]
     },
     "metadata": {
      "needs_background": "light"
     },
     "output_type": "display_data"
    },
    {
     "name": "stdout",
     "output_type": "stream",
     "text": [
      "Try 3.\n"
     ]
    },
    {
     "data": {
      "image/png": "[encoded data removed]",
      "text/plain": [
       "<matplotlib.figure.Figure at 0x7feacca637f0>"
      ]
     },
     "metadata": {
      "needs_background": "light"
     },
     "output_type": "display_data"
    },
    {
     "name": "stdout",
     "output_type": "stream",
     "text": [
      "Try 4.\n"
     ]
    },
    {
     "data": {
      "image/png": "[encoded data removed]",
      "text/plain": [
       "<matplotlib.figure.Figure at 0x7feacca6b898>"
      ]
     },
     "metadata": {
      "needs_background": "light"
     },
     "output_type": "display_data"
    },
    {
     "name": "stdout",
     "output_type": "stream",
     "text": [
      "Try 5.\n"
     ]
    },
    {
     "data": {
      "image/png": "[encoded data removed]",
      "text/plain": [
       "<matplotlib.figure.Figure at 0x7feaccaa6ba8>"
      ]
     },
     "metadata": {
      "needs_background": "light"
     },
     "output_type": "display_data"
    },
    {
     "name": "stdout",
     "output_type": "stream",
     "text": [
      "Try 6.\n"
     ]
    },
    {
     "data": {
      "image/png": "[encoded data removed]",
      "text/plain": [
       "<matplotlib.figure.Figure at 0x7feaccb1a860>"
      ]
     },
     "metadata": {
      "needs_background": "light"
     },
     "output_type": "display_data"
    },
    {
     "name": "stdout",
     "output_type": "stream",
     "text": [
      "Try 7.\n"
     ]
    },
    {
     "data": {
      "image/png": "[encoded data removed]",
      "text/plain": [
       "<matplotlib.figure.Figure at 0x7feacca60d68>"
      ]
     },
     "metadata": {
      "needs_background": "light"
     },
     "output_type": "display_data"
    },
    {
     "name": "stdout",
     "output_type": "stream",
     "text": [
      "Try 8.\n"
     ]
    },
    {
     "data": {
      "image/png": "[encoded data removed]",
      "text/plain": [
       "<matplotlib.figure.Figure at 0x7fead25ce7b8>"
      ]
     },
     "metadata": {
      "needs_background": "light"
     },
     "output_type": "display_data"
    },
    {
     "name": "stdout",
     "output_type": "stream",
     "text": [
      "Try 9.\n"
     ]
    },
    {
     "data": {
      "image/png": "[encoded data removed]",
      "text/plain": [
       "<matplotlib.figure.Figure at 0x7fead24623c8>"
      ]
     },
     "metadata": {
      "needs_background": "light"
     },
     "output_type": "display_data"
    },
    {
     "name": "stdout",
     "output_type": "stream",
     "text": [
      "Try 10.\n"
     ]
    },
    {
     "data": {
      "image/png": "[encoded data removed]",
      "text/plain": [
       "<matplotlib.figure.Figure at 0x7fead240fac8>"
      ]
     },
     "metadata": {
      "needs_background": "light"
     },
     "output_type": "display_data"
    }
   ],
   "source": [
    "# Run multiple tries on different train/test sets to find the best polynomial degree\n",
    "for i in range(1,11):\n",
    "    X_train, X_test, y_train, y_test = train_test_split(X, y, test_size=0.3)\n",
    "    degrees = [1, 2, 3, 4, 5, 6, 7, 8, 9, 10]\n",
    "    R2_train_set = []\n",
    "    R2_test_set = []\n",
    "    print(f'Try {i}.')\n",
    "    for degree in degrees:\n",
    "        reg = make_pipeline(PolynomialFeatures(degree), LinearRegression())\n",
    "        reg = reg.fit(X_train, y_train)\n",
    "        R2_train = reg.score(X_train, y_train)\n",
    "        R2_train_set.append(R2_train)\n",
    "        R2_test = reg.score(X_test, y_test)\n",
    "        R2_test_set.append(R2_test)\n",
    "\n",
    "    # Plot to find the best degree\n",
    "    plt.plot(degrees, R2_train_set, label = \"R2_train\")\n",
    "    plt.plot(degrees, R2_test_set, label = \"R2_test\")\n",
    "    plt.legend()\n",
    "    plt.show()"
   ]
  },
  {
   "cell_type": "markdown",
   "metadata": {},
   "source": [
    "From the chart, we can see that degree = 6 is where we get both highest R2 on test set and a high enough R2 on train set."
   ]
  },
  {
   "cell_type": "markdown",
   "metadata": {},
   "source": [
    "Now that we have the polynomial degree, we will perform GridSearchCV with KFold cross validation to improve the model."
   ]
  },
  {
   "cell_type": "code",
   "execution_count": 205,
   "metadata": {},
   "outputs": [
    {
     "data": {
      "text/plain": [
       "GridSearchCV(cv=KFold(n_splits=5, random_state=100, shuffle=True),\n",
       "       error_score='raise',\n",
       "       estimator=LinearRegression(copy_X=True, fit_intercept=True, n_jobs=1, normalize=False),\n",
       "       fit_params=None, iid=True, n_jobs=1,\n",
       "       param_grid={'fit_intercept': (True, False), 'copy_X': (True, False), 'n_jobs': (None, 5, 10)},\n",
       "       pre_dispatch='2*n_jobs', refit=True, return_train_score=True,\n",
       "       scoring=None, verbose=0)"
      ]
     },
     "execution_count": 205,
     "metadata": {},
     "output_type": "execute_result"
    }
   ],
   "source": [
    "from sklearn.model_selection import KFold\n",
    "# Split train/test datasets\n",
    "X_train, X_test, y_train, y_test = train_test_split(X, y, test_size=0.3, random_state=420)\n",
    "# Define model\n",
    "model = LinearRegression()\n",
    "poly = PolynomialFeatures(degree=6, include_bias=False)\n",
    "poly_features = poly.fit_transform(X_train)\n",
    "folds = KFold(n_splits = 5, shuffle = True, random_state = 100)\n",
    "# Define parameters for tuning\n",
    "parameters = {\n",
    "        'fit_intercept': (True, False),\n",
    "        'copy_X': (True, False),\n",
    "        'n_jobs': (None, 5, 10),\n",
    "        #'positive': (True, False)\n",
    "        }\n",
    "...\n",
    "# Perform GridSearchCV using the default score of R2\n",
    "search = GridSearchCV(model, parameters, cv=folds, return_train_score=True)\n",
    "search.fit(poly_features,y_train)"
   ]
  },
  {
   "cell_type": "code",
   "execution_count": 206,
   "metadata": {},
   "outputs": [
    {
     "name": "stdout",
     "output_type": "stream",
     "text": [
      "The final R2 score on test data is 0.322076246227998\n"
     ]
    }
   ],
   "source": [
    "import sklearn\n",
    "y_pred = search.predict(poly.fit_transform(X_test))\n",
    "R2_test = sklearn.metrics.r2_score(y_test, y_pred)\n",
    "print(f'The final R2 score on test data is {R2_test}')"
   ]
  },
  {
   "cell_type": "markdown",
   "metadata": {},
   "source": [
    "# Conclusion"
   ]
  },
  {
   "cell_type": "markdown",
   "metadata": {},
   "source": [
    "The relationship between security and spending, as well as between security and offer responsiveness has been proved. We eliminate the possibility that the high security group simply don't care about offers or don't have much interest in the brand because their offer view rate, though different, but was even higher than the other group (0.81 and 0.75). They cared, or at least was curious about the offers but it was not attractive enough for them to complete.<br>\n",
    "The most reasonable explanation here is that because of lacking demographic information, the offer strategies were not personalized enough for those people. To solve this, either Starbucks can think of other offer program and test until they have a good response on those people, or they can find a way to collect more information from them.<br>\n",
    "On a positive side, we can say that the offer personalizing strategy is working well because the people who provided personal information are very responsive with high completed rate and high spending volume. A R2 square on regression model of 0.33 implies that there are still room to improve and if we can get more personal information from all of our customers, we will be able to personalize the offer strategy better.<br>"
   ]
  },
  {
   "cell_type": "markdown",
   "metadata": {},
   "source": [
    "## Limitation"
   ]
  },
  {
   "cell_type": "markdown",
   "metadata": {},
   "source": [
    "There is one problem with the completed offers that hasn't been tackled in this solution is that: a person may accidently complete an offer without seeing/knowing it. To evaluate the responsiveness more precisely, we can eliminate the accidently completed offers by filtering only offer completed within offering time (from received until expired) and after it was viewed.<br>\n",
    "However, given the very high rate of viewed offer, we can say that performing further cleaning will not likely change the result of this analysis.<br>\n",
    "Another limitation of this research is that there are some valuable data that has not been utilized, for example: demographic information, offer channels. We can do many things with those data, such as: using regression to predict transaction amount and offer responsiveness, perform classification to find the most suitable offer to each customer group. Those are not in the focus of this solution but can be good suggestions for further analysis. "
   ]
  },
  {
   "cell_type": "markdown",
   "metadata": {},
   "source": [
    "# End."
   ]
  }
 ],
 "metadata": {
  "kernelspec": {
   "display_name": "Python 3",
   "language": "python",
   "name": "python3"
  },
  "language_info": {
   "codemirror_mode": {
    "name": "ipython",
    "version": 3
   },
   "file_extension": ".py",
   "mimetype": "text/x-python",
   "name": "python",
   "nbconvert_exporter": "python",
   "pygments_lexer": "ipython3",
   "version": "3.6.3"
  }
 },
 "nbformat": 4,
 "nbformat_minor": 2
}
