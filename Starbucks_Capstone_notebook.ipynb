{
 "cells": [
  {
   "cell_type": "markdown",
   "metadata": {},
   "source": [
    "# Starbucks Capstone Challenge\n",
    "\n",
    "### Introduction\n",
    "\n",
    "This data set contains simulated data that mimics customer behavior on the Starbucks rewards mobile app. Once every few days, Starbucks sends out an offer to users of the mobile app. An offer can be merely an advertisement for a drink or an actual offer such as a discount or BOGO (buy one get one free). Some users might not receive any offer during certain weeks. \n",
    "\n",
    "Not all users receive the same offer, and that is the challenge to solve with this data set.\n",
    "\n",
    "Your task is to combine transaction, demographic and offer data to determine which demographic groups respond best to which offer type. This data set is a simplified version of the real Starbucks app because the underlying simulator only has one product whereas Starbucks actually sells dozens of products.\n",
    "\n",
    "Every offer has a validity period before the offer expires. As an example, a BOGO offer might be valid for only 5 days. You'll see in the data set that informational offers have a validity period even though these ads are merely providing information about a product; for example, if an informational offer has 7 days of validity, you can assume the customer is feeling the influence of the offer for 7 days after receiving the advertisement.\n",
    "\n",
    "You'll be given transactional data showing user purchases made on the app including the timestamp of purchase and the amount of money spent on a purchase. This transactional data also has a record for each offer that a user receives as well as a record for when a user actually views the offer. There are also records for when a user completes an offer. \n",
    "\n",
    "Keep in mind as well that someone using the app might make a purchase through the app without having received an offer or seen an offer.\n",
    "\n",
    "### Example\n",
    "\n",
    "To give an example, a user could receive a discount offer buy 10 dollars get 2 off on Monday. The offer is valid for 10 days from receipt. If the customer accumulates at least 10 dollars in purchases during the validity period, the customer completes the offer.\n",
    "\n",
    "However, there are a few things to watch out for in this data set. Customers do not opt into the offers that they receive; in other words, a user can receive an offer, never actually view the offer, and still complete the offer. For example, a user might receive the \"buy 10 dollars get 2 dollars off offer\", but the user never opens the offer during the 10 day validity period. The customer spends 15 dollars during those ten days. There will be an offer completion record in the data set; however, the customer was not influenced by the offer because the customer never viewed the offer.\n",
    "\n",
    "### Cleaning\n",
    "\n",
    "This makes data cleaning especially important and tricky.\n",
    "\n",
    "You'll also want to take into account that some demographic groups will make purchases even if they don't receive an offer. From a business perspective, if a customer is going to make a 10 dollar purchase without an offer anyway, you wouldn't want to send a buy 10 dollars get 2 dollars off offer. You'll want to try to assess what a certain demographic group will buy when not receiving any offers.\n",
    "\n",
    "### Final Advice\n",
    "\n",
    "Because this is a capstone project, you are free to analyze the data any way you see fit. For example, you could build a machine learning model that predicts how much someone will spend based on demographics and offer type. Or you could build a model that predicts whether or not someone will respond to an offer. Or, you don't need to build a machine learning model at all. You could develop a set of heuristics that determine what offer you should send to each customer (i.e., 75 percent of women customers who were 35 years old responded to offer A vs 40 percent from the same demographic to offer B, so send offer A)."
   ]
  },
  {
   "cell_type": "markdown",
   "metadata": {},
   "source": [
    "# Data Sets\n",
    "\n",
    "The data is contained in three files:\n",
    "\n",
    "* portfolio.json - containing offer ids and meta data about each offer (duration, type, etc.)\n",
    "* profile.json - demographic data for each customer\n",
    "* transcript.json - records for transactions, offers received, offers viewed, and offers completed\n",
    "\n",
    "Here is the schema and explanation of each variable in the files:\n",
    "\n",
    "**portfolio.json**\n",
    "* id (string) - offer id\n",
    "* offer_type (string) - type of offer ie BOGO, discount, informational\n",
    "* difficulty (int) - minimum required spend to complete an offer\n",
    "* reward (int) - reward given for completing an offer\n",
    "* duration (int) - time for offer to be open, in days\n",
    "* channels (list of strings)\n",
    "\n",
    "**profile.json**\n",
    "* age (int) - age of the customer \n",
    "* became_member_on (int) - date when customer created an app account\n",
    "* gender (str) - gender of the customer (note some entries contain 'O' for other rather than M or F)\n",
    "* id (str) - customer id\n",
    "* income (float) - customer's income\n",
    "\n",
    "**transcript.json**\n",
    "* event (str) - record description (ie transaction, offer received, offer viewed, etc.)\n",
    "* person (str) - customer id\n",
    "* time (int) - time in hours since start of test. The data begins at time t=0\n",
    "* value - (dict of strings) - either an offer id or transaction amount depending on the record\n",
    "\n",
    "**Note:** If you are using the workspace, you will need to go to the terminal and run the command `conda update pandas` before reading in the files. This is because the version of pandas in the workspace cannot read in the transcript.json file correctly, but the newest version of pandas can. You can access the termnal from the orange icon in the top left of this notebook.  \n",
    "\n",
    "You can see how to access the terminal and how the install works using the two images below.  First you need to access the terminal:\n",
    "\n",
    "<img src=\"pic1.png\"/>\n",
    "\n",
    "Then you will want to run the above command:\n",
    "\n",
    "<img src=\"pic2.png\"/>\n",
    "\n",
    "Finally, when you enter back into the notebook (use the jupyter icon again), you should be able to run the below cell without any errors."
   ]
  },
  {
   "cell_type": "code",
   "execution_count": 83,
   "metadata": {},
   "outputs": [],
   "source": [
    "import pandas as pd\n",
    "import numpy as np\n",
    "import math\n",
    "import json\n",
    "import matplotlib.pyplot as plt\n",
    "% matplotlib inline\n",
    "import seaborn as sns\n",
    "\n",
    "# read in the json files\n",
    "portfolio = pd.read_json('data/portfolio.json', orient='records', lines=True)\n",
    "profile = pd.read_json('data/profile.json', orient='records', lines=True)\n",
    "transcript = pd.read_json('data/transcript.json', orient='records', lines=True)"
   ]
  },
  {
   "cell_type": "markdown",
   "metadata": {},
   "source": [
    "# Data Pre-processing"
   ]
  },
  {
   "cell_type": "markdown",
   "metadata": {},
   "source": [
    "Let's take an initial look at the datasets to have an understanding of their structure and decide what to do next for pre-processing."
   ]
  },
  {
   "cell_type": "code",
   "execution_count": 84,
   "metadata": {},
   "outputs": [
    {
     "data": {
      "text/html": [
       "<div>\n",
       "<style scoped>\n",
       "    .dataframe tbody tr th:only-of-type {\n",
       "        vertical-align: middle;\n",
       "    }\n",
       "\n",
       "    .dataframe tbody tr th {\n",
       "        vertical-align: top;\n",
       "    }\n",
       "\n",
       "    .dataframe thead th {\n",
       "        text-align: right;\n",
       "    }\n",
       "</style>\n",
       "<table border=\"1\" class=\"dataframe\">\n",
       "  <thead>\n",
       "    <tr style=\"text-align: right;\">\n",
       "      <th></th>\n",
       "      <th>channels</th>\n",
       "      <th>difficulty</th>\n",
       "      <th>duration</th>\n",
       "      <th>id</th>\n",
       "      <th>offer_type</th>\n",
       "      <th>reward</th>\n",
       "    </tr>\n",
       "  </thead>\n",
       "  <tbody>\n",
       "    <tr>\n",
       "      <th>0</th>\n",
       "      <td>[email, mobile, social]</td>\n",
       "      <td>10</td>\n",
       "      <td>7</td>\n",
       "      <td>ae264e3637204a6fb9bb56bc8210ddfd</td>\n",
       "      <td>bogo</td>\n",
       "      <td>10</td>\n",
       "    </tr>\n",
       "    <tr>\n",
       "      <th>1</th>\n",
       "      <td>[web, email, mobile, social]</td>\n",
       "      <td>10</td>\n",
       "      <td>5</td>\n",
       "      <td>4d5c57ea9a6940dd891ad53e9dbe8da0</td>\n",
       "      <td>bogo</td>\n",
       "      <td>10</td>\n",
       "    </tr>\n",
       "    <tr>\n",
       "      <th>2</th>\n",
       "      <td>[web, email, mobile]</td>\n",
       "      <td>0</td>\n",
       "      <td>4</td>\n",
       "      <td>3f207df678b143eea3cee63160fa8bed</td>\n",
       "      <td>informational</td>\n",
       "      <td>0</td>\n",
       "    </tr>\n",
       "    <tr>\n",
       "      <th>3</th>\n",
       "      <td>[web, email, mobile]</td>\n",
       "      <td>5</td>\n",
       "      <td>7</td>\n",
       "      <td>9b98b8c7a33c4b65b9aebfe6a799e6d9</td>\n",
       "      <td>bogo</td>\n",
       "      <td>5</td>\n",
       "    </tr>\n",
       "    <tr>\n",
       "      <th>4</th>\n",
       "      <td>[web, email]</td>\n",
       "      <td>20</td>\n",
       "      <td>10</td>\n",
       "      <td>0b1e1539f2cc45b7b9fa7c272da2e1d7</td>\n",
       "      <td>discount</td>\n",
       "      <td>5</td>\n",
       "    </tr>\n",
       "  </tbody>\n",
       "</table>\n",
       "</div>"
      ],
      "text/plain": [
       "                       channels  difficulty  duration  \\\n",
       "0       [email, mobile, social]          10         7   \n",
       "1  [web, email, mobile, social]          10         5   \n",
       "2          [web, email, mobile]           0         4   \n",
       "3          [web, email, mobile]           5         7   \n",
       "4                  [web, email]          20        10   \n",
       "\n",
       "                                 id     offer_type  reward  \n",
       "0  ae264e3637204a6fb9bb56bc8210ddfd           bogo      10  \n",
       "1  4d5c57ea9a6940dd891ad53e9dbe8da0           bogo      10  \n",
       "2  3f207df678b143eea3cee63160fa8bed  informational       0  \n",
       "3  9b98b8c7a33c4b65b9aebfe6a799e6d9           bogo       5  \n",
       "4  0b1e1539f2cc45b7b9fa7c272da2e1d7       discount       5  "
      ]
     },
     "execution_count": 84,
     "metadata": {},
     "output_type": "execute_result"
    }
   ],
   "source": [
    "portfolio.head()"
   ]
  },
  {
   "cell_type": "code",
   "execution_count": 85,
   "metadata": {},
   "outputs": [
    {
     "data": {
      "text/html": [
       "<div>\n",
       "<style scoped>\n",
       "    .dataframe tbody tr th:only-of-type {\n",
       "        vertical-align: middle;\n",
       "    }\n",
       "\n",
       "    .dataframe tbody tr th {\n",
       "        vertical-align: top;\n",
       "    }\n",
       "\n",
       "    .dataframe thead th {\n",
       "        text-align: right;\n",
       "    }\n",
       "</style>\n",
       "<table border=\"1\" class=\"dataframe\">\n",
       "  <thead>\n",
       "    <tr style=\"text-align: right;\">\n",
       "      <th></th>\n",
       "      <th>age</th>\n",
       "      <th>became_member_on</th>\n",
       "      <th>gender</th>\n",
       "      <th>id</th>\n",
       "      <th>income</th>\n",
       "    </tr>\n",
       "  </thead>\n",
       "  <tbody>\n",
       "    <tr>\n",
       "      <th>0</th>\n",
       "      <td>118</td>\n",
       "      <td>20170212</td>\n",
       "      <td>None</td>\n",
       "      <td>68be06ca386d4c31939f3a4f0e3dd783</td>\n",
       "      <td>NaN</td>\n",
       "    </tr>\n",
       "    <tr>\n",
       "      <th>1</th>\n",
       "      <td>55</td>\n",
       "      <td>20170715</td>\n",
       "      <td>F</td>\n",
       "      <td>0610b486422d4921ae7d2bf64640c50b</td>\n",
       "      <td>112000.0</td>\n",
       "    </tr>\n",
       "    <tr>\n",
       "      <th>2</th>\n",
       "      <td>118</td>\n",
       "      <td>20180712</td>\n",
       "      <td>None</td>\n",
       "      <td>38fe809add3b4fcf9315a9694bb96ff5</td>\n",
       "      <td>NaN</td>\n",
       "    </tr>\n",
       "    <tr>\n",
       "      <th>3</th>\n",
       "      <td>75</td>\n",
       "      <td>20170509</td>\n",
       "      <td>F</td>\n",
       "      <td>78afa995795e4d85b5d9ceeca43f5fef</td>\n",
       "      <td>100000.0</td>\n",
       "    </tr>\n",
       "    <tr>\n",
       "      <th>4</th>\n",
       "      <td>118</td>\n",
       "      <td>20170804</td>\n",
       "      <td>None</td>\n",
       "      <td>a03223e636434f42ac4c3df47e8bac43</td>\n",
       "      <td>NaN</td>\n",
       "    </tr>\n",
       "  </tbody>\n",
       "</table>\n",
       "</div>"
      ],
      "text/plain": [
       "   age  became_member_on gender                                id    income\n",
       "0  118          20170212   None  68be06ca386d4c31939f3a4f0e3dd783       NaN\n",
       "1   55          20170715      F  0610b486422d4921ae7d2bf64640c50b  112000.0\n",
       "2  118          20180712   None  38fe809add3b4fcf9315a9694bb96ff5       NaN\n",
       "3   75          20170509      F  78afa995795e4d85b5d9ceeca43f5fef  100000.0\n",
       "4  118          20170804   None  a03223e636434f42ac4c3df47e8bac43       NaN"
      ]
     },
     "execution_count": 85,
     "metadata": {},
     "output_type": "execute_result"
    }
   ],
   "source": [
    "profile.head()"
   ]
  },
  {
   "cell_type": "code",
   "execution_count": 86,
   "metadata": {},
   "outputs": [
    {
     "data": {
      "text/html": [
       "<div>\n",
       "<style scoped>\n",
       "    .dataframe tbody tr th:only-of-type {\n",
       "        vertical-align: middle;\n",
       "    }\n",
       "\n",
       "    .dataframe tbody tr th {\n",
       "        vertical-align: top;\n",
       "    }\n",
       "\n",
       "    .dataframe thead th {\n",
       "        text-align: right;\n",
       "    }\n",
       "</style>\n",
       "<table border=\"1\" class=\"dataframe\">\n",
       "  <thead>\n",
       "    <tr style=\"text-align: right;\">\n",
       "      <th></th>\n",
       "      <th>event</th>\n",
       "      <th>person</th>\n",
       "      <th>time</th>\n",
       "      <th>value</th>\n",
       "    </tr>\n",
       "  </thead>\n",
       "  <tbody>\n",
       "    <tr>\n",
       "      <th>0</th>\n",
       "      <td>offer received</td>\n",
       "      <td>78afa995795e4d85b5d9ceeca43f5fef</td>\n",
       "      <td>0</td>\n",
       "      <td>{'offer id': '9b98b8c7a33c4b65b9aebfe6a799e6d9'}</td>\n",
       "    </tr>\n",
       "    <tr>\n",
       "      <th>1</th>\n",
       "      <td>offer received</td>\n",
       "      <td>a03223e636434f42ac4c3df47e8bac43</td>\n",
       "      <td>0</td>\n",
       "      <td>{'offer id': '0b1e1539f2cc45b7b9fa7c272da2e1d7'}</td>\n",
       "    </tr>\n",
       "    <tr>\n",
       "      <th>2</th>\n",
       "      <td>offer received</td>\n",
       "      <td>e2127556f4f64592b11af22de27a7932</td>\n",
       "      <td>0</td>\n",
       "      <td>{'offer id': '2906b810c7d4411798c6938adc9daaa5'}</td>\n",
       "    </tr>\n",
       "    <tr>\n",
       "      <th>3</th>\n",
       "      <td>offer received</td>\n",
       "      <td>8ec6ce2a7e7949b1bf142def7d0e0586</td>\n",
       "      <td>0</td>\n",
       "      <td>{'offer id': 'fafdcd668e3743c1bb461111dcafc2a4'}</td>\n",
       "    </tr>\n",
       "    <tr>\n",
       "      <th>4</th>\n",
       "      <td>offer received</td>\n",
       "      <td>68617ca6246f4fbc85e91a2a49552598</td>\n",
       "      <td>0</td>\n",
       "      <td>{'offer id': '4d5c57ea9a6940dd891ad53e9dbe8da0'}</td>\n",
       "    </tr>\n",
       "  </tbody>\n",
       "</table>\n",
       "</div>"
      ],
      "text/plain": [
       "            event                            person  time  \\\n",
       "0  offer received  78afa995795e4d85b5d9ceeca43f5fef     0   \n",
       "1  offer received  a03223e636434f42ac4c3df47e8bac43     0   \n",
       "2  offer received  e2127556f4f64592b11af22de27a7932     0   \n",
       "3  offer received  8ec6ce2a7e7949b1bf142def7d0e0586     0   \n",
       "4  offer received  68617ca6246f4fbc85e91a2a49552598     0   \n",
       "\n",
       "                                              value  \n",
       "0  {'offer id': '9b98b8c7a33c4b65b9aebfe6a799e6d9'}  \n",
       "1  {'offer id': '0b1e1539f2cc45b7b9fa7c272da2e1d7'}  \n",
       "2  {'offer id': '2906b810c7d4411798c6938adc9daaa5'}  \n",
       "3  {'offer id': 'fafdcd668e3743c1bb461111dcafc2a4'}  \n",
       "4  {'offer id': '4d5c57ea9a6940dd891ad53e9dbe8da0'}  "
      ]
     },
     "execution_count": 86,
     "metadata": {},
     "output_type": "execute_result"
    }
   ],
   "source": [
    "transcript.head()"
   ]
  },
  {
   "cell_type": "markdown",
   "metadata": {},
   "source": [
    "## 1. Data in various columns are saved under dictionary/list types and the id(s) are strings. We need to convert those data types into intergers, boolean so we can use them for analytics tasks. "
   ]
  },
  {
   "cell_type": "markdown",
   "metadata": {},
   "source": [
    "### Handling the list type"
   ]
  },
  {
   "cell_type": "markdown",
   "metadata": {},
   "source": [
    "'channels' column in 'portfolio' is under list type. We will convert it to dummies columns do display if any channel was used for each offer."
   ]
  },
  {
   "cell_type": "code",
   "execution_count": 87,
   "metadata": {},
   "outputs": [],
   "source": [
    "portfolio['is_email']=portfolio.apply(lambda x: 'email' in x['channels'], axis=1)\n",
    "portfolio['is_mobile']=portfolio.apply(lambda x: 'mobile' in x['channels'], axis=1)\n",
    "portfolio['is_social']=portfolio.apply(lambda x: 'social' in x['channels'], axis=1)\n",
    "portfolio['is_web']=portfolio.apply(lambda x: 'web' in x['channels'], axis=1)"
   ]
  },
  {
   "cell_type": "markdown",
   "metadata": {},
   "source": [
    "### Handling the string ids"
   ]
  },
  {
   "cell_type": "code",
   "execution_count": 136,
   "metadata": {},
   "outputs": [],
   "source": [
    "#Encode function to convert ids from string to number\n",
    "def id_mapper(df,col='id'):\n",
    "    '''\n",
    "    INPUT:\n",
    "    df - (pandas dataframe) the dataframe that you want to perform conversion\n",
    "    col - (str) df column that you want to perform conversion \n",
    "    \n",
    "    OUTPUT:\n",
    "    id_encoded - (series) a series of encoded data\n",
    "    \n",
    "    '''\n",
    "    coded_dict = dict()\n",
    "    seq = 1\n",
    "    id_encoded = []\n",
    "    \n",
    "    for val in df[col]:\n",
    "        if val not in coded_dict:\n",
    "            coded_dict[val] = seq\n",
    "            seq+=1\n",
    "        \n",
    "        id_encoded.append(coded_dict[val])\n",
    "    return id_encoded"
   ]
  },
  {
   "cell_type": "code",
   "execution_count": 89,
   "metadata": {},
   "outputs": [],
   "source": [
    "#Encode offer and profile id(s)\n",
    "portfolio['offer_id'] = id_mapper(portfolio)\n",
    "profile['person_id'] = id_mapper(profile)"
   ]
  },
  {
   "cell_type": "code",
   "execution_count": 90,
   "metadata": {},
   "outputs": [
    {
     "data": {
      "text/html": [
       "<div>\n",
       "<style scoped>\n",
       "    .dataframe tbody tr th:only-of-type {\n",
       "        vertical-align: middle;\n",
       "    }\n",
       "\n",
       "    .dataframe tbody tr th {\n",
       "        vertical-align: top;\n",
       "    }\n",
       "\n",
       "    .dataframe thead th {\n",
       "        text-align: right;\n",
       "    }\n",
       "</style>\n",
       "<table border=\"1\" class=\"dataframe\">\n",
       "  <thead>\n",
       "    <tr style=\"text-align: right;\">\n",
       "      <th></th>\n",
       "      <th>event</th>\n",
       "      <th>person</th>\n",
       "      <th>time</th>\n",
       "      <th>value</th>\n",
       "      <th>person_id</th>\n",
       "    </tr>\n",
       "  </thead>\n",
       "  <tbody>\n",
       "    <tr>\n",
       "      <th>0</th>\n",
       "      <td>offer received</td>\n",
       "      <td>78afa995795e4d85b5d9ceeca43f5fef</td>\n",
       "      <td>0</td>\n",
       "      <td>{'offer id': '9b98b8c7a33c4b65b9aebfe6a799e6d9'}</td>\n",
       "      <td>4</td>\n",
       "    </tr>\n",
       "    <tr>\n",
       "      <th>1</th>\n",
       "      <td>offer received</td>\n",
       "      <td>a03223e636434f42ac4c3df47e8bac43</td>\n",
       "      <td>0</td>\n",
       "      <td>{'offer id': '0b1e1539f2cc45b7b9fa7c272da2e1d7'}</td>\n",
       "      <td>5</td>\n",
       "    </tr>\n",
       "    <tr>\n",
       "      <th>2</th>\n",
       "      <td>offer received</td>\n",
       "      <td>e2127556f4f64592b11af22de27a7932</td>\n",
       "      <td>0</td>\n",
       "      <td>{'offer id': '2906b810c7d4411798c6938adc9daaa5'}</td>\n",
       "      <td>6</td>\n",
       "    </tr>\n",
       "    <tr>\n",
       "      <th>3</th>\n",
       "      <td>offer received</td>\n",
       "      <td>8ec6ce2a7e7949b1bf142def7d0e0586</td>\n",
       "      <td>0</td>\n",
       "      <td>{'offer id': 'fafdcd668e3743c1bb461111dcafc2a4'}</td>\n",
       "      <td>7</td>\n",
       "    </tr>\n",
       "    <tr>\n",
       "      <th>4</th>\n",
       "      <td>offer received</td>\n",
       "      <td>68617ca6246f4fbc85e91a2a49552598</td>\n",
       "      <td>0</td>\n",
       "      <td>{'offer id': '4d5c57ea9a6940dd891ad53e9dbe8da0'}</td>\n",
       "      <td>8</td>\n",
       "    </tr>\n",
       "  </tbody>\n",
       "</table>\n",
       "</div>"
      ],
      "text/plain": [
       "            event                            person  time  \\\n",
       "0  offer received  78afa995795e4d85b5d9ceeca43f5fef     0   \n",
       "1  offer received  a03223e636434f42ac4c3df47e8bac43     0   \n",
       "2  offer received  e2127556f4f64592b11af22de27a7932     0   \n",
       "3  offer received  8ec6ce2a7e7949b1bf142def7d0e0586     0   \n",
       "4  offer received  68617ca6246f4fbc85e91a2a49552598     0   \n",
       "\n",
       "                                              value  person_id  \n",
       "0  {'offer id': '9b98b8c7a33c4b65b9aebfe6a799e6d9'}          4  \n",
       "1  {'offer id': '0b1e1539f2cc45b7b9fa7c272da2e1d7'}          5  \n",
       "2  {'offer id': '2906b810c7d4411798c6938adc9daaa5'}          6  \n",
       "3  {'offer id': 'fafdcd668e3743c1bb461111dcafc2a4'}          7  \n",
       "4  {'offer id': '4d5c57ea9a6940dd891ad53e9dbe8da0'}          8  "
      ]
     },
     "execution_count": 90,
     "metadata": {},
     "output_type": "execute_result"
    }
   ],
   "source": [
    "#Mapping profile and transcript by person\n",
    "transcript = pd.merge(transcript,profile[['id','person_id']],left_on=['person'],right_on=['id'],how='left')\n",
    "#Remove the duplicated 'id' column\n",
    "transcript = transcript.drop(['id'],axis=1)\n",
    "transcript.head()"
   ]
  },
  {
   "cell_type": "markdown",
   "metadata": {},
   "source": [
    "### Handling the dictionaries"
   ]
  },
  {
   "cell_type": "markdown",
   "metadata": {},
   "source": [
    "For the 'transcript' dataset, there are various event type and the 'value' column structure will change accordingly. We need to split this dataset into event type datasets and decompose the 'value' column. After that, we will map the offer related datasets with 'portfolio' dataset to get the offer_id. "
   ]
  },
  {
   "cell_type": "code",
   "execution_count": 91,
   "metadata": {},
   "outputs": [
    {
     "data": {
      "text/plain": [
       "array(['offer received', 'offer viewed', 'transaction', 'offer completed'], dtype=object)"
      ]
     },
     "execution_count": 91,
     "metadata": {},
     "output_type": "execute_result"
    }
   ],
   "source": [
    "transcript.event.unique()"
   ]
  },
  {
   "cell_type": "code",
   "execution_count": 92,
   "metadata": {},
   "outputs": [],
   "source": [
    "# Split the dataset\n",
    "offer_received_event = transcript[transcript['event'] == 'offer received']\n",
    "offer_viewed_event = transcript[transcript['event'] == 'offer viewed']\n",
    "offer_completed_event = transcript[transcript['event'] == 'offer completed']\n",
    "transaction_event = transcript[transcript['event'] == 'transaction']"
   ]
  },
  {
   "cell_type": "code",
   "execution_count": 93,
   "metadata": {},
   "outputs": [
    {
     "data": {
      "text/html": [
       "<div>\n",
       "<style scoped>\n",
       "    .dataframe tbody tr th:only-of-type {\n",
       "        vertical-align: middle;\n",
       "    }\n",
       "\n",
       "    .dataframe tbody tr th {\n",
       "        vertical-align: top;\n",
       "    }\n",
       "\n",
       "    .dataframe thead th {\n",
       "        text-align: right;\n",
       "    }\n",
       "</style>\n",
       "<table border=\"1\" class=\"dataframe\">\n",
       "  <thead>\n",
       "    <tr style=\"text-align: right;\">\n",
       "      <th></th>\n",
       "      <th>event</th>\n",
       "      <th>person</th>\n",
       "      <th>time</th>\n",
       "      <th>value</th>\n",
       "      <th>person_id</th>\n",
       "    </tr>\n",
       "  </thead>\n",
       "  <tbody>\n",
       "    <tr>\n",
       "      <th>0</th>\n",
       "      <td>offer received</td>\n",
       "      <td>78afa995795e4d85b5d9ceeca43f5fef</td>\n",
       "      <td>0</td>\n",
       "      <td>{'offer id': '9b98b8c7a33c4b65b9aebfe6a799e6d9'}</td>\n",
       "      <td>4</td>\n",
       "    </tr>\n",
       "    <tr>\n",
       "      <th>1</th>\n",
       "      <td>offer received</td>\n",
       "      <td>a03223e636434f42ac4c3df47e8bac43</td>\n",
       "      <td>0</td>\n",
       "      <td>{'offer id': '0b1e1539f2cc45b7b9fa7c272da2e1d7'}</td>\n",
       "      <td>5</td>\n",
       "    </tr>\n",
       "    <tr>\n",
       "      <th>2</th>\n",
       "      <td>offer received</td>\n",
       "      <td>e2127556f4f64592b11af22de27a7932</td>\n",
       "      <td>0</td>\n",
       "      <td>{'offer id': '2906b810c7d4411798c6938adc9daaa5'}</td>\n",
       "      <td>6</td>\n",
       "    </tr>\n",
       "    <tr>\n",
       "      <th>3</th>\n",
       "      <td>offer received</td>\n",
       "      <td>8ec6ce2a7e7949b1bf142def7d0e0586</td>\n",
       "      <td>0</td>\n",
       "      <td>{'offer id': 'fafdcd668e3743c1bb461111dcafc2a4'}</td>\n",
       "      <td>7</td>\n",
       "    </tr>\n",
       "    <tr>\n",
       "      <th>4</th>\n",
       "      <td>offer received</td>\n",
       "      <td>68617ca6246f4fbc85e91a2a49552598</td>\n",
       "      <td>0</td>\n",
       "      <td>{'offer id': '4d5c57ea9a6940dd891ad53e9dbe8da0'}</td>\n",
       "      <td>8</td>\n",
       "    </tr>\n",
       "  </tbody>\n",
       "</table>\n",
       "</div>"
      ],
      "text/plain": [
       "            event                            person  time  \\\n",
       "0  offer received  78afa995795e4d85b5d9ceeca43f5fef     0   \n",
       "1  offer received  a03223e636434f42ac4c3df47e8bac43     0   \n",
       "2  offer received  e2127556f4f64592b11af22de27a7932     0   \n",
       "3  offer received  8ec6ce2a7e7949b1bf142def7d0e0586     0   \n",
       "4  offer received  68617ca6246f4fbc85e91a2a49552598     0   \n",
       "\n",
       "                                              value  person_id  \n",
       "0  {'offer id': '9b98b8c7a33c4b65b9aebfe6a799e6d9'}          4  \n",
       "1  {'offer id': '0b1e1539f2cc45b7b9fa7c272da2e1d7'}          5  \n",
       "2  {'offer id': '2906b810c7d4411798c6938adc9daaa5'}          6  \n",
       "3  {'offer id': 'fafdcd668e3743c1bb461111dcafc2a4'}          7  \n",
       "4  {'offer id': '4d5c57ea9a6940dd891ad53e9dbe8da0'}          8  "
      ]
     },
     "execution_count": 93,
     "metadata": {},
     "output_type": "execute_result"
    }
   ],
   "source": [
    "# Take a look at the 'offer_received_event' data to see the structure\n",
    "offer_received_event.head()"
   ]
  },
  {
   "cell_type": "markdown",
   "metadata": {},
   "source": [
    "For offer_received_event, we have to get the offer if from 'value' column and then map it with the 'portfolio' dataset to get encoded offer_id."
   ]
  },
  {
   "cell_type": "code",
   "execution_count": 94,
   "metadata": {},
   "outputs": [
    {
     "name": "stderr",
     "output_type": "stream",
     "text": [
      "/opt/conda/lib/python3.6/site-packages/ipykernel_launcher.py:2: SettingWithCopyWarning: \n",
      "A value is trying to be set on a copy of a slice from a DataFrame.\n",
      "Try using .loc[row_indexer,col_indexer] = value instead\n",
      "\n",
      "See the caveats in the documentation: http://pandas.pydata.org/pandas-docs/stable/indexing.html#indexing-view-versus-copy\n",
      "  \n"
     ]
    },
    {
     "data": {
      "text/html": [
       "<div>\n",
       "<style scoped>\n",
       "    .dataframe tbody tr th:only-of-type {\n",
       "        vertical-align: middle;\n",
       "    }\n",
       "\n",
       "    .dataframe tbody tr th {\n",
       "        vertical-align: top;\n",
       "    }\n",
       "\n",
       "    .dataframe thead th {\n",
       "        text-align: right;\n",
       "    }\n",
       "</style>\n",
       "<table border=\"1\" class=\"dataframe\">\n",
       "  <thead>\n",
       "    <tr style=\"text-align: right;\">\n",
       "      <th></th>\n",
       "      <th>time</th>\n",
       "      <th>person_id</th>\n",
       "      <th>offer_id</th>\n",
       "    </tr>\n",
       "  </thead>\n",
       "  <tbody>\n",
       "    <tr>\n",
       "      <th>0</th>\n",
       "      <td>0</td>\n",
       "      <td>4</td>\n",
       "      <td>4</td>\n",
       "    </tr>\n",
       "    <tr>\n",
       "      <th>1</th>\n",
       "      <td>0</td>\n",
       "      <td>5</td>\n",
       "      <td>5</td>\n",
       "    </tr>\n",
       "    <tr>\n",
       "      <th>2</th>\n",
       "      <td>0</td>\n",
       "      <td>6</td>\n",
       "      <td>10</td>\n",
       "    </tr>\n",
       "    <tr>\n",
       "      <th>3</th>\n",
       "      <td>0</td>\n",
       "      <td>7</td>\n",
       "      <td>7</td>\n",
       "    </tr>\n",
       "    <tr>\n",
       "      <th>4</th>\n",
       "      <td>0</td>\n",
       "      <td>8</td>\n",
       "      <td>2</td>\n",
       "    </tr>\n",
       "  </tbody>\n",
       "</table>\n",
       "</div>"
      ],
      "text/plain": [
       "   time  person_id  offer_id\n",
       "0     0          4         4\n",
       "1     0          5         5\n",
       "2     0          6        10\n",
       "3     0          7         7\n",
       "4     0          8         2"
      ]
     },
     "execution_count": 94,
     "metadata": {},
     "output_type": "execute_result"
    }
   ],
   "source": [
    "# Get offer id out of 'value' column\n",
    "offer_received_event['offer_id_org']=offer_received_event.apply(lambda x: x['value']['offer id'], axis=1)\n",
    "# Map with 'portfolio'\n",
    "offer_received_event = pd.merge(offer_received_event,portfolio[['id','offer_id']],left_on=['offer_id_org'],right_on=['id'],how='left')\n",
    "# Remove unnecessary columns\n",
    "offer_received_event = offer_received_event.drop(['event','person','offer_id_org','id','value'],axis=1)\n",
    "offer_received_event.head()"
   ]
  },
  {
   "cell_type": "code",
   "execution_count": 95,
   "metadata": {},
   "outputs": [
    {
     "data": {
      "text/html": [
       "<div>\n",
       "<style scoped>\n",
       "    .dataframe tbody tr th:only-of-type {\n",
       "        vertical-align: middle;\n",
       "    }\n",
       "\n",
       "    .dataframe tbody tr th {\n",
       "        vertical-align: top;\n",
       "    }\n",
       "\n",
       "    .dataframe thead th {\n",
       "        text-align: right;\n",
       "    }\n",
       "</style>\n",
       "<table border=\"1\" class=\"dataframe\">\n",
       "  <thead>\n",
       "    <tr style=\"text-align: right;\">\n",
       "      <th></th>\n",
       "      <th>event</th>\n",
       "      <th>person</th>\n",
       "      <th>time</th>\n",
       "      <th>value</th>\n",
       "      <th>person_id</th>\n",
       "    </tr>\n",
       "  </thead>\n",
       "  <tbody>\n",
       "    <tr>\n",
       "      <th>12650</th>\n",
       "      <td>offer viewed</td>\n",
       "      <td>389bc3fa690240e798340f5a15918d5c</td>\n",
       "      <td>0</td>\n",
       "      <td>{'offer id': 'f19421c1d4aa40978ebb69ca19b0e20d'}</td>\n",
       "      <td>9</td>\n",
       "    </tr>\n",
       "    <tr>\n",
       "      <th>12651</th>\n",
       "      <td>offer viewed</td>\n",
       "      <td>d1ede868e29245ea91818a903fec04c6</td>\n",
       "      <td>0</td>\n",
       "      <td>{'offer id': '5a8bc65990b245e5a138643cd4eb9837'}</td>\n",
       "      <td>32</td>\n",
       "    </tr>\n",
       "    <tr>\n",
       "      <th>12652</th>\n",
       "      <td>offer viewed</td>\n",
       "      <td>102e9454054946fda62242d2e176fdce</td>\n",
       "      <td>0</td>\n",
       "      <td>{'offer id': '4d5c57ea9a6940dd891ad53e9dbe8da0'}</td>\n",
       "      <td>36</td>\n",
       "    </tr>\n",
       "    <tr>\n",
       "      <th>12653</th>\n",
       "      <td>offer viewed</td>\n",
       "      <td>02c083884c7d45b39cc68e1314fec56c</td>\n",
       "      <td>0</td>\n",
       "      <td>{'offer id': 'ae264e3637204a6fb9bb56bc8210ddfd'}</td>\n",
       "      <td>42</td>\n",
       "    </tr>\n",
       "    <tr>\n",
       "      <th>12655</th>\n",
       "      <td>offer viewed</td>\n",
       "      <td>be8a5d1981a2458d90b255ddc7e0d174</td>\n",
       "      <td>0</td>\n",
       "      <td>{'offer id': '5a8bc65990b245e5a138643cd4eb9837'}</td>\n",
       "      <td>49</td>\n",
       "    </tr>\n",
       "  </tbody>\n",
       "</table>\n",
       "</div>"
      ],
      "text/plain": [
       "              event                            person  time  \\\n",
       "12650  offer viewed  389bc3fa690240e798340f5a15918d5c     0   \n",
       "12651  offer viewed  d1ede868e29245ea91818a903fec04c6     0   \n",
       "12652  offer viewed  102e9454054946fda62242d2e176fdce     0   \n",
       "12653  offer viewed  02c083884c7d45b39cc68e1314fec56c     0   \n",
       "12655  offer viewed  be8a5d1981a2458d90b255ddc7e0d174     0   \n",
       "\n",
       "                                                  value  person_id  \n",
       "12650  {'offer id': 'f19421c1d4aa40978ebb69ca19b0e20d'}          9  \n",
       "12651  {'offer id': '5a8bc65990b245e5a138643cd4eb9837'}         32  \n",
       "12652  {'offer id': '4d5c57ea9a6940dd891ad53e9dbe8da0'}         36  \n",
       "12653  {'offer id': 'ae264e3637204a6fb9bb56bc8210ddfd'}         42  \n",
       "12655  {'offer id': '5a8bc65990b245e5a138643cd4eb9837'}         49  "
      ]
     },
     "execution_count": 95,
     "metadata": {},
     "output_type": "execute_result"
    }
   ],
   "source": [
    "# Take a look at 'offer_viewed_event' data to see the structure.\n",
    "offer_viewed_event.head()"
   ]
  },
  {
   "cell_type": "markdown",
   "metadata": {},
   "source": [
    "Similar with 'offer_received_event', we need to get the offer id from 'value' column to map it with 'portfolio' data and then remove unneccessary columns."
   ]
  },
  {
   "cell_type": "code",
   "execution_count": 96,
   "metadata": {},
   "outputs": [
    {
     "name": "stderr",
     "output_type": "stream",
     "text": [
      "/opt/conda/lib/python3.6/site-packages/ipykernel_launcher.py:2: SettingWithCopyWarning: \n",
      "A value is trying to be set on a copy of a slice from a DataFrame.\n",
      "Try using .loc[row_indexer,col_indexer] = value instead\n",
      "\n",
      "See the caveats in the documentation: http://pandas.pydata.org/pandas-docs/stable/indexing.html#indexing-view-versus-copy\n",
      "  \n"
     ]
    },
    {
     "data": {
      "text/html": [
       "<div>\n",
       "<style scoped>\n",
       "    .dataframe tbody tr th:only-of-type {\n",
       "        vertical-align: middle;\n",
       "    }\n",
       "\n",
       "    .dataframe tbody tr th {\n",
       "        vertical-align: top;\n",
       "    }\n",
       "\n",
       "    .dataframe thead th {\n",
       "        text-align: right;\n",
       "    }\n",
       "</style>\n",
       "<table border=\"1\" class=\"dataframe\">\n",
       "  <thead>\n",
       "    <tr style=\"text-align: right;\">\n",
       "      <th></th>\n",
       "      <th>time</th>\n",
       "      <th>person_id</th>\n",
       "      <th>offer_id</th>\n",
       "    </tr>\n",
       "  </thead>\n",
       "  <tbody>\n",
       "    <tr>\n",
       "      <th>0</th>\n",
       "      <td>0</td>\n",
       "      <td>9</td>\n",
       "      <td>9</td>\n",
       "    </tr>\n",
       "    <tr>\n",
       "      <th>1</th>\n",
       "      <td>0</td>\n",
       "      <td>32</td>\n",
       "      <td>8</td>\n",
       "    </tr>\n",
       "    <tr>\n",
       "      <th>2</th>\n",
       "      <td>0</td>\n",
       "      <td>36</td>\n",
       "      <td>2</td>\n",
       "    </tr>\n",
       "    <tr>\n",
       "      <th>3</th>\n",
       "      <td>0</td>\n",
       "      <td>42</td>\n",
       "      <td>1</td>\n",
       "    </tr>\n",
       "    <tr>\n",
       "      <th>4</th>\n",
       "      <td>0</td>\n",
       "      <td>49</td>\n",
       "      <td>8</td>\n",
       "    </tr>\n",
       "  </tbody>\n",
       "</table>\n",
       "</div>"
      ],
      "text/plain": [
       "   time  person_id  offer_id\n",
       "0     0          9         9\n",
       "1     0         32         8\n",
       "2     0         36         2\n",
       "3     0         42         1\n",
       "4     0         49         8"
      ]
     },
     "execution_count": 96,
     "metadata": {},
     "output_type": "execute_result"
    }
   ],
   "source": [
    "# Get offer id out of 'value' column\n",
    "offer_viewed_event['offer_id_org']=offer_viewed_event.apply(lambda x: x['value']['offer id'], axis=1)\n",
    "# Map with 'portfolio'\n",
    "offer_viewed_event = pd.merge(offer_viewed_event,portfolio[['id','offer_id']],left_on=['offer_id_org'],right_on=['id'],how='left')\n",
    "# Remove unnecessary columns\n",
    "offer_viewed_event = offer_viewed_event.drop(['event','person','offer_id_org','id','value'],axis=1)\n",
    "offer_viewed_event.head()"
   ]
  },
  {
   "cell_type": "code",
   "execution_count": 98,
   "metadata": {},
   "outputs": [
    {
     "data": {
      "text/html": [
       "<div>\n",
       "<style scoped>\n",
       "    .dataframe tbody tr th:only-of-type {\n",
       "        vertical-align: middle;\n",
       "    }\n",
       "\n",
       "    .dataframe tbody tr th {\n",
       "        vertical-align: top;\n",
       "    }\n",
       "\n",
       "    .dataframe thead th {\n",
       "        text-align: right;\n",
       "    }\n",
       "</style>\n",
       "<table border=\"1\" class=\"dataframe\">\n",
       "  <thead>\n",
       "    <tr style=\"text-align: right;\">\n",
       "      <th></th>\n",
       "      <th>event</th>\n",
       "      <th>person</th>\n",
       "      <th>time</th>\n",
       "      <th>value</th>\n",
       "      <th>person_id</th>\n",
       "    </tr>\n",
       "  </thead>\n",
       "  <tbody>\n",
       "    <tr>\n",
       "      <th>12658</th>\n",
       "      <td>offer completed</td>\n",
       "      <td>9fa9ae8f57894cc9a3b8a9bbe0fc1b2f</td>\n",
       "      <td>0</td>\n",
       "      <td>{'offer_id': '2906b810c7d4411798c6938adc9daaa5', 'reward': 2}</td>\n",
       "      <td>56</td>\n",
       "    </tr>\n",
       "    <tr>\n",
       "      <th>12672</th>\n",
       "      <td>offer completed</td>\n",
       "      <td>fe97aa22dd3e48c8b143116a8403dd52</td>\n",
       "      <td>0</td>\n",
       "      <td>{'offer_id': 'fafdcd668e3743c1bb461111dcafc2a4', 'reward': 2}</td>\n",
       "      <td>152</td>\n",
       "    </tr>\n",
       "    <tr>\n",
       "      <th>12679</th>\n",
       "      <td>offer completed</td>\n",
       "      <td>629fc02d56414d91bca360decdfa9288</td>\n",
       "      <td>0</td>\n",
       "      <td>{'offer_id': '9b98b8c7a33c4b65b9aebfe6a799e6d9', 'reward': 5}</td>\n",
       "      <td>175</td>\n",
       "    </tr>\n",
       "    <tr>\n",
       "      <th>12692</th>\n",
       "      <td>offer completed</td>\n",
       "      <td>676506bad68e4161b9bbaffeb039626b</td>\n",
       "      <td>0</td>\n",
       "      <td>{'offer_id': 'ae264e3637204a6fb9bb56bc8210ddfd', 'reward': 10}</td>\n",
       "      <td>300</td>\n",
       "    </tr>\n",
       "    <tr>\n",
       "      <th>12697</th>\n",
       "      <td>offer completed</td>\n",
       "      <td>8f7dd3b2afe14c078eb4f6e6fe4ba97d</td>\n",
       "      <td>0</td>\n",
       "      <td>{'offer_id': '4d5c57ea9a6940dd891ad53e9dbe8da0', 'reward': 10}</td>\n",
       "      <td>317</td>\n",
       "    </tr>\n",
       "  </tbody>\n",
       "</table>\n",
       "</div>"
      ],
      "text/plain": [
       "                 event                            person  time  \\\n",
       "12658  offer completed  9fa9ae8f57894cc9a3b8a9bbe0fc1b2f     0   \n",
       "12672  offer completed  fe97aa22dd3e48c8b143116a8403dd52     0   \n",
       "12679  offer completed  629fc02d56414d91bca360decdfa9288     0   \n",
       "12692  offer completed  676506bad68e4161b9bbaffeb039626b     0   \n",
       "12697  offer completed  8f7dd3b2afe14c078eb4f6e6fe4ba97d     0   \n",
       "\n",
       "                                                                value  \\\n",
       "12658   {'offer_id': '2906b810c7d4411798c6938adc9daaa5', 'reward': 2}   \n",
       "12672   {'offer_id': 'fafdcd668e3743c1bb461111dcafc2a4', 'reward': 2}   \n",
       "12679   {'offer_id': '9b98b8c7a33c4b65b9aebfe6a799e6d9', 'reward': 5}   \n",
       "12692  {'offer_id': 'ae264e3637204a6fb9bb56bc8210ddfd', 'reward': 10}   \n",
       "12697  {'offer_id': '4d5c57ea9a6940dd891ad53e9dbe8da0', 'reward': 10}   \n",
       "\n",
       "       person_id  \n",
       "12658         56  \n",
       "12672        152  \n",
       "12679        175  \n",
       "12692        300  \n",
       "12697        317  "
      ]
     },
     "execution_count": 98,
     "metadata": {},
     "output_type": "execute_result"
    }
   ],
   "source": [
    "# Take a look at 'offer_completed_event' data to see the structure.\n",
    "pd.set_option('display.max_colwidth', 100)  \n",
    "offer_completed_event.head()\n",
    "#pd.reset_option('display.max_colwidth')"
   ]
  },
  {
   "cell_type": "markdown",
   "metadata": {},
   "source": [
    "For this dataframe, we need to get offer id and reward from 'value' column and then map with 'portfolio' to get the encoded offer id."
   ]
  },
  {
   "cell_type": "code",
   "execution_count": 99,
   "metadata": {},
   "outputs": [
    {
     "name": "stderr",
     "output_type": "stream",
     "text": [
      "/opt/conda/lib/python3.6/site-packages/ipykernel_launcher.py:2: SettingWithCopyWarning: \n",
      "A value is trying to be set on a copy of a slice from a DataFrame.\n",
      "Try using .loc[row_indexer,col_indexer] = value instead\n",
      "\n",
      "See the caveats in the documentation: http://pandas.pydata.org/pandas-docs/stable/indexing.html#indexing-view-versus-copy\n",
      "  \n",
      "/opt/conda/lib/python3.6/site-packages/ipykernel_launcher.py:3: SettingWithCopyWarning: \n",
      "A value is trying to be set on a copy of a slice from a DataFrame.\n",
      "Try using .loc[row_indexer,col_indexer] = value instead\n",
      "\n",
      "See the caveats in the documentation: http://pandas.pydata.org/pandas-docs/stable/indexing.html#indexing-view-versus-copy\n",
      "  This is separate from the ipykernel package so we can avoid doing imports until\n"
     ]
    },
    {
     "data": {
      "text/html": [
       "<div>\n",
       "<style scoped>\n",
       "    .dataframe tbody tr th:only-of-type {\n",
       "        vertical-align: middle;\n",
       "    }\n",
       "\n",
       "    .dataframe tbody tr th {\n",
       "        vertical-align: top;\n",
       "    }\n",
       "\n",
       "    .dataframe thead th {\n",
       "        text-align: right;\n",
       "    }\n",
       "</style>\n",
       "<table border=\"1\" class=\"dataframe\">\n",
       "  <thead>\n",
       "    <tr style=\"text-align: right;\">\n",
       "      <th></th>\n",
       "      <th>time</th>\n",
       "      <th>person_id</th>\n",
       "      <th>reward</th>\n",
       "      <th>offer_id</th>\n",
       "    </tr>\n",
       "  </thead>\n",
       "  <tbody>\n",
       "    <tr>\n",
       "      <th>0</th>\n",
       "      <td>0</td>\n",
       "      <td>56</td>\n",
       "      <td>2</td>\n",
       "      <td>10</td>\n",
       "    </tr>\n",
       "    <tr>\n",
       "      <th>1</th>\n",
       "      <td>0</td>\n",
       "      <td>152</td>\n",
       "      <td>2</td>\n",
       "      <td>7</td>\n",
       "    </tr>\n",
       "    <tr>\n",
       "      <th>2</th>\n",
       "      <td>0</td>\n",
       "      <td>175</td>\n",
       "      <td>5</td>\n",
       "      <td>4</td>\n",
       "    </tr>\n",
       "    <tr>\n",
       "      <th>3</th>\n",
       "      <td>0</td>\n",
       "      <td>300</td>\n",
       "      <td>10</td>\n",
       "      <td>1</td>\n",
       "    </tr>\n",
       "    <tr>\n",
       "      <th>4</th>\n",
       "      <td>0</td>\n",
       "      <td>317</td>\n",
       "      <td>10</td>\n",
       "      <td>2</td>\n",
       "    </tr>\n",
       "  </tbody>\n",
       "</table>\n",
       "</div>"
      ],
      "text/plain": [
       "   time  person_id  reward  offer_id\n",
       "0     0         56       2        10\n",
       "1     0        152       2         7\n",
       "2     0        175       5         4\n",
       "3     0        300      10         1\n",
       "4     0        317      10         2"
      ]
     },
     "execution_count": 99,
     "metadata": {},
     "output_type": "execute_result"
    }
   ],
   "source": [
    "# Get offer id and reward out of 'value' column\n",
    "offer_completed_event['offer_id_org']=offer_completed_event.apply(lambda x: x['value']['offer_id'], axis=1)\n",
    "offer_completed_event['reward']=offer_completed_event.apply(lambda x: x['value']['reward'], axis=1)\n",
    "# Map with 'portfolio'\n",
    "offer_completed_event = pd.merge(offer_completed_event,portfolio[['id','offer_id']],left_on=['offer_id_org'],right_on=['id'],how='left')\n",
    "# Remove unnecessary columns\n",
    "offer_completed_event = offer_completed_event.drop(['event','person','offer_id_org','id','value'],axis=1)\n",
    "offer_completed_event.head()"
   ]
  },
  {
   "cell_type": "code",
   "execution_count": 100,
   "metadata": {},
   "outputs": [
    {
     "data": {
      "text/html": [
       "<div>\n",
       "<style scoped>\n",
       "    .dataframe tbody tr th:only-of-type {\n",
       "        vertical-align: middle;\n",
       "    }\n",
       "\n",
       "    .dataframe tbody tr th {\n",
       "        vertical-align: top;\n",
       "    }\n",
       "\n",
       "    .dataframe thead th {\n",
       "        text-align: right;\n",
       "    }\n",
       "</style>\n",
       "<table border=\"1\" class=\"dataframe\">\n",
       "  <thead>\n",
       "    <tr style=\"text-align: right;\">\n",
       "      <th></th>\n",
       "      <th>event</th>\n",
       "      <th>person</th>\n",
       "      <th>time</th>\n",
       "      <th>value</th>\n",
       "      <th>person_id</th>\n",
       "    </tr>\n",
       "  </thead>\n",
       "  <tbody>\n",
       "    <tr>\n",
       "      <th>12654</th>\n",
       "      <td>transaction</td>\n",
       "      <td>02c083884c7d45b39cc68e1314fec56c</td>\n",
       "      <td>0</td>\n",
       "      <td>{'amount': 0.8300000000000001}</td>\n",
       "      <td>42</td>\n",
       "    </tr>\n",
       "    <tr>\n",
       "      <th>12657</th>\n",
       "      <td>transaction</td>\n",
       "      <td>9fa9ae8f57894cc9a3b8a9bbe0fc1b2f</td>\n",
       "      <td>0</td>\n",
       "      <td>{'amount': 34.56}</td>\n",
       "      <td>56</td>\n",
       "    </tr>\n",
       "    <tr>\n",
       "      <th>12659</th>\n",
       "      <td>transaction</td>\n",
       "      <td>54890f68699049c2a04d415abc25e717</td>\n",
       "      <td>0</td>\n",
       "      <td>{'amount': 13.23}</td>\n",
       "      <td>64</td>\n",
       "    </tr>\n",
       "    <tr>\n",
       "      <th>12670</th>\n",
       "      <td>transaction</td>\n",
       "      <td>b2f1cd155b864803ad8334cdf13c4bd2</td>\n",
       "      <td>0</td>\n",
       "      <td>{'amount': 19.51}</td>\n",
       "      <td>135</td>\n",
       "    </tr>\n",
       "    <tr>\n",
       "      <th>12671</th>\n",
       "      <td>transaction</td>\n",
       "      <td>fe97aa22dd3e48c8b143116a8403dd52</td>\n",
       "      <td>0</td>\n",
       "      <td>{'amount': 18.97}</td>\n",
       "      <td>152</td>\n",
       "    </tr>\n",
       "  </tbody>\n",
       "</table>\n",
       "</div>"
      ],
      "text/plain": [
       "             event                            person  time  \\\n",
       "12654  transaction  02c083884c7d45b39cc68e1314fec56c     0   \n",
       "12657  transaction  9fa9ae8f57894cc9a3b8a9bbe0fc1b2f     0   \n",
       "12659  transaction  54890f68699049c2a04d415abc25e717     0   \n",
       "12670  transaction  b2f1cd155b864803ad8334cdf13c4bd2     0   \n",
       "12671  transaction  fe97aa22dd3e48c8b143116a8403dd52     0   \n",
       "\n",
       "                                value  person_id  \n",
       "12654  {'amount': 0.8300000000000001}         42  \n",
       "12657               {'amount': 34.56}         56  \n",
       "12659               {'amount': 13.23}         64  \n",
       "12670               {'amount': 19.51}        135  \n",
       "12671               {'amount': 18.97}        152  "
      ]
     },
     "execution_count": 100,
     "metadata": {},
     "output_type": "execute_result"
    }
   ],
   "source": [
    "# Take a look at 'transaction_event' dataframe to see the structure.\n",
    "transaction_event.head()"
   ]
  },
  {
   "cell_type": "markdown",
   "metadata": {},
   "source": [
    "For Transaction_event data, we have to get the amount from 'value' column."
   ]
  },
  {
   "cell_type": "code",
   "execution_count": 101,
   "metadata": {},
   "outputs": [
    {
     "name": "stderr",
     "output_type": "stream",
     "text": [
      "/opt/conda/lib/python3.6/site-packages/ipykernel_launcher.py:2: SettingWithCopyWarning: \n",
      "A value is trying to be set on a copy of a slice from a DataFrame.\n",
      "Try using .loc[row_indexer,col_indexer] = value instead\n",
      "\n",
      "See the caveats in the documentation: http://pandas.pydata.org/pandas-docs/stable/indexing.html#indexing-view-versus-copy\n",
      "  \n"
     ]
    },
    {
     "data": {
      "text/html": [
       "<div>\n",
       "<style scoped>\n",
       "    .dataframe tbody tr th:only-of-type {\n",
       "        vertical-align: middle;\n",
       "    }\n",
       "\n",
       "    .dataframe tbody tr th {\n",
       "        vertical-align: top;\n",
       "    }\n",
       "\n",
       "    .dataframe thead th {\n",
       "        text-align: right;\n",
       "    }\n",
       "</style>\n",
       "<table border=\"1\" class=\"dataframe\">\n",
       "  <thead>\n",
       "    <tr style=\"text-align: right;\">\n",
       "      <th></th>\n",
       "      <th>time</th>\n",
       "      <th>person_id</th>\n",
       "      <th>amount</th>\n",
       "    </tr>\n",
       "  </thead>\n",
       "  <tbody>\n",
       "    <tr>\n",
       "      <th>12654</th>\n",
       "      <td>0</td>\n",
       "      <td>42</td>\n",
       "      <td>0.83</td>\n",
       "    </tr>\n",
       "    <tr>\n",
       "      <th>12657</th>\n",
       "      <td>0</td>\n",
       "      <td>56</td>\n",
       "      <td>34.56</td>\n",
       "    </tr>\n",
       "    <tr>\n",
       "      <th>12659</th>\n",
       "      <td>0</td>\n",
       "      <td>64</td>\n",
       "      <td>13.23</td>\n",
       "    </tr>\n",
       "    <tr>\n",
       "      <th>12670</th>\n",
       "      <td>0</td>\n",
       "      <td>135</td>\n",
       "      <td>19.51</td>\n",
       "    </tr>\n",
       "    <tr>\n",
       "      <th>12671</th>\n",
       "      <td>0</td>\n",
       "      <td>152</td>\n",
       "      <td>18.97</td>\n",
       "    </tr>\n",
       "  </tbody>\n",
       "</table>\n",
       "</div>"
      ],
      "text/plain": [
       "       time  person_id  amount\n",
       "12654     0         42    0.83\n",
       "12657     0         56   34.56\n",
       "12659     0         64   13.23\n",
       "12670     0        135   19.51\n",
       "12671     0        152   18.97"
      ]
     },
     "execution_count": 101,
     "metadata": {},
     "output_type": "execute_result"
    }
   ],
   "source": [
    "# Get amount from 'value' column\n",
    "transaction_event['amount']=transaction_event.apply(lambda x: x['value']['amount'], axis=1)\n",
    "# Remove unneccessary columns\n",
    "transaction_event = transaction_event.drop(['event','person','value'],axis=1)\n",
    "transaction_event.head()"
   ]
  },
  {
   "cell_type": "code",
   "execution_count": 102,
   "metadata": {},
   "outputs": [],
   "source": [
    "#Remove the unused columns from other dataframes\n",
    "portfolio = portfolio.drop(['channels','id'],axis=1)\n",
    "profile = profile.drop(['id'],axis=1)"
   ]
  },
  {
   "cell_type": "code",
   "execution_count": 103,
   "metadata": {},
   "outputs": [
    {
     "data": {
      "text/html": [
       "<div>\n",
       "<style scoped>\n",
       "    .dataframe tbody tr th:only-of-type {\n",
       "        vertical-align: middle;\n",
       "    }\n",
       "\n",
       "    .dataframe tbody tr th {\n",
       "        vertical-align: top;\n",
       "    }\n",
       "\n",
       "    .dataframe thead th {\n",
       "        text-align: right;\n",
       "    }\n",
       "</style>\n",
       "<table border=\"1\" class=\"dataframe\">\n",
       "  <thead>\n",
       "    <tr style=\"text-align: right;\">\n",
       "      <th></th>\n",
       "      <th>difficulty</th>\n",
       "      <th>duration</th>\n",
       "      <th>offer_type</th>\n",
       "      <th>reward</th>\n",
       "      <th>is_email</th>\n",
       "      <th>is_mobile</th>\n",
       "      <th>is_social</th>\n",
       "      <th>is_web</th>\n",
       "      <th>offer_id</th>\n",
       "    </tr>\n",
       "  </thead>\n",
       "  <tbody>\n",
       "    <tr>\n",
       "      <th>0</th>\n",
       "      <td>10</td>\n",
       "      <td>7</td>\n",
       "      <td>bogo</td>\n",
       "      <td>10</td>\n",
       "      <td>True</td>\n",
       "      <td>True</td>\n",
       "      <td>True</td>\n",
       "      <td>False</td>\n",
       "      <td>1</td>\n",
       "    </tr>\n",
       "    <tr>\n",
       "      <th>1</th>\n",
       "      <td>10</td>\n",
       "      <td>5</td>\n",
       "      <td>bogo</td>\n",
       "      <td>10</td>\n",
       "      <td>True</td>\n",
       "      <td>True</td>\n",
       "      <td>True</td>\n",
       "      <td>True</td>\n",
       "      <td>2</td>\n",
       "    </tr>\n",
       "    <tr>\n",
       "      <th>2</th>\n",
       "      <td>0</td>\n",
       "      <td>4</td>\n",
       "      <td>informational</td>\n",
       "      <td>0</td>\n",
       "      <td>True</td>\n",
       "      <td>True</td>\n",
       "      <td>False</td>\n",
       "      <td>True</td>\n",
       "      <td>3</td>\n",
       "    </tr>\n",
       "    <tr>\n",
       "      <th>3</th>\n",
       "      <td>5</td>\n",
       "      <td>7</td>\n",
       "      <td>bogo</td>\n",
       "      <td>5</td>\n",
       "      <td>True</td>\n",
       "      <td>True</td>\n",
       "      <td>False</td>\n",
       "      <td>True</td>\n",
       "      <td>4</td>\n",
       "    </tr>\n",
       "    <tr>\n",
       "      <th>4</th>\n",
       "      <td>20</td>\n",
       "      <td>10</td>\n",
       "      <td>discount</td>\n",
       "      <td>5</td>\n",
       "      <td>True</td>\n",
       "      <td>False</td>\n",
       "      <td>False</td>\n",
       "      <td>True</td>\n",
       "      <td>5</td>\n",
       "    </tr>\n",
       "  </tbody>\n",
       "</table>\n",
       "</div>"
      ],
      "text/plain": [
       "   difficulty  duration     offer_type  reward  is_email  is_mobile  \\\n",
       "0          10         7           bogo      10      True       True   \n",
       "1          10         5           bogo      10      True       True   \n",
       "2           0         4  informational       0      True       True   \n",
       "3           5         7           bogo       5      True       True   \n",
       "4          20        10       discount       5      True      False   \n",
       "\n",
       "   is_social  is_web  offer_id  \n",
       "0       True   False         1  \n",
       "1       True    True         2  \n",
       "2      False    True         3  \n",
       "3      False    True         4  \n",
       "4      False    True         5  "
      ]
     },
     "execution_count": 103,
     "metadata": {},
     "output_type": "execute_result"
    }
   ],
   "source": [
    "portfolio.head()"
   ]
  },
  {
   "cell_type": "code",
   "execution_count": 104,
   "metadata": {},
   "outputs": [
    {
     "data": {
      "text/html": [
       "<div>\n",
       "<style scoped>\n",
       "    .dataframe tbody tr th:only-of-type {\n",
       "        vertical-align: middle;\n",
       "    }\n",
       "\n",
       "    .dataframe tbody tr th {\n",
       "        vertical-align: top;\n",
       "    }\n",
       "\n",
       "    .dataframe thead th {\n",
       "        text-align: right;\n",
       "    }\n",
       "</style>\n",
       "<table border=\"1\" class=\"dataframe\">\n",
       "  <thead>\n",
       "    <tr style=\"text-align: right;\">\n",
       "      <th></th>\n",
       "      <th>age</th>\n",
       "      <th>became_member_on</th>\n",
       "      <th>gender</th>\n",
       "      <th>income</th>\n",
       "      <th>person_id</th>\n",
       "    </tr>\n",
       "  </thead>\n",
       "  <tbody>\n",
       "    <tr>\n",
       "      <th>0</th>\n",
       "      <td>118</td>\n",
       "      <td>20170212</td>\n",
       "      <td>None</td>\n",
       "      <td>NaN</td>\n",
       "      <td>1</td>\n",
       "    </tr>\n",
       "    <tr>\n",
       "      <th>1</th>\n",
       "      <td>55</td>\n",
       "      <td>20170715</td>\n",
       "      <td>F</td>\n",
       "      <td>112000.0</td>\n",
       "      <td>2</td>\n",
       "    </tr>\n",
       "    <tr>\n",
       "      <th>2</th>\n",
       "      <td>118</td>\n",
       "      <td>20180712</td>\n",
       "      <td>None</td>\n",
       "      <td>NaN</td>\n",
       "      <td>3</td>\n",
       "    </tr>\n",
       "    <tr>\n",
       "      <th>3</th>\n",
       "      <td>75</td>\n",
       "      <td>20170509</td>\n",
       "      <td>F</td>\n",
       "      <td>100000.0</td>\n",
       "      <td>4</td>\n",
       "    </tr>\n",
       "    <tr>\n",
       "      <th>4</th>\n",
       "      <td>118</td>\n",
       "      <td>20170804</td>\n",
       "      <td>None</td>\n",
       "      <td>NaN</td>\n",
       "      <td>5</td>\n",
       "    </tr>\n",
       "  </tbody>\n",
       "</table>\n",
       "</div>"
      ],
      "text/plain": [
       "   age  became_member_on gender    income  person_id\n",
       "0  118          20170212   None       NaN          1\n",
       "1   55          20170715      F  112000.0          2\n",
       "2  118          20180712   None       NaN          3\n",
       "3   75          20170509      F  100000.0          4\n",
       "4  118          20170804   None       NaN          5"
      ]
     },
     "execution_count": 104,
     "metadata": {},
     "output_type": "execute_result"
    }
   ],
   "source": [
    "profile.head()"
   ]
  },
  {
   "cell_type": "markdown",
   "metadata": {},
   "source": [
    "## 2. Handling the date\n",
    "We have to convert the date column became_member_on to in dicate the time the customer has been registered with the company. The reason is that when a customer stay longer, they will have more time and likely more transactions with the company. To see evaluate customer's peformance, we need to see their average spending per day, instead of total spending."
   ]
  },
  {
   "cell_type": "code",
   "execution_count": 105,
   "metadata": {},
   "outputs": [
    {
     "data": {
      "text/html": [
       "<div>\n",
       "<style scoped>\n",
       "    .dataframe tbody tr th:only-of-type {\n",
       "        vertical-align: middle;\n",
       "    }\n",
       "\n",
       "    .dataframe tbody tr th {\n",
       "        vertical-align: top;\n",
       "    }\n",
       "\n",
       "    .dataframe thead th {\n",
       "        text-align: right;\n",
       "    }\n",
       "</style>\n",
       "<table border=\"1\" class=\"dataframe\">\n",
       "  <thead>\n",
       "    <tr style=\"text-align: right;\">\n",
       "      <th></th>\n",
       "      <th>age</th>\n",
       "      <th>became_member_on</th>\n",
       "      <th>gender</th>\n",
       "      <th>income</th>\n",
       "      <th>person_id</th>\n",
       "      <th>current_date</th>\n",
       "      <th>member_period</th>\n",
       "    </tr>\n",
       "  </thead>\n",
       "  <tbody>\n",
       "    <tr>\n",
       "      <th>0</th>\n",
       "      <td>118</td>\n",
       "      <td>2017-02-12</td>\n",
       "      <td>None</td>\n",
       "      <td>NaN</td>\n",
       "      <td>1</td>\n",
       "      <td>2022-01-07 09:27:20.593344</td>\n",
       "      <td>1790</td>\n",
       "    </tr>\n",
       "    <tr>\n",
       "      <th>1</th>\n",
       "      <td>55</td>\n",
       "      <td>2017-07-15</td>\n",
       "      <td>F</td>\n",
       "      <td>112000.0</td>\n",
       "      <td>2</td>\n",
       "      <td>2022-01-07 09:27:20.593344</td>\n",
       "      <td>1637</td>\n",
       "    </tr>\n",
       "    <tr>\n",
       "      <th>2</th>\n",
       "      <td>118</td>\n",
       "      <td>2018-07-12</td>\n",
       "      <td>None</td>\n",
       "      <td>NaN</td>\n",
       "      <td>3</td>\n",
       "      <td>2022-01-07 09:27:20.593344</td>\n",
       "      <td>1275</td>\n",
       "    </tr>\n",
       "    <tr>\n",
       "      <th>3</th>\n",
       "      <td>75</td>\n",
       "      <td>2017-05-09</td>\n",
       "      <td>F</td>\n",
       "      <td>100000.0</td>\n",
       "      <td>4</td>\n",
       "      <td>2022-01-07 09:27:20.593344</td>\n",
       "      <td>1704</td>\n",
       "    </tr>\n",
       "    <tr>\n",
       "      <th>4</th>\n",
       "      <td>118</td>\n",
       "      <td>2017-08-04</td>\n",
       "      <td>None</td>\n",
       "      <td>NaN</td>\n",
       "      <td>5</td>\n",
       "      <td>2022-01-07 09:27:20.593344</td>\n",
       "      <td>1617</td>\n",
       "    </tr>\n",
       "  </tbody>\n",
       "</table>\n",
       "</div>"
      ],
      "text/plain": [
       "   age became_member_on gender    income  person_id  \\\n",
       "0  118       2017-02-12   None       NaN          1   \n",
       "1   55       2017-07-15      F  112000.0          2   \n",
       "2  118       2018-07-12   None       NaN          3   \n",
       "3   75       2017-05-09      F  100000.0          4   \n",
       "4  118       2017-08-04   None       NaN          5   \n",
       "\n",
       "                current_date  member_period  \n",
       "0 2022-01-07 09:27:20.593344           1790  \n",
       "1 2022-01-07 09:27:20.593344           1637  \n",
       "2 2022-01-07 09:27:20.593344           1275  \n",
       "3 2022-01-07 09:27:20.593344           1704  \n",
       "4 2022-01-07 09:27:20.593344           1617  "
      ]
     },
     "execution_count": 105,
     "metadata": {},
     "output_type": "execute_result"
    }
   ],
   "source": [
    "profile['became_member_on'] = pd.to_datetime(profile['became_member_on'],format='%Y%m%d')\n",
    "profile['current_date'] = pd.to_datetime('today')\n",
    "profile['member_period'] = (profile['current_date']-profile['became_member_on']).dt.days\n",
    "profile.head()"
   ]
  },
  {
   "cell_type": "markdown",
   "metadata": {},
   "source": [
    "## 3.Handling categorical group"
   ]
  },
  {
   "cell_type": "markdown",
   "metadata": {},
   "source": [
    "'gender' is a categorical group. In order to use it for further calculation, we will convert it into numeric values."
   ]
  },
  {
   "cell_type": "code",
   "execution_count": 106,
   "metadata": {},
   "outputs": [
    {
     "data": {
      "text/html": [
       "<div>\n",
       "<style scoped>\n",
       "    .dataframe tbody tr th:only-of-type {\n",
       "        vertical-align: middle;\n",
       "    }\n",
       "\n",
       "    .dataframe tbody tr th {\n",
       "        vertical-align: top;\n",
       "    }\n",
       "\n",
       "    .dataframe thead th {\n",
       "        text-align: right;\n",
       "    }\n",
       "</style>\n",
       "<table border=\"1\" class=\"dataframe\">\n",
       "  <thead>\n",
       "    <tr style=\"text-align: right;\">\n",
       "      <th></th>\n",
       "      <th>age</th>\n",
       "      <th>became_member_on</th>\n",
       "      <th>gender</th>\n",
       "      <th>income</th>\n",
       "      <th>person_id</th>\n",
       "      <th>current_date</th>\n",
       "      <th>member_period</th>\n",
       "      <th>gender_id</th>\n",
       "    </tr>\n",
       "  </thead>\n",
       "  <tbody>\n",
       "    <tr>\n",
       "      <th>0</th>\n",
       "      <td>118</td>\n",
       "      <td>2017-02-12</td>\n",
       "      <td>None</td>\n",
       "      <td>NaN</td>\n",
       "      <td>1</td>\n",
       "      <td>2022-01-07 09:27:20.593344</td>\n",
       "      <td>1790</td>\n",
       "      <td>1</td>\n",
       "    </tr>\n",
       "    <tr>\n",
       "      <th>1</th>\n",
       "      <td>55</td>\n",
       "      <td>2017-07-15</td>\n",
       "      <td>F</td>\n",
       "      <td>112000.0</td>\n",
       "      <td>2</td>\n",
       "      <td>2022-01-07 09:27:20.593344</td>\n",
       "      <td>1637</td>\n",
       "      <td>2</td>\n",
       "    </tr>\n",
       "    <tr>\n",
       "      <th>2</th>\n",
       "      <td>118</td>\n",
       "      <td>2018-07-12</td>\n",
       "      <td>None</td>\n",
       "      <td>NaN</td>\n",
       "      <td>3</td>\n",
       "      <td>2022-01-07 09:27:20.593344</td>\n",
       "      <td>1275</td>\n",
       "      <td>1</td>\n",
       "    </tr>\n",
       "    <tr>\n",
       "      <th>3</th>\n",
       "      <td>75</td>\n",
       "      <td>2017-05-09</td>\n",
       "      <td>F</td>\n",
       "      <td>100000.0</td>\n",
       "      <td>4</td>\n",
       "      <td>2022-01-07 09:27:20.593344</td>\n",
       "      <td>1704</td>\n",
       "      <td>2</td>\n",
       "    </tr>\n",
       "    <tr>\n",
       "      <th>4</th>\n",
       "      <td>118</td>\n",
       "      <td>2017-08-04</td>\n",
       "      <td>None</td>\n",
       "      <td>NaN</td>\n",
       "      <td>5</td>\n",
       "      <td>2022-01-07 09:27:20.593344</td>\n",
       "      <td>1617</td>\n",
       "      <td>1</td>\n",
       "    </tr>\n",
       "  </tbody>\n",
       "</table>\n",
       "</div>"
      ],
      "text/plain": [
       "   age became_member_on gender    income  person_id  \\\n",
       "0  118       2017-02-12   None       NaN          1   \n",
       "1   55       2017-07-15      F  112000.0          2   \n",
       "2  118       2018-07-12   None       NaN          3   \n",
       "3   75       2017-05-09      F  100000.0          4   \n",
       "4  118       2017-08-04   None       NaN          5   \n",
       "\n",
       "                current_date  member_period  gender_id  \n",
       "0 2022-01-07 09:27:20.593344           1790          1  \n",
       "1 2022-01-07 09:27:20.593344           1637          2  \n",
       "2 2022-01-07 09:27:20.593344           1275          1  \n",
       "3 2022-01-07 09:27:20.593344           1704          2  \n",
       "4 2022-01-07 09:27:20.593344           1617          1  "
      ]
     },
     "execution_count": 106,
     "metadata": {},
     "output_type": "execute_result"
    }
   ],
   "source": [
    "profile['gender_id'] = id_mapper(profile,'gender')\n",
    "profile.head()"
   ]
  },
  {
   "cell_type": "markdown",
   "metadata": {},
   "source": [
    "## 4.Handling N/A values"
   ]
  },
  {
   "cell_type": "code",
   "execution_count": 107,
   "metadata": {},
   "outputs": [
    {
     "data": {
      "text/plain": [
       "age                    0\n",
       "became_member_on       0\n",
       "gender              2175\n",
       "income              2175\n",
       "person_id              0\n",
       "current_date           0\n",
       "member_period          0\n",
       "gender_id              0\n",
       "dtype: int64"
      ]
     },
     "execution_count": 107,
     "metadata": {},
     "output_type": "execute_result"
    }
   ],
   "source": [
    "# Check dataframes for N/A values. Portfolio and Transcripts should not contain N/A as they were \n",
    "# exported from Starbucks' system. The only dataset that may contain N/A is profile\n",
    "profile.isnull().sum(axis = 0)"
   ]
  },
  {
   "cell_type": "code",
   "execution_count": 108,
   "metadata": {},
   "outputs": [
    {
     "data": {
      "text/plain": [
       "(17000, 8)"
      ]
     },
     "execution_count": 108,
     "metadata": {},
     "output_type": "execute_result"
    }
   ],
   "source": [
    "profile.shape"
   ]
  },
  {
   "cell_type": "markdown",
   "metadata": {},
   "source": [
    "People who do not reveal age will be encoded with value 118 in age column. We will check the number of missing value in 'age'."
   ]
  },
  {
   "cell_type": "code",
   "execution_count": 109,
   "metadata": {},
   "outputs": [
    {
     "data": {
      "text/plain": [
       "2175"
      ]
     },
     "execution_count": 109,
     "metadata": {},
     "output_type": "execute_result"
    }
   ],
   "source": [
    "profile[profile['age'] == 118].shape[0]"
   ]
  },
  {
   "cell_type": "markdown",
   "metadata": {},
   "source": [
    "There are 17000 people in 'profile' dataset and only 2175 of them contain N/A values. \n",
    "The number of N/A value in age, gender and income columns are equal. We will check if those came from the same set of people."
   ]
  },
  {
   "cell_type": "code",
   "execution_count": 110,
   "metadata": {},
   "outputs": [
    {
     "data": {
      "text/plain": [
       "2175"
      ]
     },
     "execution_count": 110,
     "metadata": {},
     "output_type": "execute_result"
    }
   ],
   "source": [
    "null_df = profile['gender'].isnull() & profile['income'].isnull() & (profile['age'] == 118)\n",
    "null_df.sum()"
   ]
  },
  {
   "cell_type": "markdown",
   "metadata": {},
   "source": [
    "So all people that have N/A in 'gender' have N/A in 'income' and 'age'. Those can be classified as a specific group who don't want to reveal their personal information. We can call them as 'high_secure' group and analyze their behavior separately. \n",
    "For now, we will split the 'profile' dataset into 'profile_low_secure' and 'profile_high_secure'"
   ]
  },
  {
   "cell_type": "code",
   "execution_count": 111,
   "metadata": {},
   "outputs": [
    {
     "data": {
      "image/png": "[encoded data removed]",
      "text/plain": [
       "<matplotlib.figure.Figure at 0x7f1b7da21908>"
      ]
     },
     "metadata": {},
     "output_type": "display_data"
    }
   ],
   "source": [
    "# We can see here the portion of the 2 groups\n",
    "security_portion = profile.groupby(profile['gender'].isnull()).size().values*100/profile['person_id'].count()\n",
    "plt.pie(security_portion,\n",
    "        labels=[f'Low Security {round(security_portion[0],2)}%',f'High Security {round(security_portion[1],2)}%'])\n",
    "plt.title(\"Customer by Security\")\n",
    "plt.show()"
   ]
  },
  {
   "cell_type": "code",
   "execution_count": 112,
   "metadata": {},
   "outputs": [],
   "source": [
    "profile_low_secure = profile[profile['gender'].isnull() == False]\n",
    "profile_high_secure = profile[profile['gender'].isnull()]\n",
    "profile_high_secure=profile_high_secure.drop(['gender','income'],axis=1)"
   ]
  },
  {
   "cell_type": "code",
   "execution_count": 113,
   "metadata": {},
   "outputs": [
    {
     "data": {
      "text/html": [
       "<div>\n",
       "<style scoped>\n",
       "    .dataframe tbody tr th:only-of-type {\n",
       "        vertical-align: middle;\n",
       "    }\n",
       "\n",
       "    .dataframe tbody tr th {\n",
       "        vertical-align: top;\n",
       "    }\n",
       "\n",
       "    .dataframe thead th {\n",
       "        text-align: right;\n",
       "    }\n",
       "</style>\n",
       "<table border=\"1\" class=\"dataframe\">\n",
       "  <thead>\n",
       "    <tr style=\"text-align: right;\">\n",
       "      <th></th>\n",
       "      <th>age</th>\n",
       "      <th>became_member_on</th>\n",
       "      <th>person_id</th>\n",
       "      <th>current_date</th>\n",
       "      <th>member_period</th>\n",
       "      <th>gender_id</th>\n",
       "    </tr>\n",
       "  </thead>\n",
       "  <tbody>\n",
       "    <tr>\n",
       "      <th>0</th>\n",
       "      <td>118</td>\n",
       "      <td>2017-02-12</td>\n",
       "      <td>1</td>\n",
       "      <td>2022-01-07 09:27:20.593344</td>\n",
       "      <td>1790</td>\n",
       "      <td>1</td>\n",
       "    </tr>\n",
       "    <tr>\n",
       "      <th>2</th>\n",
       "      <td>118</td>\n",
       "      <td>2018-07-12</td>\n",
       "      <td>3</td>\n",
       "      <td>2022-01-07 09:27:20.593344</td>\n",
       "      <td>1275</td>\n",
       "      <td>1</td>\n",
       "    </tr>\n",
       "    <tr>\n",
       "      <th>4</th>\n",
       "      <td>118</td>\n",
       "      <td>2017-08-04</td>\n",
       "      <td>5</td>\n",
       "      <td>2022-01-07 09:27:20.593344</td>\n",
       "      <td>1617</td>\n",
       "      <td>1</td>\n",
       "    </tr>\n",
       "    <tr>\n",
       "      <th>6</th>\n",
       "      <td>118</td>\n",
       "      <td>2017-09-25</td>\n",
       "      <td>7</td>\n",
       "      <td>2022-01-07 09:27:20.593344</td>\n",
       "      <td>1565</td>\n",
       "      <td>1</td>\n",
       "    </tr>\n",
       "    <tr>\n",
       "      <th>7</th>\n",
       "      <td>118</td>\n",
       "      <td>2017-10-02</td>\n",
       "      <td>8</td>\n",
       "      <td>2022-01-07 09:27:20.593344</td>\n",
       "      <td>1558</td>\n",
       "      <td>1</td>\n",
       "    </tr>\n",
       "  </tbody>\n",
       "</table>\n",
       "</div>"
      ],
      "text/plain": [
       "   age became_member_on  person_id               current_date  member_period  \\\n",
       "0  118       2017-02-12          1 2022-01-07 09:27:20.593344           1790   \n",
       "2  118       2018-07-12          3 2022-01-07 09:27:20.593344           1275   \n",
       "4  118       2017-08-04          5 2022-01-07 09:27:20.593344           1617   \n",
       "6  118       2017-09-25          7 2022-01-07 09:27:20.593344           1565   \n",
       "7  118       2017-10-02          8 2022-01-07 09:27:20.593344           1558   \n",
       "\n",
       "   gender_id  \n",
       "0          1  \n",
       "2          1  \n",
       "4          1  \n",
       "6          1  \n",
       "7          1  "
      ]
     },
     "execution_count": 113,
     "metadata": {},
     "output_type": "execute_result"
    }
   ],
   "source": [
    "profile_high_secure.head()"
   ]
  },
  {
   "cell_type": "code",
   "execution_count": 114,
   "metadata": {},
   "outputs": [
    {
     "data": {
      "text/html": [
       "<div>\n",
       "<style scoped>\n",
       "    .dataframe tbody tr th:only-of-type {\n",
       "        vertical-align: middle;\n",
       "    }\n",
       "\n",
       "    .dataframe tbody tr th {\n",
       "        vertical-align: top;\n",
       "    }\n",
       "\n",
       "    .dataframe thead th {\n",
       "        text-align: right;\n",
       "    }\n",
       "</style>\n",
       "<table border=\"1\" class=\"dataframe\">\n",
       "  <thead>\n",
       "    <tr style=\"text-align: right;\">\n",
       "      <th></th>\n",
       "      <th>age</th>\n",
       "      <th>became_member_on</th>\n",
       "      <th>gender</th>\n",
       "      <th>income</th>\n",
       "      <th>person_id</th>\n",
       "      <th>current_date</th>\n",
       "      <th>member_period</th>\n",
       "      <th>gender_id</th>\n",
       "    </tr>\n",
       "  </thead>\n",
       "  <tbody>\n",
       "    <tr>\n",
       "      <th>1</th>\n",
       "      <td>55</td>\n",
       "      <td>2017-07-15</td>\n",
       "      <td>F</td>\n",
       "      <td>112000.0</td>\n",
       "      <td>2</td>\n",
       "      <td>2022-01-07 09:27:20.593344</td>\n",
       "      <td>1637</td>\n",
       "      <td>2</td>\n",
       "    </tr>\n",
       "    <tr>\n",
       "      <th>3</th>\n",
       "      <td>75</td>\n",
       "      <td>2017-05-09</td>\n",
       "      <td>F</td>\n",
       "      <td>100000.0</td>\n",
       "      <td>4</td>\n",
       "      <td>2022-01-07 09:27:20.593344</td>\n",
       "      <td>1704</td>\n",
       "      <td>2</td>\n",
       "    </tr>\n",
       "    <tr>\n",
       "      <th>5</th>\n",
       "      <td>68</td>\n",
       "      <td>2018-04-26</td>\n",
       "      <td>M</td>\n",
       "      <td>70000.0</td>\n",
       "      <td>6</td>\n",
       "      <td>2022-01-07 09:27:20.593344</td>\n",
       "      <td>1352</td>\n",
       "      <td>3</td>\n",
       "    </tr>\n",
       "    <tr>\n",
       "      <th>8</th>\n",
       "      <td>65</td>\n",
       "      <td>2018-02-09</td>\n",
       "      <td>M</td>\n",
       "      <td>53000.0</td>\n",
       "      <td>9</td>\n",
       "      <td>2022-01-07 09:27:20.593344</td>\n",
       "      <td>1428</td>\n",
       "      <td>3</td>\n",
       "    </tr>\n",
       "    <tr>\n",
       "      <th>12</th>\n",
       "      <td>58</td>\n",
       "      <td>2017-11-11</td>\n",
       "      <td>M</td>\n",
       "      <td>51000.0</td>\n",
       "      <td>13</td>\n",
       "      <td>2022-01-07 09:27:20.593344</td>\n",
       "      <td>1518</td>\n",
       "      <td>3</td>\n",
       "    </tr>\n",
       "  </tbody>\n",
       "</table>\n",
       "</div>"
      ],
      "text/plain": [
       "    age became_member_on gender    income  person_id  \\\n",
       "1    55       2017-07-15      F  112000.0          2   \n",
       "3    75       2017-05-09      F  100000.0          4   \n",
       "5    68       2018-04-26      M   70000.0          6   \n",
       "8    65       2018-02-09      M   53000.0          9   \n",
       "12   58       2017-11-11      M   51000.0         13   \n",
       "\n",
       "                 current_date  member_period  gender_id  \n",
       "1  2022-01-07 09:27:20.593344           1637          2  \n",
       "3  2022-01-07 09:27:20.593344           1704          2  \n",
       "5  2022-01-07 09:27:20.593344           1352          3  \n",
       "8  2022-01-07 09:27:20.593344           1428          3  \n",
       "12 2022-01-07 09:27:20.593344           1518          3  "
      ]
     },
     "execution_count": 114,
     "metadata": {},
     "output_type": "execute_result"
    }
   ],
   "source": [
    "profile_low_secure.head()"
   ]
  },
  {
   "cell_type": "markdown",
   "metadata": {},
   "source": [
    "# Business Problems"
   ]
  },
  {
   "cell_type": "markdown",
   "metadata": {},
   "source": [
    "### Now that we've had a first look at the cleaned data, we can start to think about the business issues and the questions that we will be able to find answers from the dataset."
   ]
  },
  {
   "cell_type": "markdown",
   "metadata": {},
   "source": [
    "### 1. Understand the high security group"
   ]
  },
  {
   "cell_type": "markdown",
   "metadata": {},
   "source": [
    "There are a portion of customers that have high sense of security and do not want to reveal personal information (gender, income, age). We want to know if there's any particular behavior from this group. This group accounts for 12,79% of the total customers so understand their behavior may provide more insights to sales and marketing strategies.<br>\n",
    "To compare the differencies between 2 groups and define statistical significances, T-test is a reliable method and we will apply it in most of the analysis, together with descriptive statistics methodology."
   ]
  },
  {
   "cell_type": "markdown",
   "metadata": {},
   "source": [
    "The first index we want to focus on is the revenue - transaction amount.<br>\n",
    "To get the average revenue of the high security group, we will have to pivot the transaction_event data by person_id to get the volume of each person and then map to the profile_high_secure dataframe."
   ]
  },
  {
   "cell_type": "code",
   "execution_count": 115,
   "metadata": {},
   "outputs": [
    {
     "data": {
      "text/html": [
       "<div>\n",
       "<style scoped>\n",
       "    .dataframe tbody tr th:only-of-type {\n",
       "        vertical-align: middle;\n",
       "    }\n",
       "\n",
       "    .dataframe tbody tr th {\n",
       "        vertical-align: top;\n",
       "    }\n",
       "\n",
       "    .dataframe thead th {\n",
       "        text-align: right;\n",
       "    }\n",
       "</style>\n",
       "<table border=\"1\" class=\"dataframe\">\n",
       "  <thead>\n",
       "    <tr style=\"text-align: right;\">\n",
       "      <th></th>\n",
       "      <th>sum</th>\n",
       "      <th>count</th>\n",
       "    </tr>\n",
       "    <tr>\n",
       "      <th>person_id</th>\n",
       "      <th></th>\n",
       "      <th></th>\n",
       "    </tr>\n",
       "  </thead>\n",
       "  <tbody>\n",
       "    <tr>\n",
       "      <th>1</th>\n",
       "      <td>20.40</td>\n",
       "      <td>9</td>\n",
       "    </tr>\n",
       "    <tr>\n",
       "      <th>2</th>\n",
       "      <td>77.01</td>\n",
       "      <td>3</td>\n",
       "    </tr>\n",
       "    <tr>\n",
       "      <th>3</th>\n",
       "      <td>14.30</td>\n",
       "      <td>6</td>\n",
       "    </tr>\n",
       "    <tr>\n",
       "      <th>4</th>\n",
       "      <td>159.27</td>\n",
       "      <td>7</td>\n",
       "    </tr>\n",
       "    <tr>\n",
       "      <th>5</th>\n",
       "      <td>4.65</td>\n",
       "      <td>3</td>\n",
       "    </tr>\n",
       "  </tbody>\n",
       "</table>\n",
       "</div>"
      ],
      "text/plain": [
       "              sum  count\n",
       "person_id               \n",
       "1           20.40      9\n",
       "2           77.01      3\n",
       "3           14.30      6\n",
       "4          159.27      7\n",
       "5            4.65      3"
      ]
     },
     "execution_count": 115,
     "metadata": {},
     "output_type": "execute_result"
    }
   ],
   "source": [
    "# Get the volume by customer data\n",
    "volume_df = transaction_event.groupby('person_id').agg({'amount':['sum', 'count']})\n",
    "volume_df.columns = volume_df.columns.droplevel(level = 0)\n",
    "#volume_df = volume_df.reset_index()\n",
    "volume_df.head()"
   ]
  },
  {
   "cell_type": "code",
   "execution_count": 116,
   "metadata": {},
   "outputs": [
    {
     "data": {
      "text/html": [
       "<div>\n",
       "<style scoped>\n",
       "    .dataframe tbody tr th:only-of-type {\n",
       "        vertical-align: middle;\n",
       "    }\n",
       "\n",
       "    .dataframe tbody tr th {\n",
       "        vertical-align: top;\n",
       "    }\n",
       "\n",
       "    .dataframe thead th {\n",
       "        text-align: right;\n",
       "    }\n",
       "</style>\n",
       "<table border=\"1\" class=\"dataframe\">\n",
       "  <thead>\n",
       "    <tr style=\"text-align: right;\">\n",
       "      <th></th>\n",
       "      <th>age</th>\n",
       "      <th>became_member_on</th>\n",
       "      <th>person_id</th>\n",
       "      <th>current_date</th>\n",
       "      <th>member_period</th>\n",
       "      <th>gender_id</th>\n",
       "      <th>sum</th>\n",
       "      <th>count</th>\n",
       "      <th>daily_sum</th>\n",
       "      <th>daily_count</th>\n",
       "    </tr>\n",
       "  </thead>\n",
       "  <tbody>\n",
       "    <tr>\n",
       "      <th>0</th>\n",
       "      <td>118</td>\n",
       "      <td>2017-02-12</td>\n",
       "      <td>1</td>\n",
       "      <td>2022-01-07 09:27:20.593344</td>\n",
       "      <td>1790</td>\n",
       "      <td>1</td>\n",
       "      <td>20.40</td>\n",
       "      <td>9.0</td>\n",
       "      <td>0.011397</td>\n",
       "      <td>0.005028</td>\n",
       "    </tr>\n",
       "    <tr>\n",
       "      <th>2</th>\n",
       "      <td>118</td>\n",
       "      <td>2018-07-12</td>\n",
       "      <td>3</td>\n",
       "      <td>2022-01-07 09:27:20.593344</td>\n",
       "      <td>1275</td>\n",
       "      <td>1</td>\n",
       "      <td>14.30</td>\n",
       "      <td>6.0</td>\n",
       "      <td>0.011216</td>\n",
       "      <td>0.004706</td>\n",
       "    </tr>\n",
       "    <tr>\n",
       "      <th>4</th>\n",
       "      <td>118</td>\n",
       "      <td>2017-08-04</td>\n",
       "      <td>5</td>\n",
       "      <td>2022-01-07 09:27:20.593344</td>\n",
       "      <td>1617</td>\n",
       "      <td>1</td>\n",
       "      <td>4.65</td>\n",
       "      <td>3.0</td>\n",
       "      <td>0.002876</td>\n",
       "      <td>0.001855</td>\n",
       "    </tr>\n",
       "    <tr>\n",
       "      <th>6</th>\n",
       "      <td>118</td>\n",
       "      <td>2017-09-25</td>\n",
       "      <td>7</td>\n",
       "      <td>2022-01-07 09:27:20.593344</td>\n",
       "      <td>1565</td>\n",
       "      <td>1</td>\n",
       "      <td>0.00</td>\n",
       "      <td>0.0</td>\n",
       "      <td>0.000000</td>\n",
       "      <td>0.000000</td>\n",
       "    </tr>\n",
       "    <tr>\n",
       "      <th>7</th>\n",
       "      <td>118</td>\n",
       "      <td>2017-10-02</td>\n",
       "      <td>8</td>\n",
       "      <td>2022-01-07 09:27:20.593344</td>\n",
       "      <td>1558</td>\n",
       "      <td>1</td>\n",
       "      <td>0.24</td>\n",
       "      <td>2.0</td>\n",
       "      <td>0.000154</td>\n",
       "      <td>0.001284</td>\n",
       "    </tr>\n",
       "  </tbody>\n",
       "</table>\n",
       "</div>"
      ],
      "text/plain": [
       "   age became_member_on  person_id               current_date  member_period  \\\n",
       "0  118       2017-02-12          1 2022-01-07 09:27:20.593344           1790   \n",
       "2  118       2018-07-12          3 2022-01-07 09:27:20.593344           1275   \n",
       "4  118       2017-08-04          5 2022-01-07 09:27:20.593344           1617   \n",
       "6  118       2017-09-25          7 2022-01-07 09:27:20.593344           1565   \n",
       "7  118       2017-10-02          8 2022-01-07 09:27:20.593344           1558   \n",
       "\n",
       "   gender_id    sum  count  daily_sum  daily_count  \n",
       "0          1  20.40    9.0   0.011397     0.005028  \n",
       "2          1  14.30    6.0   0.011216     0.004706  \n",
       "4          1   4.65    3.0   0.002876     0.001855  \n",
       "6          1   0.00    0.0   0.000000     0.000000  \n",
       "7          1   0.24    2.0   0.000154     0.001284  "
      ]
     },
     "execution_count": 116,
     "metadata": {},
     "output_type": "execute_result"
    }
   ],
   "source": [
    "# Map the volume_df to profile_high_secure and get the average volume\n",
    "high_secure_volume = profile_high_secure.join(volume_df, on='person_id')\n",
    "# N/A volume indicate that there's no transaction with a customer so we can replace them with 0\n",
    "high_secure_volume = high_secure_volume.fillna(0)\n",
    "# Get the volume per day\n",
    "high_secure_volume['daily_sum']=high_secure_volume['sum']/high_secure_volume['member_period']\n",
    "high_secure_volume['daily_count']=high_secure_volume['count']/high_secure_volume['member_period']\n",
    "high_secure_volume.head()"
   ]
  },
  {
   "cell_type": "code",
   "execution_count": 117,
   "metadata": {},
   "outputs": [
    {
     "data": {
      "text/html": [
       "<div>\n",
       "<style scoped>\n",
       "    .dataframe tbody tr th:only-of-type {\n",
       "        vertical-align: middle;\n",
       "    }\n",
       "\n",
       "    .dataframe tbody tr th {\n",
       "        vertical-align: top;\n",
       "    }\n",
       "\n",
       "    .dataframe thead th {\n",
       "        text-align: right;\n",
       "    }\n",
       "</style>\n",
       "<table border=\"1\" class=\"dataframe\">\n",
       "  <thead>\n",
       "    <tr style=\"text-align: right;\">\n",
       "      <th></th>\n",
       "      <th>member_period</th>\n",
       "      <th>sum</th>\n",
       "      <th>count</th>\n",
       "      <th>daily_sum</th>\n",
       "      <th>daily_count</th>\n",
       "    </tr>\n",
       "  </thead>\n",
       "  <tbody>\n",
       "    <tr>\n",
       "      <th>count</th>\n",
       "      <td>2175.000000</td>\n",
       "      <td>2175.000000</td>\n",
       "      <td>2175.000000</td>\n",
       "      <td>2175.000000</td>\n",
       "      <td>2175.000000</td>\n",
       "    </tr>\n",
       "    <tr>\n",
       "      <th>mean</th>\n",
       "      <td>1744.171034</td>\n",
       "      <td>18.625090</td>\n",
       "      <td>6.894713</td>\n",
       "      <td>0.010491</td>\n",
       "      <td>0.003902</td>\n",
       "    </tr>\n",
       "    <tr>\n",
       "      <th>std</th>\n",
       "      <td>350.201317</td>\n",
       "      <td>19.034171</td>\n",
       "      <td>4.432510</td>\n",
       "      <td>0.010531</td>\n",
       "      <td>0.002430</td>\n",
       "    </tr>\n",
       "    <tr>\n",
       "      <th>min</th>\n",
       "      <td>1261.000000</td>\n",
       "      <td>0.000000</td>\n",
       "      <td>0.000000</td>\n",
       "      <td>0.000000</td>\n",
       "      <td>0.000000</td>\n",
       "    </tr>\n",
       "    <tr>\n",
       "      <th>25%</th>\n",
       "      <td>1473.000000</td>\n",
       "      <td>7.030000</td>\n",
       "      <td>4.000000</td>\n",
       "      <td>0.004281</td>\n",
       "      <td>0.002178</td>\n",
       "    </tr>\n",
       "    <tr>\n",
       "      <th>50%</th>\n",
       "      <td>1621.000000</td>\n",
       "      <td>14.950000</td>\n",
       "      <td>6.000000</td>\n",
       "      <td>0.008369</td>\n",
       "      <td>0.003493</td>\n",
       "    </tr>\n",
       "    <tr>\n",
       "      <th>75%</th>\n",
       "      <td>2012.500000</td>\n",
       "      <td>24.050000</td>\n",
       "      <td>10.000000</td>\n",
       "      <td>0.013290</td>\n",
       "      <td>0.005300</td>\n",
       "    </tr>\n",
       "    <tr>\n",
       "      <th>max</th>\n",
       "      <td>3080.000000</td>\n",
       "      <td>165.680000</td>\n",
       "      <td>25.000000</td>\n",
       "      <td>0.108703</td>\n",
       "      <td>0.015509</td>\n",
       "    </tr>\n",
       "  </tbody>\n",
       "</table>\n",
       "</div>"
      ],
      "text/plain": [
       "       member_period          sum        count    daily_sum  daily_count\n",
       "count    2175.000000  2175.000000  2175.000000  2175.000000  2175.000000\n",
       "mean     1744.171034    18.625090     6.894713     0.010491     0.003902\n",
       "std       350.201317    19.034171     4.432510     0.010531     0.002430\n",
       "min      1261.000000     0.000000     0.000000     0.000000     0.000000\n",
       "25%      1473.000000     7.030000     4.000000     0.004281     0.002178\n",
       "50%      1621.000000    14.950000     6.000000     0.008369     0.003493\n",
       "75%      2012.500000    24.050000    10.000000     0.013290     0.005300\n",
       "max      3080.000000   165.680000    25.000000     0.108703     0.015509"
      ]
     },
     "execution_count": 117,
     "metadata": {},
     "output_type": "execute_result"
    }
   ],
   "source": [
    "# Now we look at the statistics of the high security group\n",
    "high_secure_volume[['member_period','sum','count','daily_sum','daily_count']].describe()"
   ]
  },
  {
   "cell_type": "markdown",
   "metadata": {},
   "source": [
    "As explained above, instead of using the average sum and count volume to evaluate customer performance, we will use daily_sum and daily_count because the performance is expected to increase with customer seniority.<br>\n",
    "On average, each member of this group performed 0.004 transaction per day and the average amount they spent was 0.0105 per day. \n",
    "Let's see if it's different from the low secure group."
   ]
  },
  {
   "cell_type": "code",
   "execution_count": 118,
   "metadata": {},
   "outputs": [
    {
     "data": {
      "text/html": [
       "<div>\n",
       "<style scoped>\n",
       "    .dataframe tbody tr th:only-of-type {\n",
       "        vertical-align: middle;\n",
       "    }\n",
       "\n",
       "    .dataframe tbody tr th {\n",
       "        vertical-align: top;\n",
       "    }\n",
       "\n",
       "    .dataframe thead th {\n",
       "        text-align: right;\n",
       "    }\n",
       "</style>\n",
       "<table border=\"1\" class=\"dataframe\">\n",
       "  <thead>\n",
       "    <tr style=\"text-align: right;\">\n",
       "      <th></th>\n",
       "      <th>member_period</th>\n",
       "      <th>sum</th>\n",
       "      <th>count</th>\n",
       "      <th>daily_sum</th>\n",
       "      <th>daily_count</th>\n",
       "    </tr>\n",
       "  </thead>\n",
       "  <tbody>\n",
       "    <tr>\n",
       "      <th>count</th>\n",
       "      <td>14825.000000</td>\n",
       "      <td>14825.000000</td>\n",
       "      <td>14825.000000</td>\n",
       "      <td>14825.000000</td>\n",
       "      <td>14825.000000</td>\n",
       "    </tr>\n",
       "    <tr>\n",
       "      <th>mean</th>\n",
       "      <td>1783.478988</td>\n",
       "      <td>117.028155</td>\n",
       "      <td>8.361349</td>\n",
       "      <td>0.065320</td>\n",
       "      <td>0.004638</td>\n",
       "    </tr>\n",
       "    <tr>\n",
       "      <th>std</th>\n",
       "      <td>419.205158</td>\n",
       "      <td>129.965016</td>\n",
       "      <td>5.182667</td>\n",
       "      <td>0.073449</td>\n",
       "      <td>0.002670</td>\n",
       "    </tr>\n",
       "    <tr>\n",
       "      <th>min</th>\n",
       "      <td>1261.000000</td>\n",
       "      <td>0.000000</td>\n",
       "      <td>0.000000</td>\n",
       "      <td>0.000000</td>\n",
       "      <td>0.000000</td>\n",
       "    </tr>\n",
       "    <tr>\n",
       "      <th>25%</th>\n",
       "      <td>1469.000000</td>\n",
       "      <td>31.450000</td>\n",
       "      <td>4.000000</td>\n",
       "      <td>0.017909</td>\n",
       "      <td>0.002729</td>\n",
       "    </tr>\n",
       "    <tr>\n",
       "      <th>50%</th>\n",
       "      <td>1619.000000</td>\n",
       "      <td>87.040000</td>\n",
       "      <td>7.000000</td>\n",
       "      <td>0.049879</td>\n",
       "      <td>0.004199</td>\n",
       "    </tr>\n",
       "    <tr>\n",
       "      <th>75%</th>\n",
       "      <td>2058.000000</td>\n",
       "      <td>160.900000</td>\n",
       "      <td>11.000000</td>\n",
       "      <td>0.088552</td>\n",
       "      <td>0.006158</td>\n",
       "    </tr>\n",
       "    <tr>\n",
       "      <th>max</th>\n",
       "      <td>3084.000000</td>\n",
       "      <td>1608.690000</td>\n",
       "      <td>36.000000</td>\n",
       "      <td>1.052126</td>\n",
       "      <td>0.021873</td>\n",
       "    </tr>\n",
       "  </tbody>\n",
       "</table>\n",
       "</div>"
      ],
      "text/plain": [
       "       member_period           sum         count     daily_sum   daily_count\n",
       "count   14825.000000  14825.000000  14825.000000  14825.000000  14825.000000\n",
       "mean     1783.478988    117.028155      8.361349      0.065320      0.004638\n",
       "std       419.205158    129.965016      5.182667      0.073449      0.002670\n",
       "min      1261.000000      0.000000      0.000000      0.000000      0.000000\n",
       "25%      1469.000000     31.450000      4.000000      0.017909      0.002729\n",
       "50%      1619.000000     87.040000      7.000000      0.049879      0.004199\n",
       "75%      2058.000000    160.900000     11.000000      0.088552      0.006158\n",
       "max      3084.000000   1608.690000     36.000000      1.052126      0.021873"
      ]
     },
     "execution_count": 118,
     "metadata": {},
     "output_type": "execute_result"
    }
   ],
   "source": [
    "# Map the volume_df to profile_low_secure and get the average volume\n",
    "low_secure_volume = profile_low_secure.join(volume_df, on='person_id')\n",
    "# N/A volume indicate that there's no transaction with a customer so we can replace them with 0\n",
    "low_secure_volume = low_secure_volume.fillna(0)\n",
    "# Get the volume per day\n",
    "low_secure_volume['daily_sum']=low_secure_volume['sum']/low_secure_volume['member_period']\n",
    "low_secure_volume['daily_count']=low_secure_volume['count']/low_secure_volume['member_period']\n",
    "low_secure_volume[['member_period','sum','count','daily_sum','daily_count']].describe()"
   ]
  },
  {
   "cell_type": "code",
   "execution_count": 119,
   "metadata": {},
   "outputs": [
    {
     "data": {
      "text/plain": [
       "Text(0,0.5,'Density')"
      ]
     },
     "execution_count": 119,
     "metadata": {},
     "output_type": "execute_result"
    },
    {
     "data": {
      "image/png": "[encoded data removed]",
      "text/plain": [
       "<matplotlib.figure.Figure at 0x7f1b7d819f28>"
      ]
     },
     "metadata": {
      "needs_background": "light"
     },
     "output_type": "display_data"
    }
   ],
   "source": [
    "# Plot the daily spending distribution to see the difference\n",
    "sns.distplot(high_secure_volume['daily_sum'], hist = False, kde = True,\n",
    "             kde_kws = {'linewidth': 3},\n",
    "             label = 'High security')\n",
    "sns.distplot(low_secure_volume['daily_sum'], hist = False, kde = True,\n",
    "             kde_kws = {'linewidth': 3},\n",
    "             label = 'Low security')\n",
    "plt.legend()\n",
    "plt.title('Daily Spending with Security Groups')\n",
    "plt.xlabel('Daily Spending')\n",
    "plt.ylabel('Density')"
   ]
  },
  {
   "cell_type": "markdown",
   "metadata": {},
   "source": [
    "While the majority of High security data distributed near 0.0, the distribution of Low security group spread wider. We observe noticeable differences in both skewness and kurtosis of 2 datasets."
   ]
  },
  {
   "cell_type": "code",
   "execution_count": 120,
   "metadata": {},
   "outputs": [
    {
     "data": {
      "text/plain": [
       "Text(0,0.5,'Density')"
      ]
     },
     "execution_count": 120,
     "metadata": {},
     "output_type": "execute_result"
    },
    {
     "data": {
      "image/png": "[encoded data removed]",
      "text/plain": [
       "<matplotlib.figure.Figure at 0x7f1b7d8407f0>"
      ]
     },
     "metadata": {
      "needs_background": "light"
     },
     "output_type": "display_data"
    }
   ],
   "source": [
    "# Plot the daily number of purchase distribution for comparison\n",
    "sns.distplot(high_secure_volume['daily_count'], hist = False, kde = True,\n",
    "             kde_kws = {'linewidth': 3},\n",
    "             label = 'High security')\n",
    "sns.distplot(low_secure_volume['daily_count'], hist = False, kde = True,\n",
    "             kde_kws = {'linewidth': 3},\n",
    "             label = 'Low security')\n",
    "plt.legend()\n",
    "plt.title('Daily Transaction with Security Groups')\n",
    "plt.xlabel('Daily Number of Purchase')\n",
    "plt.ylabel('Density')"
   ]
  },
  {
   "cell_type": "markdown",
   "metadata": {},
   "source": [
    "We can see that the difference in daily number of transaction distribution is not as intense as for daily spending.<br> \n",
    "Figures show that the amount of average daily spending is almost 6 times higher in low security group. Given that the seniority of 2 groups are the same (around 1700 days average), we can say that there is a different in spending between 2 groups and the spending gap here is huge.<br>"
   ]
  },
  {
   "cell_type": "markdown",
   "metadata": {},
   "source": [
    "Let's take this one step further by applying T-test onto 2 datasets and see if there's a statistical difference between the means. This will allow us to be more confident in saying that security is an impactful feature."
   ]
  },
  {
   "cell_type": "code",
   "execution_count": 121,
   "metadata": {},
   "outputs": [
    {
     "name": "stdout",
     "output_type": "stream",
     "text": [
      "T-test result on daily spending amount: Ttest_indResult(statistic=-34.760527595873228, pvalue=8.007394728044332e-256)\n",
      "T-test result on daily spending number: Ttest_indResult(statistic=-12.143809950497545, pvalue=8.5410268519642372e-34)\n"
     ]
    }
   ],
   "source": [
    "from scipy.stats import ttest_ind\n",
    "ttest_sum=ttest_ind(high_secure_volume['daily_sum'], low_secure_volume['daily_sum'])\n",
    "ttest_count=ttest_ind(high_secure_volume['daily_count'], low_secure_volume['daily_count'])\n",
    "print(f'T-test result on daily spending amount: {ttest_sum}')\n",
    "print(f'T-test result on daily spending number: {ttest_count}')"
   ]
  },
  {
   "cell_type": "markdown",
   "metadata": {},
   "source": [
    "Both T-tests on daily spending amount and daily number of purchase show very small p-value. This indicate that the differences in means of the 2 group are statistically significant and we can say that Security is an important feature that has impact on volume.<br>\n",
    "From business perspective, 12,8% of Starbucks customer comes from the high security group and if we're able to increase their spending to meet the level of the low security group (6 times), it will be a big increase in revenue. And of course one of the strategies to improve customer engagement is through marketing, more specifically: discount strategy.<br>\n",
    "The question is: how do these customers response to the current discount program? Does it work better on the other group than on this one?"
   ]
  },
  {
   "cell_type": "markdown",
   "metadata": {},
   "source": [
    "## 2.Security and offer responsiveness."
   ]
  },
  {
   "cell_type": "markdown",
   "metadata": {},
   "source": [
    "Before doing any futher analysis with offers, we need to get the number of offer received, viewed and completed for each person and map them into profile data."
   ]
  },
  {
   "cell_type": "code",
   "execution_count": 122,
   "metadata": {},
   "outputs": [],
   "source": [
    "# Get the offer received by customer data\n",
    "offer_received_df = offer_received_event[['person_id','offer_id']].groupby('person_id').count()\n",
    "offer_received_df = offer_received_df.reset_index()\n",
    "offer_received_df.rename(columns={'offer_id': 'offer_received'}, inplace=True)\n",
    "# Get the offer viewed by customer data\n",
    "offer_viewed_df = offer_viewed_event[['person_id','offer_id']].groupby('person_id').count()\n",
    "offer_viewed_df = offer_viewed_df.reset_index()\n",
    "offer_viewed_df.rename(columns={'offer_id': 'offer_viewed'}, inplace=True)\n",
    "# Get the offer completed by customer data\n",
    "offer_completed_df = offer_completed_event[['person_id','offer_id']].groupby('person_id').count()\n",
    "offer_completed_df = offer_completed_df.reset_index()\n",
    "offer_completed_df.rename(columns={'offer_id': 'offer_completed'}, inplace=True)"
   ]
  },
  {
   "cell_type": "code",
   "execution_count": 123,
   "metadata": {},
   "outputs": [
    {
     "data": {
      "text/html": [
       "<div>\n",
       "<style scoped>\n",
       "    .dataframe tbody tr th:only-of-type {\n",
       "        vertical-align: middle;\n",
       "    }\n",
       "\n",
       "    .dataframe tbody tr th {\n",
       "        vertical-align: top;\n",
       "    }\n",
       "\n",
       "    .dataframe thead th {\n",
       "        text-align: right;\n",
       "    }\n",
       "</style>\n",
       "<table border=\"1\" class=\"dataframe\">\n",
       "  <thead>\n",
       "    <tr style=\"text-align: right;\">\n",
       "      <th></th>\n",
       "      <th>age</th>\n",
       "      <th>became_member_on</th>\n",
       "      <th>gender</th>\n",
       "      <th>income</th>\n",
       "      <th>person_id</th>\n",
       "      <th>current_date</th>\n",
       "      <th>member_period</th>\n",
       "      <th>gender_id</th>\n",
       "      <th>sum</th>\n",
       "      <th>count</th>\n",
       "      <th>daily_sum</th>\n",
       "      <th>daily_count</th>\n",
       "      <th>offer_received</th>\n",
       "      <th>offer_viewed</th>\n",
       "      <th>offer_completed</th>\n",
       "    </tr>\n",
       "  </thead>\n",
       "  <tbody>\n",
       "    <tr>\n",
       "      <th>0</th>\n",
       "      <td>55</td>\n",
       "      <td>2017-07-15</td>\n",
       "      <td>F</td>\n",
       "      <td>112000.0</td>\n",
       "      <td>2</td>\n",
       "      <td>2022-01-07 09:27:20.593344</td>\n",
       "      <td>1637</td>\n",
       "      <td>2</td>\n",
       "      <td>77.01</td>\n",
       "      <td>3.0</td>\n",
       "      <td>0.047043</td>\n",
       "      <td>0.001833</td>\n",
       "      <td>2.0</td>\n",
       "      <td>0.0</td>\n",
       "      <td>1.0</td>\n",
       "    </tr>\n",
       "    <tr>\n",
       "      <th>1</th>\n",
       "      <td>75</td>\n",
       "      <td>2017-05-09</td>\n",
       "      <td>F</td>\n",
       "      <td>100000.0</td>\n",
       "      <td>4</td>\n",
       "      <td>2022-01-07 09:27:20.593344</td>\n",
       "      <td>1704</td>\n",
       "      <td>2</td>\n",
       "      <td>159.27</td>\n",
       "      <td>7.0</td>\n",
       "      <td>0.093468</td>\n",
       "      <td>0.004108</td>\n",
       "      <td>4.0</td>\n",
       "      <td>4.0</td>\n",
       "      <td>3.0</td>\n",
       "    </tr>\n",
       "    <tr>\n",
       "      <th>2</th>\n",
       "      <td>68</td>\n",
       "      <td>2018-04-26</td>\n",
       "      <td>M</td>\n",
       "      <td>70000.0</td>\n",
       "      <td>6</td>\n",
       "      <td>2022-01-07 09:27:20.593344</td>\n",
       "      <td>1352</td>\n",
       "      <td>3</td>\n",
       "      <td>57.73</td>\n",
       "      <td>3.0</td>\n",
       "      <td>0.042700</td>\n",
       "      <td>0.002219</td>\n",
       "      <td>4.0</td>\n",
       "      <td>3.0</td>\n",
       "      <td>2.0</td>\n",
       "    </tr>\n",
       "    <tr>\n",
       "      <th>3</th>\n",
       "      <td>65</td>\n",
       "      <td>2018-02-09</td>\n",
       "      <td>M</td>\n",
       "      <td>53000.0</td>\n",
       "      <td>9</td>\n",
       "      <td>2022-01-07 09:27:20.593344</td>\n",
       "      <td>1428</td>\n",
       "      <td>3</td>\n",
       "      <td>36.43</td>\n",
       "      <td>3.0</td>\n",
       "      <td>0.025511</td>\n",
       "      <td>0.002101</td>\n",
       "      <td>6.0</td>\n",
       "      <td>6.0</td>\n",
       "      <td>5.0</td>\n",
       "    </tr>\n",
       "    <tr>\n",
       "      <th>4</th>\n",
       "      <td>58</td>\n",
       "      <td>2017-11-11</td>\n",
       "      <td>M</td>\n",
       "      <td>51000.0</td>\n",
       "      <td>13</td>\n",
       "      <td>2022-01-07 09:27:20.593344</td>\n",
       "      <td>1518</td>\n",
       "      <td>3</td>\n",
       "      <td>15.62</td>\n",
       "      <td>4.0</td>\n",
       "      <td>0.010290</td>\n",
       "      <td>0.002635</td>\n",
       "      <td>3.0</td>\n",
       "      <td>2.0</td>\n",
       "      <td>1.0</td>\n",
       "    </tr>\n",
       "  </tbody>\n",
       "</table>\n",
       "</div>"
      ],
      "text/plain": [
       "   age became_member_on gender    income  person_id  \\\n",
       "0   55       2017-07-15      F  112000.0          2   \n",
       "1   75       2017-05-09      F  100000.0          4   \n",
       "2   68       2018-04-26      M   70000.0          6   \n",
       "3   65       2018-02-09      M   53000.0          9   \n",
       "4   58       2017-11-11      M   51000.0         13   \n",
       "\n",
       "                current_date  member_period  gender_id     sum  count  \\\n",
       "0 2022-01-07 09:27:20.593344           1637          2   77.01    3.0   \n",
       "1 2022-01-07 09:27:20.593344           1704          2  159.27    7.0   \n",
       "2 2022-01-07 09:27:20.593344           1352          3   57.73    3.0   \n",
       "3 2022-01-07 09:27:20.593344           1428          3   36.43    3.0   \n",
       "4 2022-01-07 09:27:20.593344           1518          3   15.62    4.0   \n",
       "\n",
       "   daily_sum  daily_count  offer_received  offer_viewed  offer_completed  \n",
       "0   0.047043     0.001833             2.0           0.0              1.0  \n",
       "1   0.093468     0.004108             4.0           4.0              3.0  \n",
       "2   0.042700     0.002219             4.0           3.0              2.0  \n",
       "3   0.025511     0.002101             6.0           6.0              5.0  \n",
       "4   0.010290     0.002635             3.0           2.0              1.0  "
      ]
     },
     "execution_count": 123,
     "metadata": {},
     "output_type": "execute_result"
    }
   ],
   "source": [
    "# Map the offer counts into profile data and fill the N/A values with 0\n",
    "low_secure_volume = pd.merge(low_secure_volume,offer_received_df,on='person_id',how='left')\n",
    "low_secure_volume = pd.merge(low_secure_volume,offer_viewed_df,on='person_id',how='left')\n",
    "low_secure_volume = pd.merge(low_secure_volume,offer_completed_df,on='person_id',how='left')\n",
    "low_secure_volume = low_secure_volume.fillna(0)\n",
    "low_secure_volume.head()"
   ]
  },
  {
   "cell_type": "markdown",
   "metadata": {},
   "source": [
    "Now we can see the correlation between customer characteristics features and their behavior features to see if there's any indication of relationship."
   ]
  },
  {
   "cell_type": "code",
   "execution_count": 124,
   "metadata": {},
   "outputs": [
    {
     "data": {
      "text/html": [
       "<div>\n",
       "<style scoped>\n",
       "    .dataframe tbody tr th:only-of-type {\n",
       "        vertical-align: middle;\n",
       "    }\n",
       "\n",
       "    .dataframe tbody tr th {\n",
       "        vertical-align: top;\n",
       "    }\n",
       "\n",
       "    .dataframe thead th {\n",
       "        text-align: right;\n",
       "    }\n",
       "</style>\n",
       "<table border=\"1\" class=\"dataframe\">\n",
       "  <thead>\n",
       "    <tr style=\"text-align: right;\">\n",
       "      <th></th>\n",
       "      <th>age</th>\n",
       "      <th>gender_id</th>\n",
       "      <th>income</th>\n",
       "      <th>daily_sum</th>\n",
       "      <th>daily_count</th>\n",
       "      <th>offer_received</th>\n",
       "      <th>offer_viewed</th>\n",
       "      <th>offer_completed</th>\n",
       "    </tr>\n",
       "  </thead>\n",
       "  <tbody>\n",
       "    <tr>\n",
       "      <th>age</th>\n",
       "      <td>1.000000</td>\n",
       "      <td>-0.144653</td>\n",
       "      <td>0.306703</td>\n",
       "      <td>0.101733</td>\n",
       "      <td>-0.169903</td>\n",
       "      <td>-0.005827</td>\n",
       "      <td>0.037627</td>\n",
       "      <td>0.114036</td>\n",
       "    </tr>\n",
       "    <tr>\n",
       "      <th>gender_id</th>\n",
       "      <td>-0.144653</td>\n",
       "      <td>1.000000</td>\n",
       "      <td>-0.220746</td>\n",
       "      <td>-0.147381</td>\n",
       "      <td>0.038070</td>\n",
       "      <td>0.000253</td>\n",
       "      <td>-0.011365</td>\n",
       "      <td>-0.166791</td>\n",
       "    </tr>\n",
       "    <tr>\n",
       "      <th>income</th>\n",
       "      <td>0.306703</td>\n",
       "      <td>-0.220746</td>\n",
       "      <td>1.000000</td>\n",
       "      <td>0.305026</td>\n",
       "      <td>-0.290001</td>\n",
       "      <td>-0.006450</td>\n",
       "      <td>0.052653</td>\n",
       "      <td>0.257836</td>\n",
       "    </tr>\n",
       "    <tr>\n",
       "      <th>daily_sum</th>\n",
       "      <td>0.101733</td>\n",
       "      <td>-0.147381</td>\n",
       "      <td>0.305026</td>\n",
       "      <td>1.000000</td>\n",
       "      <td>0.361257</td>\n",
       "      <td>0.085605</td>\n",
       "      <td>0.201034</td>\n",
       "      <td>0.513489</td>\n",
       "    </tr>\n",
       "    <tr>\n",
       "      <th>daily_count</th>\n",
       "      <td>-0.169903</td>\n",
       "      <td>0.038070</td>\n",
       "      <td>-0.290001</td>\n",
       "      <td>0.361257</td>\n",
       "      <td>1.000000</td>\n",
       "      <td>0.165319</td>\n",
       "      <td>0.214432</td>\n",
       "      <td>0.402268</td>\n",
       "    </tr>\n",
       "    <tr>\n",
       "      <th>offer_received</th>\n",
       "      <td>-0.005827</td>\n",
       "      <td>0.000253</td>\n",
       "      <td>-0.006450</td>\n",
       "      <td>0.085605</td>\n",
       "      <td>0.165319</td>\n",
       "      <td>1.000000</td>\n",
       "      <td>0.581137</td>\n",
       "      <td>0.333998</td>\n",
       "    </tr>\n",
       "    <tr>\n",
       "      <th>offer_viewed</th>\n",
       "      <td>0.037627</td>\n",
       "      <td>-0.011365</td>\n",
       "      <td>0.052653</td>\n",
       "      <td>0.201034</td>\n",
       "      <td>0.214432</td>\n",
       "      <td>0.581137</td>\n",
       "      <td>1.000000</td>\n",
       "      <td>0.398986</td>\n",
       "    </tr>\n",
       "    <tr>\n",
       "      <th>offer_completed</th>\n",
       "      <td>0.114036</td>\n",
       "      <td>-0.166791</td>\n",
       "      <td>0.257836</td>\n",
       "      <td>0.513489</td>\n",
       "      <td>0.402268</td>\n",
       "      <td>0.333998</td>\n",
       "      <td>0.398986</td>\n",
       "      <td>1.000000</td>\n",
       "    </tr>\n",
       "  </tbody>\n",
       "</table>\n",
       "</div>"
      ],
      "text/plain": [
       "                      age  gender_id    income  daily_sum  daily_count  \\\n",
       "age              1.000000  -0.144653  0.306703   0.101733    -0.169903   \n",
       "gender_id       -0.144653   1.000000 -0.220746  -0.147381     0.038070   \n",
       "income           0.306703  -0.220746  1.000000   0.305026    -0.290001   \n",
       "daily_sum        0.101733  -0.147381  0.305026   1.000000     0.361257   \n",
       "daily_count     -0.169903   0.038070 -0.290001   0.361257     1.000000   \n",
       "offer_received  -0.005827   0.000253 -0.006450   0.085605     0.165319   \n",
       "offer_viewed     0.037627  -0.011365  0.052653   0.201034     0.214432   \n",
       "offer_completed  0.114036  -0.166791  0.257836   0.513489     0.402268   \n",
       "\n",
       "                 offer_received  offer_viewed  offer_completed  \n",
       "age                   -0.005827      0.037627         0.114036  \n",
       "gender_id              0.000253     -0.011365        -0.166791  \n",
       "income                -0.006450      0.052653         0.257836  \n",
       "daily_sum              0.085605      0.201034         0.513489  \n",
       "daily_count            0.165319      0.214432         0.402268  \n",
       "offer_received         1.000000      0.581137         0.333998  \n",
       "offer_viewed           0.581137      1.000000         0.398986  \n",
       "offer_completed        0.333998      0.398986         1.000000  "
      ]
     },
     "execution_count": 124,
     "metadata": {},
     "output_type": "execute_result"
    }
   ],
   "source": [
    "low_secure_volume[['age','gender_id','income','daily_sum','daily_count','offer_received','offer_viewed','offer_completed']].corr()"
   ]
  },
  {
   "cell_type": "markdown",
   "metadata": {},
   "source": [
    "It is widely accepted that the correlation with absolute value from 0-0.3 indicate a weak relationship, 0.3-0.7 range means a moderate relationship and 0.7-1 means a strong relationship between 2 variable. Base on that guidelines, we can see that the most related pair of features, in descending order, are: offer_viewed & offer_received, daily_sum & offer_completed, daily_count & offer_completed, offer_viewed & offer_completed.<br>\n",
    "This is very easy to understand. When customer receive more offer, they have higher chance to view and complete the offer. And with more offer completed, the spending will increase or vise versa, when customer spend more, they have higher chances to complete an offer whether intentionally or not.<br>"
   ]
  },
  {
   "cell_type": "markdown",
   "metadata": {},
   "source": [
    "Now let's see how the discount program perform on the high security group."
   ]
  },
  {
   "cell_type": "code",
   "execution_count": 125,
   "metadata": {},
   "outputs": [
    {
     "data": {
      "text/html": [
       "<div>\n",
       "<style scoped>\n",
       "    .dataframe tbody tr th:only-of-type {\n",
       "        vertical-align: middle;\n",
       "    }\n",
       "\n",
       "    .dataframe tbody tr th {\n",
       "        vertical-align: top;\n",
       "    }\n",
       "\n",
       "    .dataframe thead th {\n",
       "        text-align: right;\n",
       "    }\n",
       "</style>\n",
       "<table border=\"1\" class=\"dataframe\">\n",
       "  <thead>\n",
       "    <tr style=\"text-align: right;\">\n",
       "      <th></th>\n",
       "      <th>daily_sum</th>\n",
       "      <th>daily_count</th>\n",
       "      <th>offer_received</th>\n",
       "      <th>offer_viewed</th>\n",
       "      <th>offer_completed</th>\n",
       "    </tr>\n",
       "  </thead>\n",
       "  <tbody>\n",
       "    <tr>\n",
       "      <th>daily_sum</th>\n",
       "      <td>1.000000</td>\n",
       "      <td>0.568561</td>\n",
       "      <td>0.127424</td>\n",
       "      <td>0.087694</td>\n",
       "      <td>0.561028</td>\n",
       "    </tr>\n",
       "    <tr>\n",
       "      <th>daily_count</th>\n",
       "      <td>0.568561</td>\n",
       "      <td>1.000000</td>\n",
       "      <td>0.165140</td>\n",
       "      <td>0.157720</td>\n",
       "      <td>0.457855</td>\n",
       "    </tr>\n",
       "    <tr>\n",
       "      <th>offer_received</th>\n",
       "      <td>0.127424</td>\n",
       "      <td>0.165140</td>\n",
       "      <td>1.000000</td>\n",
       "      <td>0.633845</td>\n",
       "      <td>0.176981</td>\n",
       "    </tr>\n",
       "    <tr>\n",
       "      <th>offer_viewed</th>\n",
       "      <td>0.087694</td>\n",
       "      <td>0.157720</td>\n",
       "      <td>0.633845</td>\n",
       "      <td>1.000000</td>\n",
       "      <td>0.086336</td>\n",
       "    </tr>\n",
       "    <tr>\n",
       "      <th>offer_completed</th>\n",
       "      <td>0.561028</td>\n",
       "      <td>0.457855</td>\n",
       "      <td>0.176981</td>\n",
       "      <td>0.086336</td>\n",
       "      <td>1.000000</td>\n",
       "    </tr>\n",
       "  </tbody>\n",
       "</table>\n",
       "</div>"
      ],
      "text/plain": [
       "                 daily_sum  daily_count  offer_received  offer_viewed  \\\n",
       "daily_sum         1.000000     0.568561        0.127424      0.087694   \n",
       "daily_count       0.568561     1.000000        0.165140      0.157720   \n",
       "offer_received    0.127424     0.165140        1.000000      0.633845   \n",
       "offer_viewed      0.087694     0.157720        0.633845      1.000000   \n",
       "offer_completed   0.561028     0.457855        0.176981      0.086336   \n",
       "\n",
       "                 offer_completed  \n",
       "daily_sum               0.561028  \n",
       "daily_count             0.457855  \n",
       "offer_received          0.176981  \n",
       "offer_viewed            0.086336  \n",
       "offer_completed         1.000000  "
      ]
     },
     "execution_count": 125,
     "metadata": {},
     "output_type": "execute_result"
    }
   ],
   "source": [
    "high_secure_volume = pd.merge(high_secure_volume,offer_received_df,on='person_id',how='left')\n",
    "high_secure_volume = pd.merge(high_secure_volume,offer_viewed_df,on='person_id',how='left')\n",
    "high_secure_volume = pd.merge(high_secure_volume,offer_completed_df,on='person_id',how='left')\n",
    "high_secure_volume = high_secure_volume.fillna(0)\n",
    "high_secure_volume[['daily_sum','daily_count','offer_received','offer_viewed','offer_completed']].corr()"
   ]
  },
  {
   "cell_type": "markdown",
   "metadata": {},
   "source": [
    "The high security group observed a little difference in offer-responsiveness. The correlation between offer received and offer viewed is very high (0.63) but the correlation of offer received/viewed with offer completed is very low (0.18 and 0.09 respectively). There is a high correlation between offer completed and daily spending though (0.56)."
   ]
  },
  {
   "cell_type": "markdown",
   "metadata": {},
   "source": [
    "To better evaluate the offer responsiveness, we will convert the absolute number of event to offer viewed over received and offer completed over received rates."
   ]
  },
  {
   "cell_type": "code",
   "execution_count": 126,
   "metadata": {},
   "outputs": [],
   "source": [
    "high_secure_volume['view_rate']=high_secure_volume['offer_viewed']/high_secure_volume['offer_received']\n",
    "high_secure_volume['complete_rate']=high_secure_volume['offer_completed']/high_secure_volume['offer_received']\n",
    "low_secure_volume['view_rate']=low_secure_volume['offer_viewed']/low_secure_volume['offer_received']\n",
    "low_secure_volume['complete_rate']=low_secure_volume['offer_completed']/low_secure_volume['offer_received']"
   ]
  },
  {
   "cell_type": "markdown",
   "metadata": {},
   "source": [
    "For people that received no offer, the division will return N/A value. We need to check how many N/A value we have in order to decide what to do with them."
   ]
  },
  {
   "cell_type": "code",
   "execution_count": 127,
   "metadata": {},
   "outputs": [
    {
     "data": {
      "text/plain": [
       "1"
      ]
     },
     "execution_count": 127,
     "metadata": {},
     "output_type": "execute_result"
    }
   ],
   "source": [
    "high_secure_volume['view_rate'].isnull().sum(axis = 0)"
   ]
  },
  {
   "cell_type": "code",
   "execution_count": 128,
   "metadata": {},
   "outputs": [
    {
     "data": {
      "text/plain": [
       "5"
      ]
     },
     "execution_count": 128,
     "metadata": {},
     "output_type": "execute_result"
    }
   ],
   "source": [
    "low_secure_volume['view_rate'].isnull().sum(axis = 0)"
   ]
  },
  {
   "cell_type": "code",
   "execution_count": 129,
   "metadata": {},
   "outputs": [],
   "source": [
    "# Because the number of N/A in both dataframes are very small, the rate will be calculated as 0 for N/A values.\n",
    "high_secure_volume[['view_rate','complete_rate']]=high_secure_volume[['view_rate','complete_rate']].fillna(0)\n",
    "low_secure_volume[['view_rate','complete_rate']]=low_secure_volume[['view_rate','complete_rate']].fillna(0)"
   ]
  },
  {
   "cell_type": "code",
   "execution_count": 137,
   "metadata": {},
   "outputs": [
    {
     "data": {
      "text/html": [
       "<div>\n",
       "<style scoped>\n",
       "    .dataframe tbody tr th:only-of-type {\n",
       "        vertical-align: middle;\n",
       "    }\n",
       "\n",
       "    .dataframe tbody tr th {\n",
       "        vertical-align: top;\n",
       "    }\n",
       "\n",
       "    .dataframe thead th {\n",
       "        text-align: right;\n",
       "    }\n",
       "</style>\n",
       "<table border=\"1\" class=\"dataframe\">\n",
       "  <thead>\n",
       "    <tr style=\"text-align: right;\">\n",
       "      <th></th>\n",
       "      <th>view_rate</th>\n",
       "      <th>complete_rate</th>\n",
       "    </tr>\n",
       "  </thead>\n",
       "  <tbody>\n",
       "    <tr>\n",
       "      <th>count</th>\n",
       "      <td>2175.000000</td>\n",
       "      <td>2175.000000</td>\n",
       "    </tr>\n",
       "    <tr>\n",
       "      <th>mean</th>\n",
       "      <td>0.806766</td>\n",
       "      <td>0.115487</td>\n",
       "    </tr>\n",
       "    <tr>\n",
       "      <th>std</th>\n",
       "      <td>0.226346</td>\n",
       "      <td>0.181112</td>\n",
       "    </tr>\n",
       "    <tr>\n",
       "      <th>min</th>\n",
       "      <td>0.000000</td>\n",
       "      <td>0.000000</td>\n",
       "    </tr>\n",
       "    <tr>\n",
       "      <th>25%</th>\n",
       "      <td>0.666667</td>\n",
       "      <td>0.000000</td>\n",
       "    </tr>\n",
       "    <tr>\n",
       "      <th>50%</th>\n",
       "      <td>0.833333</td>\n",
       "      <td>0.000000</td>\n",
       "    </tr>\n",
       "    <tr>\n",
       "      <th>75%</th>\n",
       "      <td>1.000000</td>\n",
       "      <td>0.200000</td>\n",
       "    </tr>\n",
       "    <tr>\n",
       "      <th>max</th>\n",
       "      <td>1.000000</td>\n",
       "      <td>1.000000</td>\n",
       "    </tr>\n",
       "  </tbody>\n",
       "</table>\n",
       "</div>"
      ],
      "text/plain": [
       "         view_rate  complete_rate\n",
       "count  2175.000000    2175.000000\n",
       "mean      0.806766       0.115487\n",
       "std       0.226346       0.181112\n",
       "min       0.000000       0.000000\n",
       "25%       0.666667       0.000000\n",
       "50%       0.833333       0.000000\n",
       "75%       1.000000       0.200000\n",
       "max       1.000000       1.000000"
      ]
     },
     "execution_count": 137,
     "metadata": {},
     "output_type": "execute_result"
    }
   ],
   "source": [
    "high_secure_volume[['view_rate','complete_rate']].describe()"
   ]
  },
  {
   "cell_type": "code",
   "execution_count": 138,
   "metadata": {},
   "outputs": [
    {
     "data": {
      "text/html": [
       "<div>\n",
       "<style scoped>\n",
       "    .dataframe tbody tr th:only-of-type {\n",
       "        vertical-align: middle;\n",
       "    }\n",
       "\n",
       "    .dataframe tbody tr th {\n",
       "        vertical-align: top;\n",
       "    }\n",
       "\n",
       "    .dataframe thead th {\n",
       "        text-align: right;\n",
       "    }\n",
       "</style>\n",
       "<table border=\"1\" class=\"dataframe\">\n",
       "  <thead>\n",
       "    <tr style=\"text-align: right;\">\n",
       "      <th></th>\n",
       "      <th>view_rate</th>\n",
       "      <th>complete_rate</th>\n",
       "    </tr>\n",
       "  </thead>\n",
       "  <tbody>\n",
       "    <tr>\n",
       "      <th>count</th>\n",
       "      <td>14825.000000</td>\n",
       "      <td>14825.000000</td>\n",
       "    </tr>\n",
       "    <tr>\n",
       "      <th>mean</th>\n",
       "      <td>0.753270</td>\n",
       "      <td>0.487377</td>\n",
       "    </tr>\n",
       "    <tr>\n",
       "      <th>std</th>\n",
       "      <td>0.236818</td>\n",
       "      <td>0.331082</td>\n",
       "    </tr>\n",
       "    <tr>\n",
       "      <th>min</th>\n",
       "      <td>0.000000</td>\n",
       "      <td>0.000000</td>\n",
       "    </tr>\n",
       "    <tr>\n",
       "      <th>25%</th>\n",
       "      <td>0.600000</td>\n",
       "      <td>0.200000</td>\n",
       "    </tr>\n",
       "    <tr>\n",
       "      <th>50%</th>\n",
       "      <td>0.800000</td>\n",
       "      <td>0.500000</td>\n",
       "    </tr>\n",
       "    <tr>\n",
       "      <th>75%</th>\n",
       "      <td>1.000000</td>\n",
       "      <td>0.750000</td>\n",
       "    </tr>\n",
       "    <tr>\n",
       "      <th>max</th>\n",
       "      <td>1.000000</td>\n",
       "      <td>1.000000</td>\n",
       "    </tr>\n",
       "  </tbody>\n",
       "</table>\n",
       "</div>"
      ],
      "text/plain": [
       "          view_rate  complete_rate\n",
       "count  14825.000000   14825.000000\n",
       "mean       0.753270       0.487377\n",
       "std        0.236818       0.331082\n",
       "min        0.000000       0.000000\n",
       "25%        0.600000       0.200000\n",
       "50%        0.800000       0.500000\n",
       "75%        1.000000       0.750000\n",
       "max        1.000000       1.000000"
      ]
     },
     "execution_count": 138,
     "metadata": {},
     "output_type": "execute_result"
    }
   ],
   "source": [
    "low_secure_volume[['view_rate','complete_rate']].describe()"
   ]
  },
  {
   "cell_type": "markdown",
   "metadata": {},
   "source": [
    "Let's plot the view/complete rate again and perform T-test to compare the 2 groups."
   ]
  },
  {
   "cell_type": "code",
   "execution_count": 132,
   "metadata": {},
   "outputs": [
    {
     "data": {
      "text/plain": [
       "Text(0,0.5,'Density')"
      ]
     },
     "execution_count": 132,
     "metadata": {},
     "output_type": "execute_result"
    },
    {
     "data": {
      "image/png": "[encoded data removed]",
      "text/plain": [
       "<matplotlib.figure.Figure at 0x7f1b7d80c4e0>"
      ]
     },
     "metadata": {
      "needs_background": "light"
     },
     "output_type": "display_data"
    }
   ],
   "source": [
    "# Plot the view rate\n",
    "sns.distplot(high_secure_volume['view_rate'], hist = False, kde = True,\n",
    "             kde_kws = {'linewidth': 3},\n",
    "             label = 'High security')\n",
    "sns.distplot(low_secure_volume['view_rate'], hist = False, kde = True,\n",
    "             kde_kws = {'linewidth': 3},\n",
    "             label = 'Low security')\n",
    "plt.legend()\n",
    "plt.title('Offer View Rate with Security Groups')\n",
    "plt.xlabel('Offer View Rate')\n",
    "plt.ylabel('Density')"
   ]
  },
  {
   "cell_type": "code",
   "execution_count": 133,
   "metadata": {},
   "outputs": [
    {
     "data": {
      "text/plain": [
       "Ttest_indResult(statistic=9.8928866265652839, pvalue=5.1576013423780042e-23)"
      ]
     },
     "execution_count": 133,
     "metadata": {},
     "output_type": "execute_result"
    }
   ],
   "source": [
    "# Perform T-test on view rate\n",
    "ttest_view=ttest_ind(high_secure_volume['view_rate'], low_secure_volume['view_rate'])\n",
    "ttest_view"
   ]
  },
  {
   "cell_type": "code",
   "execution_count": 134,
   "metadata": {},
   "outputs": [
    {
     "data": {
      "text/plain": [
       "Text(0,0.5,'Density')"
      ]
     },
     "execution_count": 134,
     "metadata": {},
     "output_type": "execute_result"
    },
    {
     "data": {
      "image/png": "[encoded data removed]",
      "text/plain": [
       "<matplotlib.figure.Figure at 0x7f1b7d7b8f98>"
      ]
     },
     "metadata": {
      "needs_background": "light"
     },
     "output_type": "display_data"
    }
   ],
   "source": [
    "# Plot the complete rate\n",
    "sns.distplot(high_secure_volume['complete_rate'], hist = False, kde = True,\n",
    "             kde_kws = {'linewidth': 3},\n",
    "             label = 'High security')\n",
    "sns.distplot(low_secure_volume['complete_rate'], hist = False, kde = True,\n",
    "             kde_kws = {'linewidth': 3},\n",
    "             label = 'Low security')\n",
    "plt.legend()\n",
    "plt.title('Offer Complete Rate with Security Groups')\n",
    "plt.xlabel('Offer Complete Rate')\n",
    "plt.ylabel('Density')"
   ]
  },
  {
   "cell_type": "code",
   "execution_count": 135,
   "metadata": {},
   "outputs": [
    {
     "data": {
      "text/plain": [
       "Ttest_indResult(statistic=-51.271049956216942, pvalue=0.0)"
      ]
     },
     "execution_count": 135,
     "metadata": {},
     "output_type": "execute_result"
    }
   ],
   "source": [
    "# Perform T-test on complete rate\n",
    "ttest_view=ttest_ind(high_secure_volume['complete_rate'], low_secure_volume['complete_rate'])\n",
    "ttest_view"
   ]
  },
  {
   "cell_type": "markdown",
   "metadata": {},
   "source": [
    "The density charts show that there was somewhat a similar distribution in view rate between the 2 groups but the complete rate follow totally different trends. T-test result showed that there is still a significant differences in means of both view rate and complete rate between 2 groups.<br>\n",
    "With that result, we can say that the responsiveness to offer is much lower in high security group in comparison with the low security group.<br>"
   ]
  },
  {
   "cell_type": "markdown",
   "metadata": {},
   "source": [
    "# Conclusion"
   ]
  },
  {
   "cell_type": "markdown",
   "metadata": {},
   "source": [
    "The relationship between security and spending, as well as between security and offer responsiveness has been proved. We eliminate the possibility that the high security group simply don't care about offers or don't have much interest in the brand because their offer view rate, though different, but was even higher than the other group (0.81 and 0.75). They cared, or at least was curious about the offers but it was not attractive enough for them to complete.<br>\n",
    "The most reasonable explanation here is that because of lacking demographic information, the offer strategies were not personalized enough for those people. To solve this, either Starbucks can think of other offer program and test until they have a good response on those people, or they can find a way to collect more information from them.<br>\n",
    "On a positive side, we can say that the offer personalizing strategy is working well because the people who provided personal information are very responsive with high completed rate and high spending volume.<br>"
   ]
  },
  {
   "cell_type": "markdown",
   "metadata": {},
   "source": [
    "## Limitation"
   ]
  },
  {
   "cell_type": "markdown",
   "metadata": {},
   "source": [
    "There is one problem with the completed offers that hasn't been tackled in this solution is that: a person may accidently complete an offer without seeing/knowing it. To evaluate the responsiveness more precisely, we can eliminate the accidently completed offers by filtering only offer completed within offering time (from received until expired) and after it was viewed.<br>\n",
    "However, given the very high rate of viewed offer and the huge different in complete trend between 2 groups, we can say that performing further cleaning will not likely change the result of this analysis.<br>\n",
    "Another limitation of this research is that there are some valuable data that has not been utilized, for example: demographic information, offer channels. We can do many things with those data, such as: using regression to predict transaction amount and offer responsiveness, perform classification to find the most suitable offer to each customer group. Those are not in the focus of this solution but can be good suggestions for further analysis. "
   ]
  },
  {
   "cell_type": "markdown",
   "metadata": {},
   "source": [
    "# End."
   ]
  }
 ],
 "metadata": {
  "kernelspec": {
   "display_name": "Python 3",
   "language": "python",
   "name": "python3"
  },
  "language_info": {
   "codemirror_mode": {
    "name": "ipython",
    "version": 3
   },
   "file_extension": ".py",
   "mimetype": "text/x-python",
   "name": "python",
   "nbconvert_exporter": "python",
   "pygments_lexer": "ipython3",
   "version": "3.6.3"
  }
 },
 "nbformat": 4,
 "nbformat_minor": 2
}
